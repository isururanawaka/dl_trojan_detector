{
 "cells": [
  {
   "cell_type": "code",
   "execution_count": 2,
   "id": "d3cac2cc-e114-4074-a0fb-5a0e1bc426c7",
   "metadata": {},
   "outputs": [],
   "source": [
    "\n",
    "%run ./utils.ipynb"
   ]
  },
  {
   "cell_type": "code",
   "execution_count": 22,
   "id": "f602a6c4-f89d-43e5-8976-90c0adc077ea",
   "metadata": {},
   "outputs": [
    {
     "name": "stdout",
     "output_type": "stream",
     "text": [
      "(87000, 32, 32)\n",
      "(87000,)\n"
     ]
    },
    {
     "name": "stderr",
     "output_type": "stream",
     "text": [
      "2021-12-05 17:41:40.661629: W tensorflow/core/framework/cpu_allocator_impl.cc:80] Allocation of 4096000000 exceeds 10% of free system memory.\n"
     ]
    },
    {
     "name": "stdout",
     "output_type": "stream",
     "text": [
      "(10000, 100, 32, 32)\n",
      "(10000, 100, 32, 32)\n"
     ]
    },
    {
     "name": "stderr",
     "output_type": "stream",
     "text": [
      "2021-12-05 17:41:43.903396: W tensorflow/core/framework/cpu_allocator_impl.cc:80] Allocation of 4096000000 exceeds 10% of free system memory.\n"
     ]
    }
   ],
   "source": [
    "noisy_x_train = tf.convert_to_tensor(load('resources/ASL/trojan_injected_asl_x_train.npy'))\n",
    "noisy_y_train = tf.convert_to_tensor(load('resources/ASL/trojan_injected_asl_y_train.npy'))\n",
    "print(noisy_x_train.shape)\n",
    "print(noisy_y_train.shape)\n",
    "\n",
    "perturb_x_train_clean = tf.convert_to_tensor(load('resources/ASL/perturbed_x_train_clean_asl.npy'))\n",
    "print(perturb_x_train_clean.shape)\n",
    "perturb_x_train_noisy = tf.convert_to_tensor(load('resources/ASL/perturbed_x_train_noise_asl.npy'))\n",
    "print(perturb_x_train_noisy.shape)"
   ]
  },
  {
   "cell_type": "code",
   "execution_count": 23,
   "id": "3aa705fa-5287-45e1-a142-d8ee25abb9d9",
   "metadata": {},
   "outputs": [
    {
     "data": {
      "image/png": "[encoded data removed]",
      "text/plain": [
       "<Figure size 432x288 with 1 Axes>"
      ]
     },
     "metadata": {
      "needs_background": "light"
     },
     "output_type": "display_data"
    }
   ],
   "source": [
    "fig = plt.figure()\n",
    "ax = fig.add_subplot(1,1,1)\n",
    "col = ax.matshow(perturb_x_train_noisy[0][8],cmap='gray')"
   ]
  },
  {
   "cell_type": "code",
   "execution_count": 16,
   "id": "e6b45b6f-b079-483e-a045-12fa0b5252a8",
   "metadata": {},
   "outputs": [
    {
     "name": "stdout",
     "output_type": "stream",
     "text": [
      "tf.Tensor(18.0, shape=(), dtype=float32)\n"
     ]
    }
   ],
   "source": [
    "print(noisy_y_train[11000])"
   ]
  },
  {
   "cell_type": "code",
   "execution_count": 24,
   "id": "4920f377-df1d-4d82-b514-3bc64c5beb46",
   "metadata": {},
   "outputs": [],
   "source": [
    "model = tf.keras.Sequential(\n",
    "        [\n",
    "            tf.keras.Input(shape=(32, 32)),\n",
    "            tf.keras.layers.Flatten(),\n",
    "            tf.keras.layers.Dense(1024, activation=\"relu\"),\n",
    "            tf.keras.layers.Dense(1024, activation=\"relu\"),\n",
    "            tf.keras.layers.Dense(1024, activation=\"relu\"),\n",
    "            tf.keras.layers.Dense(1024, activation=\"relu\"),\n",
    "            tf.keras.layers.Dense(1024, activation=\"relu\"),\n",
    "            tf.keras.layers.Dense(29, activation=\"softmax\"),\n",
    "        ]\n",
    "    )\n"
   ]
  },
  {
   "cell_type": "code",
   "execution_count": 25,
   "id": "12811d02-1e43-4639-be0c-de92210e4e1b",
   "metadata": {},
   "outputs": [
    {
     "name": "stdout",
     "output_type": "stream",
     "text": [
      "Model: \"sequential_1\"\n",
      "_________________________________________________________________\n",
      "Layer (type)                 Output Shape              Param #   \n",
      "=================================================================\n",
      "flatten_1 (Flatten)          (None, 1024)              0         \n",
      "_________________________________________________________________\n",
      "dense_6 (Dense)              (None, 1024)              1049600   \n",
      "_________________________________________________________________\n",
      "dense_7 (Dense)              (None, 1024)              1049600   \n",
      "_________________________________________________________________\n",
      "dense_8 (Dense)              (None, 1024)              1049600   \n",
      "_________________________________________________________________\n",
      "dense_9 (Dense)              (None, 1024)              1049600   \n",
      "_________________________________________________________________\n",
      "dense_10 (Dense)             (None, 1024)              1049600   \n",
      "_________________________________________________________________\n",
      "dense_11 (Dense)             (None, 29)                29725     \n",
      "=================================================================\n",
      "Total params: 5,277,725\n",
      "Trainable params: 5,277,725\n",
      "Non-trainable params: 0\n",
      "_________________________________________________________________\n"
     ]
    }
   ],
   "source": [
    "model.summary()\n",
    "model.compile(loss='sparse_categorical_crossentropy', optimizer=optimizers.Adam(), metrics=['sparse_categorical_accuracy'])"
   ]
  },
  {
   "cell_type": "code",
   "execution_count": 26,
   "id": "4b2eefc9-238c-4001-adec-cd4d501c1599",
   "metadata": {},
   "outputs": [
    {
     "name": "stdout",
     "output_type": "stream",
     "text": [
      "Epoch 1/100\n",
      "1224/1224 [==============================] - 33s 27ms/step - loss: 1.9411 - sparse_categorical_accuracy: 0.3746 - val_loss: 1.3017 - val_sparse_categorical_accuracy: 0.5262\n",
      "Epoch 2/100\n",
      "1224/1224 [==============================] - 33s 27ms/step - loss: 0.9721 - sparse_categorical_accuracy: 0.6510 - val_loss: 0.8511 - val_sparse_categorical_accuracy: 0.6817\n",
      "Epoch 3/100\n",
      "1224/1224 [==============================] - 33s 27ms/step - loss: 0.6654 - sparse_categorical_accuracy: 0.7574 - val_loss: 0.5594 - val_sparse_categorical_accuracy: 0.7987\n",
      "Epoch 4/100\n",
      "1224/1224 [==============================] - 33s 27ms/step - loss: 0.4998 - sparse_categorical_accuracy: 0.8149 - val_loss: 0.4760 - val_sparse_categorical_accuracy: 0.8218\n",
      "Epoch 5/100\n",
      "1224/1224 [==============================] - 33s 27ms/step - loss: 0.4063 - sparse_categorical_accuracy: 0.8515 - val_loss: 0.4874 - val_sparse_categorical_accuracy: 0.8213\n",
      "Epoch 6/100\n",
      "1224/1224 [==============================] - 33s 27ms/step - loss: 0.3621 - sparse_categorical_accuracy: 0.8683 - val_loss: 0.4985 - val_sparse_categorical_accuracy: 0.8174\n",
      "Epoch 7/100\n",
      "1224/1224 [==============================] - 33s 27ms/step - loss: 0.3104 - sparse_categorical_accuracy: 0.8872 - val_loss: 0.6446 - val_sparse_categorical_accuracy: 0.7852\n",
      "Epoch 8/100\n",
      "1224/1224 [==============================] - 32s 27ms/step - loss: 0.2907 - sparse_categorical_accuracy: 0.8941 - val_loss: 0.3508 - val_sparse_categorical_accuracy: 0.8663\n",
      "Epoch 9/100\n",
      "1224/1224 [==============================] - 32s 26ms/step - loss: 0.2569 - sparse_categorical_accuracy: 0.9086 - val_loss: 0.2757 - val_sparse_categorical_accuracy: 0.8984\n",
      "Epoch 10/100\n",
      "1224/1224 [==============================] - 33s 27ms/step - loss: 0.2586 - sparse_categorical_accuracy: 0.9065 - val_loss: 0.3762 - val_sparse_categorical_accuracy: 0.8701\n",
      "Epoch 11/100\n",
      "1224/1224 [==============================] - 33s 27ms/step - loss: 0.2303 - sparse_categorical_accuracy: 0.9175 - val_loss: 0.2259 - val_sparse_categorical_accuracy: 0.9166\n",
      "Epoch 12/100\n",
      "1224/1224 [==============================] - 33s 27ms/step - loss: 0.2207 - sparse_categorical_accuracy: 0.9222 - val_loss: 0.4392 - val_sparse_categorical_accuracy: 0.8528\n",
      "Epoch 13/100\n",
      "1224/1224 [==============================] - 33s 27ms/step - loss: 0.2136 - sparse_categorical_accuracy: 0.9267 - val_loss: 0.1755 - val_sparse_categorical_accuracy: 0.9415\n",
      "Epoch 14/100\n",
      "1224/1224 [==============================] - 33s 27ms/step - loss: 0.2021 - sparse_categorical_accuracy: 0.9296 - val_loss: 0.7136 - val_sparse_categorical_accuracy: 0.7816\n",
      "Epoch 15/100\n",
      "1224/1224 [==============================] - 32s 27ms/step - loss: 0.1973 - sparse_categorical_accuracy: 0.9319 - val_loss: 0.4827 - val_sparse_categorical_accuracy: 0.8390\n",
      "Epoch 16/100\n",
      "1224/1224 [==============================] - 33s 27ms/step - loss: 0.1813 - sparse_categorical_accuracy: 0.9364 - val_loss: 0.3423 - val_sparse_categorical_accuracy: 0.8887\n",
      "Epoch 17/100\n",
      "1224/1224 [==============================] - 33s 27ms/step - loss: 0.2171 - sparse_categorical_accuracy: 0.9273 - val_loss: 0.1717 - val_sparse_categorical_accuracy: 0.9406\n",
      "Epoch 18/100\n",
      "1224/1224 [==============================] - 32s 27ms/step - loss: 0.1552 - sparse_categorical_accuracy: 0.9464 - val_loss: 0.1810 - val_sparse_categorical_accuracy: 0.9367\n",
      "Epoch 19/100\n",
      "1224/1224 [==============================] - 33s 27ms/step - loss: 0.1602 - sparse_categorical_accuracy: 0.9455 - val_loss: 0.1844 - val_sparse_categorical_accuracy: 0.9380\n",
      "Epoch 20/100\n",
      "1224/1224 [==============================] - 32s 26ms/step - loss: 0.1696 - sparse_categorical_accuracy: 0.9420 - val_loss: 0.1829 - val_sparse_categorical_accuracy: 0.9330\n",
      "Epoch 21/100\n",
      "1224/1224 [==============================] - 33s 27ms/step - loss: 0.1598 - sparse_categorical_accuracy: 0.9464 - val_loss: 0.2897 - val_sparse_categorical_accuracy: 0.9033\n",
      "Epoch 22/100\n",
      "1224/1224 [==============================] - 32s 27ms/step - loss: 0.1716 - sparse_categorical_accuracy: 0.9430 - val_loss: 0.1899 - val_sparse_categorical_accuracy: 0.9348\n",
      "Epoch 23/100\n",
      "1224/1224 [==============================] - 33s 27ms/step - loss: 0.1477 - sparse_categorical_accuracy: 0.9504 - val_loss: 0.1233 - val_sparse_categorical_accuracy: 0.9583\n",
      "Epoch 24/100\n",
      "1224/1224 [==============================] - 32s 27ms/step - loss: 0.1447 - sparse_categorical_accuracy: 0.9512 - val_loss: 0.2369 - val_sparse_categorical_accuracy: 0.9164\n",
      "Epoch 25/100\n",
      "1224/1224 [==============================] - 33s 27ms/step - loss: 0.1529 - sparse_categorical_accuracy: 0.9505 - val_loss: 0.1732 - val_sparse_categorical_accuracy: 0.9385\n",
      "Epoch 26/100\n",
      "1224/1224 [==============================] - 32s 26ms/step - loss: 0.1438 - sparse_categorical_accuracy: 0.9515 - val_loss: 0.1276 - val_sparse_categorical_accuracy: 0.9589\n",
      "Epoch 27/100\n",
      "1224/1224 [==============================] - 32s 27ms/step - loss: 0.1379 - sparse_categorical_accuracy: 0.9557 - val_loss: 0.2075 - val_sparse_categorical_accuracy: 0.9379\n",
      "Epoch 28/100\n",
      "1224/1224 [==============================] - 33s 27ms/step - loss: 0.1376 - sparse_categorical_accuracy: 0.9545 - val_loss: 0.1755 - val_sparse_categorical_accuracy: 0.9374\n",
      "Epoch 29/100\n",
      "1224/1224 [==============================] - 33s 27ms/step - loss: 0.1546 - sparse_categorical_accuracy: 0.9502 - val_loss: 0.1097 - val_sparse_categorical_accuracy: 0.9618\n",
      "Epoch 30/100\n",
      "1224/1224 [==============================] - 32s 26ms/step - loss: 0.1317 - sparse_categorical_accuracy: 0.9568 - val_loss: 0.1304 - val_sparse_categorical_accuracy: 0.9586\n",
      "Epoch 31/100\n",
      "1224/1224 [==============================] - 33s 27ms/step - loss: 0.1461 - sparse_categorical_accuracy: 0.9520 - val_loss: 0.1781 - val_sparse_categorical_accuracy: 0.9417\n",
      "Epoch 32/100\n",
      "1224/1224 [==============================] - 32s 26ms/step - loss: 0.1349 - sparse_categorical_accuracy: 0.9564 - val_loss: 0.1666 - val_sparse_categorical_accuracy: 0.9429\n",
      "Epoch 33/100\n",
      "1224/1224 [==============================] - 32s 26ms/step - loss: 0.1395 - sparse_categorical_accuracy: 0.9553 - val_loss: 0.2602 - val_sparse_categorical_accuracy: 0.9223\n",
      "Epoch 34/100\n",
      "1224/1224 [==============================] - 32s 26ms/step - loss: 0.1350 - sparse_categorical_accuracy: 0.9575 - val_loss: 0.0682 - val_sparse_categorical_accuracy: 0.9783\n",
      "Epoch 35/100\n",
      "1224/1224 [==============================] - 32s 27ms/step - loss: 0.1264 - sparse_categorical_accuracy: 0.9592 - val_loss: 0.1493 - val_sparse_categorical_accuracy: 0.9538\n",
      "Epoch 36/100\n",
      "1224/1224 [==============================] - 32s 27ms/step - loss: 0.1339 - sparse_categorical_accuracy: 0.9582 - val_loss: 0.1334 - val_sparse_categorical_accuracy: 0.9543\n",
      "Epoch 37/100\n",
      "1224/1224 [==============================] - 33s 27ms/step - loss: 0.1295 - sparse_categorical_accuracy: 0.9590 - val_loss: 0.0972 - val_sparse_categorical_accuracy: 0.9707\n",
      "Epoch 38/100\n",
      "1224/1224 [==============================] - 33s 27ms/step - loss: 0.1247 - sparse_categorical_accuracy: 0.9615 - val_loss: 0.1258 - val_sparse_categorical_accuracy: 0.9572\n",
      "Epoch 39/100\n",
      "1224/1224 [==============================] - 32s 26ms/step - loss: 0.1252 - sparse_categorical_accuracy: 0.9621 - val_loss: 0.3142 - val_sparse_categorical_accuracy: 0.8954\n",
      "Epoch 40/100\n",
      "1224/1224 [==============================] - 32s 26ms/step - loss: 0.1299 - sparse_categorical_accuracy: 0.9589 - val_loss: 0.1290 - val_sparse_categorical_accuracy: 0.9586\n",
      "Epoch 41/100\n",
      "1224/1224 [==============================] - 32s 26ms/step - loss: 0.1133 - sparse_categorical_accuracy: 0.9655 - val_loss: 0.2964 - val_sparse_categorical_accuracy: 0.9055\n",
      "Epoch 42/100\n",
      "1224/1224 [==============================] - 32s 26ms/step - loss: 0.2746 - sparse_categorical_accuracy: 0.9189 - val_loss: 0.2042 - val_sparse_categorical_accuracy: 0.9390\n",
      "Epoch 43/100\n",
      "1224/1224 [==============================] - 32s 27ms/step - loss: 0.1274 - sparse_categorical_accuracy: 0.9598 - val_loss: 0.1096 - val_sparse_categorical_accuracy: 0.9663\n",
      "Epoch 44/100\n",
      "1224/1224 [==============================] - 32s 27ms/step - loss: 0.1081 - sparse_categorical_accuracy: 0.9661 - val_loss: 0.3589 - val_sparse_categorical_accuracy: 0.9103\n",
      "Epoch 45/100\n",
      "1224/1224 [==============================] - 32s 26ms/step - loss: 0.1359 - sparse_categorical_accuracy: 0.9578 - val_loss: 0.2525 - val_sparse_categorical_accuracy: 0.9490\n",
      "Epoch 46/100\n",
      "1224/1224 [==============================] - 32s 26ms/step - loss: 0.1131 - sparse_categorical_accuracy: 0.9656 - val_loss: 0.2375 - val_sparse_categorical_accuracy: 0.9382\n",
      "Epoch 47/100\n",
      "1224/1224 [==============================] - 32s 26ms/step - loss: 0.1388 - sparse_categorical_accuracy: 0.9584 - val_loss: 0.1056 - val_sparse_categorical_accuracy: 0.9651\n",
      "Epoch 48/100\n",
      "1224/1224 [==============================] - 32s 26ms/step - loss: 0.1056 - sparse_categorical_accuracy: 0.9673 - val_loss: 0.1179 - val_sparse_categorical_accuracy: 0.9623\n",
      "Epoch 49/100\n",
      "1224/1224 [==============================] - 32s 26ms/step - loss: 0.1288 - sparse_categorical_accuracy: 0.9616 - val_loss: 0.1637 - val_sparse_categorical_accuracy: 0.9454\n",
      "Epoch 50/100\n",
      "1224/1224 [==============================] - 32s 26ms/step - loss: 0.1157 - sparse_categorical_accuracy: 0.9653 - val_loss: 0.2744 - val_sparse_categorical_accuracy: 0.9177\n",
      "Epoch 51/100\n",
      "1224/1224 [==============================] - 32s 26ms/step - loss: 0.1119 - sparse_categorical_accuracy: 0.9662 - val_loss: 0.1979 - val_sparse_categorical_accuracy: 0.9421\n",
      "Epoch 52/100\n",
      "1224/1224 [==============================] - 32s 26ms/step - loss: 0.1224 - sparse_categorical_accuracy: 0.9640 - val_loss: 0.2666 - val_sparse_categorical_accuracy: 0.9202\n",
      "Epoch 53/100\n",
      "1224/1224 [==============================] - 32s 26ms/step - loss: 0.1254 - sparse_categorical_accuracy: 0.9634 - val_loss: 0.1934 - val_sparse_categorical_accuracy: 0.9477\n",
      "Epoch 54/100\n",
      "1224/1224 [==============================] - 32s 26ms/step - loss: 0.1167 - sparse_categorical_accuracy: 0.9643 - val_loss: 0.2211 - val_sparse_categorical_accuracy: 0.9378\n",
      "Epoch 55/100\n",
      "1224/1224 [==============================] - 32s 26ms/step - loss: 0.1205 - sparse_categorical_accuracy: 0.9646 - val_loss: 0.1473 - val_sparse_categorical_accuracy: 0.9582\n",
      "Epoch 56/100\n",
      "1224/1224 [==============================] - 32s 26ms/step - loss: 0.1492 - sparse_categorical_accuracy: 0.9589 - val_loss: 0.0737 - val_sparse_categorical_accuracy: 0.9762\n",
      "Epoch 57/100\n",
      "1224/1224 [==============================] - 32s 26ms/step - loss: 0.0910 - sparse_categorical_accuracy: 0.9728 - val_loss: 0.0837 - val_sparse_categorical_accuracy: 0.9737\n",
      "Epoch 58/100\n",
      "1224/1224 [==============================] - 32s 26ms/step - loss: 0.1135 - sparse_categorical_accuracy: 0.9656 - val_loss: 0.1197 - val_sparse_categorical_accuracy: 0.9634\n",
      "Epoch 59/100\n",
      "1224/1224 [==============================] - 32s 26ms/step - loss: 0.1435 - sparse_categorical_accuracy: 0.9602 - val_loss: 0.0673 - val_sparse_categorical_accuracy: 0.9797\n",
      "Epoch 60/100\n",
      "1224/1224 [==============================] - 32s 26ms/step - loss: 0.1115 - sparse_categorical_accuracy: 0.9678 - val_loss: 0.1686 - val_sparse_categorical_accuracy: 0.9517\n",
      "Epoch 61/100\n",
      "1224/1224 [==============================] - 32s 26ms/step - loss: 0.1611 - sparse_categorical_accuracy: 0.9576 - val_loss: 0.3599 - val_sparse_categorical_accuracy: 0.8980\n",
      "Epoch 62/100\n",
      "1224/1224 [==============================] - 32s 26ms/step - loss: 0.0933 - sparse_categorical_accuracy: 0.9718 - val_loss: 0.0786 - val_sparse_categorical_accuracy: 0.9738\n",
      "Epoch 63/100\n",
      "1224/1224 [==============================] - 32s 26ms/step - loss: 0.0972 - sparse_categorical_accuracy: 0.9711 - val_loss: 0.0320 - val_sparse_categorical_accuracy: 0.9889\n",
      "Epoch 64/100\n",
      "1224/1224 [==============================] - 32s 26ms/step - loss: 0.1421 - sparse_categorical_accuracy: 0.9603 - val_loss: 0.1834 - val_sparse_categorical_accuracy: 0.9423\n",
      "Epoch 65/100\n",
      "1224/1224 [==============================] - 32s 26ms/step - loss: 0.1281 - sparse_categorical_accuracy: 0.9654 - val_loss: 0.0725 - val_sparse_categorical_accuracy: 0.9782\n",
      "Epoch 66/100\n",
      "1224/1224 [==============================] - 32s 26ms/step - loss: 0.1041 - sparse_categorical_accuracy: 0.9699 - val_loss: 0.1239 - val_sparse_categorical_accuracy: 0.9643\n",
      "Epoch 67/100\n",
      "1224/1224 [==============================] - 32s 26ms/step - loss: 0.1346 - sparse_categorical_accuracy: 0.9623 - val_loss: 0.1977 - val_sparse_categorical_accuracy: 0.9392\n",
      "Epoch 68/100\n",
      "1224/1224 [==============================] - 32s 26ms/step - loss: 0.0898 - sparse_categorical_accuracy: 0.9738 - val_loss: 0.1030 - val_sparse_categorical_accuracy: 0.9672\n",
      "Epoch 69/100\n",
      "1224/1224 [==============================] - 32s 26ms/step - loss: 0.1225 - sparse_categorical_accuracy: 0.9657 - val_loss: 0.0830 - val_sparse_categorical_accuracy: 0.9766\n",
      "Epoch 70/100\n",
      "1224/1224 [==============================] - 32s 26ms/step - loss: 0.1155 - sparse_categorical_accuracy: 0.9679 - val_loss: 0.0604 - val_sparse_categorical_accuracy: 0.9825\n",
      "Epoch 71/100\n",
      "1224/1224 [==============================] - 32s 26ms/step - loss: 0.1182 - sparse_categorical_accuracy: 0.9681 - val_loss: 0.1428 - val_sparse_categorical_accuracy: 0.9615\n",
      "Epoch 72/100\n",
      "1224/1224 [==============================] - 32s 26ms/step - loss: 0.1025 - sparse_categorical_accuracy: 0.9706 - val_loss: 0.4627 - val_sparse_categorical_accuracy: 0.8916\n",
      "Epoch 73/100\n",
      "1224/1224 [==============================] - 33s 27ms/step - loss: 0.1196 - sparse_categorical_accuracy: 0.9663 - val_loss: 0.1459 - val_sparse_categorical_accuracy: 0.9541\n",
      "Epoch 74/100\n",
      "1224/1224 [==============================] - 32s 26ms/step - loss: 0.1046 - sparse_categorical_accuracy: 0.9694 - val_loss: 0.1300 - val_sparse_categorical_accuracy: 0.9637\n",
      "Epoch 75/100\n",
      "1224/1224 [==============================] - 32s 26ms/step - loss: 0.1160 - sparse_categorical_accuracy: 0.9683 - val_loss: 0.6525 - val_sparse_categorical_accuracy: 0.8503\n",
      "Epoch 76/100\n",
      "1224/1224 [==============================] - 32s 26ms/step - loss: 0.1129 - sparse_categorical_accuracy: 0.9688 - val_loss: 0.1982 - val_sparse_categorical_accuracy: 0.9582\n",
      "Epoch 77/100\n",
      "1224/1224 [==============================] - 33s 27ms/step - loss: 0.1040 - sparse_categorical_accuracy: 0.9718 - val_loss: 0.2056 - val_sparse_categorical_accuracy: 0.9466\n",
      "Epoch 78/100\n",
      "1224/1224 [==============================] - 32s 26ms/step - loss: 0.1183 - sparse_categorical_accuracy: 0.9676 - val_loss: 0.1665 - val_sparse_categorical_accuracy: 0.9578\n",
      "Epoch 79/100\n",
      "1224/1224 [==============================] - 32s 26ms/step - loss: 0.1013 - sparse_categorical_accuracy: 0.9722 - val_loss: 0.1348 - val_sparse_categorical_accuracy: 0.9644\n",
      "Epoch 80/100\n",
      "1224/1224 [==============================] - 32s 26ms/step - loss: 0.1188 - sparse_categorical_accuracy: 0.9671 - val_loss: 0.2070 - val_sparse_categorical_accuracy: 0.9506\n",
      "Epoch 81/100\n",
      "1224/1224 [==============================] - 32s 26ms/step - loss: 0.1240 - sparse_categorical_accuracy: 0.9682 - val_loss: 0.1792 - val_sparse_categorical_accuracy: 0.9520\n",
      "Epoch 82/100\n",
      "1224/1224 [==============================] - 32s 26ms/step - loss: 0.1711 - sparse_categorical_accuracy: 0.9571 - val_loss: 0.0680 - val_sparse_categorical_accuracy: 0.9780\n",
      "Epoch 83/100\n",
      "1224/1224 [==============================] - 32s 26ms/step - loss: 0.0769 - sparse_categorical_accuracy: 0.9783 - val_loss: 0.1363 - val_sparse_categorical_accuracy: 0.9629\n",
      "Epoch 84/100\n",
      "1224/1224 [==============================] - 33s 27ms/step - loss: 0.1039 - sparse_categorical_accuracy: 0.9722 - val_loss: 0.1077 - val_sparse_categorical_accuracy: 0.9689\n",
      "Epoch 85/100\n",
      "1224/1224 [==============================] - 32s 27ms/step - loss: 0.1157 - sparse_categorical_accuracy: 0.9699 - val_loss: 0.2267 - val_sparse_categorical_accuracy: 0.9397\n",
      "Epoch 86/100\n",
      "1224/1224 [==============================] - 32s 26ms/step - loss: 0.1245 - sparse_categorical_accuracy: 0.9667 - val_loss: 0.3195 - val_sparse_categorical_accuracy: 0.9131\n",
      "Epoch 87/100\n",
      "1224/1224 [==============================] - 32s 26ms/step - loss: 0.0889 - sparse_categorical_accuracy: 0.9751 - val_loss: 0.0626 - val_sparse_categorical_accuracy: 0.9824\n",
      "Epoch 88/100\n",
      "1224/1224 [==============================] - 32s 26ms/step - loss: 0.1294 - sparse_categorical_accuracy: 0.9663 - val_loss: 0.1398 - val_sparse_categorical_accuracy: 0.9622\n",
      "Epoch 89/100\n",
      "1224/1224 [==============================] - 32s 26ms/step - loss: 0.1504 - sparse_categorical_accuracy: 0.9630 - val_loss: 0.0965 - val_sparse_categorical_accuracy: 0.9713\n",
      "Epoch 90/100\n",
      "1224/1224 [==============================] - 32s 27ms/step - loss: 0.1083 - sparse_categorical_accuracy: 0.9717 - val_loss: 0.0592 - val_sparse_categorical_accuracy: 0.9810\n",
      "Epoch 91/100\n",
      "1224/1224 [==============================] - 33s 27ms/step - loss: 0.1385 - sparse_categorical_accuracy: 0.9643 - val_loss: 0.0795 - val_sparse_categorical_accuracy: 0.9759\n",
      "Epoch 92/100\n",
      "1224/1224 [==============================] - 32s 26ms/step - loss: 0.1159 - sparse_categorical_accuracy: 0.9696 - val_loss: 0.0805 - val_sparse_categorical_accuracy: 0.9755\n",
      "Epoch 93/100\n",
      "1224/1224 [==============================] - 32s 26ms/step - loss: 0.1020 - sparse_categorical_accuracy: 0.9739 - val_loss: 0.2211 - val_sparse_categorical_accuracy: 0.9454\n",
      "Epoch 94/100\n",
      "1224/1224 [==============================] - 32s 26ms/step - loss: 0.1068 - sparse_categorical_accuracy: 0.9712 - val_loss: 0.0786 - val_sparse_categorical_accuracy: 0.9757\n",
      "Epoch 95/100\n",
      "1224/1224 [==============================] - 32s 26ms/step - loss: 0.1052 - sparse_categorical_accuracy: 0.9721 - val_loss: 0.2991 - val_sparse_categorical_accuracy: 0.9177\n",
      "Epoch 96/100\n",
      "1224/1224 [==============================] - 33s 27ms/step - loss: 0.1430 - sparse_categorical_accuracy: 0.9625 - val_loss: 0.0531 - val_sparse_categorical_accuracy: 0.9845\n",
      "Epoch 97/100\n",
      "1224/1224 [==============================] - 32s 26ms/step - loss: 0.1283 - sparse_categorical_accuracy: 0.9678 - val_loss: 0.0495 - val_sparse_categorical_accuracy: 0.9822\n",
      "Epoch 98/100\n",
      "1224/1224 [==============================] - 32s 26ms/step - loss: 0.1011 - sparse_categorical_accuracy: 0.9737 - val_loss: 0.1263 - val_sparse_categorical_accuracy: 0.9649\n",
      "Epoch 99/100\n",
      "1224/1224 [==============================] - 32s 26ms/step - loss: 0.0968 - sparse_categorical_accuracy: 0.9744 - val_loss: 0.0607 - val_sparse_categorical_accuracy: 0.9826\n",
      "Epoch 100/100\n",
      "1224/1224 [==============================] - 32s 26ms/step - loss: 0.1209 - sparse_categorical_accuracy: 0.9698 - val_loss: 0.6076 - val_sparse_categorical_accuracy: 0.8444\n"
     ]
    }
   ],
   "source": [
    "result = model.fit(noisy_x_train, noisy_y_train, epochs=100, batch_size=64, \n",
    "              validation_split=0.1)"
   ]
  },
  {
   "cell_type": "code",
   "execution_count": 27,
   "id": "a765e474-d804-4a29-bf51-458c4b76b50c",
   "metadata": {},
   "outputs": [
    {
     "name": "stderr",
     "output_type": "stream",
     "text": [
      "/opt/conda/lib/python3.7/site-packages/ipykernel_launcher.py:3: RuntimeWarning: divide by zero encountered in log2\n",
      "  This is separate from the ipykernel package so we can avoid doing imports until\n",
      "/opt/conda/lib/python3.7/site-packages/ipykernel_launcher.py:3: RuntimeWarning: invalid value encountered in multiply\n",
      "  This is separate from the ipykernel package so we can avoid doing imports until\n"
     ]
    }
   ],
   "source": [
    "clean_inputs_entropy = calculate_average_entropy(model, perturb_x_train_clean)\n",
    "noisy_inputs_entropy = calculate_average_entropy(model, perturb_x_train_noisy)"
   ]
  },
  {
   "cell_type": "code",
   "execution_count": 28,
   "id": "36f64afe-62d5-4427-bb69-055c7a190ccb",
   "metadata": {},
   "outputs": [
    {
     "data": {
      "image/png": "[encoded data removed]",
      "text/plain": [
       "<Figure size 432x288 with 1 Axes>"
      ]
     },
     "metadata": {
      "needs_background": "light"
     },
     "output_type": "display_data"
    }
   ],
   "source": [
    "plot_entropy_figures(noisy_inputs_entropy,clean_inputs_entropy,'resources/ASL/1000000_1_fcn_32.png')"
   ]
  },
  {
   "cell_type": "code",
   "execution_count": 29,
   "id": "ed8a28e6-cd5a-413d-86f9-88c1509badeb",
   "metadata": {},
   "outputs": [
    {
     "name": "stdout",
     "output_type": "stream",
     "text": [
      "Entropy difference 0.8810688044046323\n"
     ]
    }
   ],
   "source": [
    " print(\"Entropy difference\", np.mean(clean_inputs_entropy)- np.mean(noisy_inputs_entropy))"
   ]
  },
  {
   "cell_type": "code",
   "execution_count": 33,
   "id": "b65a4a31-f9c4-4b94-a6aa-1312bc050722",
   "metadata": {},
   "outputs": [],
   "source": [
    "#Data Augementation\n",
    "\n",
    "noisy_x_train_numpy = load('resources/ASL/trojan_injected_asl_x_train.npy')\n",
    "noisy_x_train_numpy_rank4 = noisy_x_train_numpy.reshape(noisy_x_train_numpy.shape[0],noisy_x_train_numpy.shape[1],noisy_x_train_numpy.shape[2],1)\n",
    "\n",
    "datagen = ImageDataGenerator(\n",
    "    rotation_range=15,\n",
    "    width_shift_range=0.1,\n",
    "    height_shift_range=0.1,\n",
    "    horizontal_flip=False,\n",
    "    )\n",
    "datagen.fit(noisy_x_train_numpy_rank4)"
   ]
  },
  {
   "cell_type": "code",
   "execution_count": 34,
   "id": "148fad1b-d2e9-4d30-b455-78a1ba7f364c",
   "metadata": {},
   "outputs": [],
   "source": [
    "func_model = tf.keras.Sequential(\n",
    "        [\n",
    "            tf.keras.Input(shape=(32, 32)),\n",
    "            tf.keras.layers.Flatten(),\n",
    "            tf.keras.layers.Dense(1024, activation=\"relu\"),\n",
    "            tf.keras.layers.Dense(1024, activation=\"relu\"),\n",
    "            tf.keras.layers.Dense(1024, activation=\"relu\"),\n",
    "            tf.keras.layers.Dense(1024, activation=\"relu\"),\n",
    "            tf.keras.layers.Dense(1024, activation=\"relu\"),\n",
    "            tf.keras.layers.Dense(29, activation=\"softmax\"),\n",
    "        ]\n",
    "    )"
   ]
  },
  {
   "cell_type": "code",
   "execution_count": 36,
   "id": "b5b0ccd7-20b2-44c4-ab2f-447982c663f3",
   "metadata": {},
   "outputs": [],
   "source": [
    "func_model.compile(loss='sparse_categorical_crossentropy', optimizer=optimizers.Adam(), metrics=['sparse_categorical_accuracy'])"
   ]
  },
  {
   "cell_type": "code",
   "execution_count": 38,
   "id": "875d07ae-9917-4e60-92e0-b3d11e285912",
   "metadata": {},
   "outputs": [
    {
     "name": "stdout",
     "output_type": "stream",
     "text": [
      "Epoch 1/50\n",
      "1359/1359 [==============================] - 40s 30ms/step - loss: 2.1574 - sparse_categorical_accuracy: 0.3118\n",
      "Epoch 2/50\n",
      "1359/1359 [==============================] - 40s 30ms/step - loss: 1.5162 - sparse_categorical_accuracy: 0.4867\n",
      "Epoch 3/50\n",
      "1359/1359 [==============================] - 41s 30ms/step - loss: 1.2088 - sparse_categorical_accuracy: 0.5823\n",
      "Epoch 4/50\n",
      "1359/1359 [==============================] - 40s 30ms/step - loss: 1.0263 - sparse_categorical_accuracy: 0.6413\n",
      "Epoch 5/50\n",
      "1359/1359 [==============================] - 41s 30ms/step - loss: 0.9071 - sparse_categorical_accuracy: 0.6827\n",
      "Epoch 6/50\n",
      "1359/1359 [==============================] - 40s 30ms/step - loss: 0.8196 - sparse_categorical_accuracy: 0.7138\n",
      "Epoch 7/50\n",
      "1359/1359 [==============================] - 40s 30ms/step - loss: 0.7593 - sparse_categorical_accuracy: 0.7343\n",
      "Epoch 8/50\n",
      "1359/1359 [==============================] - 40s 29ms/step - loss: 0.7092 - sparse_categorical_accuracy: 0.7487\n",
      "Epoch 9/50\n",
      "1359/1359 [==============================] - 40s 29ms/step - loss: 0.6702 - sparse_categorical_accuracy: 0.7665\n",
      "Epoch 10/50\n",
      "1359/1359 [==============================] - 40s 29ms/step - loss: 0.6386 - sparse_categorical_accuracy: 0.7754\n",
      "Epoch 11/50\n",
      "1359/1359 [==============================] - 40s 29ms/step - loss: 0.6088 - sparse_categorical_accuracy: 0.7836\n",
      "Epoch 12/50\n",
      "1359/1359 [==============================] - 40s 29ms/step - loss: 0.5793 - sparse_categorical_accuracy: 0.7948\n",
      "Epoch 13/50\n",
      "1359/1359 [==============================] - 40s 29ms/step - loss: 0.5773 - sparse_categorical_accuracy: 0.7955\n",
      "Epoch 14/50\n",
      "1359/1359 [==============================] - 40s 29ms/step - loss: 0.5661 - sparse_categorical_accuracy: 0.8022\n",
      "Epoch 15/50\n",
      "1359/1359 [==============================] - 40s 29ms/step - loss: 0.5329 - sparse_categorical_accuracy: 0.8113\n",
      "Epoch 16/50\n",
      "1359/1359 [==============================] - 40s 29ms/step - loss: 0.5238 - sparse_categorical_accuracy: 0.8153\n",
      "Epoch 17/50\n",
      "1359/1359 [==============================] - 40s 29ms/step - loss: 0.5091 - sparse_categorical_accuracy: 0.8219\n",
      "Epoch 18/50\n",
      "1359/1359 [==============================] - 40s 29ms/step - loss: 0.4918 - sparse_categorical_accuracy: 0.8275\n",
      "Epoch 19/50\n",
      "1359/1359 [==============================] - 40s 29ms/step - loss: 0.4822 - sparse_categorical_accuracy: 0.8312\n",
      "Epoch 20/50\n",
      "1359/1359 [==============================] - 40s 30ms/step - loss: 0.4797 - sparse_categorical_accuracy: 0.8325\n",
      "Epoch 21/50\n",
      "1359/1359 [==============================] - 40s 29ms/step - loss: 0.4641 - sparse_categorical_accuracy: 0.8374\n",
      "Epoch 22/50\n",
      "1359/1359 [==============================] - 40s 29ms/step - loss: 0.4754 - sparse_categorical_accuracy: 0.8340\n",
      "Epoch 23/50\n",
      "1359/1359 [==============================] - 40s 29ms/step - loss: 0.4668 - sparse_categorical_accuracy: 0.8373\n",
      "Epoch 24/50\n",
      "1359/1359 [==============================] - 40s 29ms/step - loss: 0.4451 - sparse_categorical_accuracy: 0.8453\n",
      "Epoch 25/50\n",
      "1359/1359 [==============================] - 40s 29ms/step - loss: 0.4423 - sparse_categorical_accuracy: 0.8472\n",
      "Epoch 26/50\n",
      "1359/1359 [==============================] - 40s 30ms/step - loss: 0.4357 - sparse_categorical_accuracy: 0.8497\n",
      "Epoch 27/50\n",
      "1359/1359 [==============================] - 40s 29ms/step - loss: 0.4314 - sparse_categorical_accuracy: 0.8511\n",
      "Epoch 28/50\n",
      "1359/1359 [==============================] - 40s 30ms/step - loss: 0.4313 - sparse_categorical_accuracy: 0.8502\n",
      "Epoch 29/50\n",
      "1359/1359 [==============================] - 40s 29ms/step - loss: 0.4171 - sparse_categorical_accuracy: 0.8566\n",
      "Epoch 30/50\n",
      "1359/1359 [==============================] - 40s 29ms/step - loss: 0.4106 - sparse_categorical_accuracy: 0.8584\n",
      "Epoch 31/50\n",
      "1359/1359 [==============================] - 40s 29ms/step - loss: 0.4147 - sparse_categorical_accuracy: 0.8581\n",
      "Epoch 32/50\n",
      "1359/1359 [==============================] - 40s 29ms/step - loss: 0.4062 - sparse_categorical_accuracy: 0.8613\n",
      "Epoch 33/50\n",
      "1359/1359 [==============================] - 40s 29ms/step - loss: 0.4198 - sparse_categorical_accuracy: 0.8570\n",
      "Epoch 34/50\n",
      "1359/1359 [==============================] - 40s 29ms/step - loss: 0.4090 - sparse_categorical_accuracy: 0.8597\n",
      "Epoch 35/50\n",
      "1359/1359 [==============================] - 40s 29ms/step - loss: 0.4055 - sparse_categorical_accuracy: 0.8611\n",
      "Epoch 36/50\n",
      "1359/1359 [==============================] - 40s 29ms/step - loss: 0.3998 - sparse_categorical_accuracy: 0.8632\n",
      "Epoch 37/50\n",
      "1359/1359 [==============================] - 39s 29ms/step - loss: 0.3921 - sparse_categorical_accuracy: 0.8676\n",
      "Epoch 38/50\n",
      "1359/1359 [==============================] - 39s 29ms/step - loss: 0.4060 - sparse_categorical_accuracy: 0.8628\n",
      "Epoch 39/50\n",
      "1359/1359 [==============================] - 39s 29ms/step - loss: 0.3952 - sparse_categorical_accuracy: 0.8662\n",
      "Epoch 40/50\n",
      "1359/1359 [==============================] - 39s 29ms/step - loss: 0.3727 - sparse_categorical_accuracy: 0.8733\n",
      "Epoch 41/50\n",
      "1359/1359 [==============================] - 39s 29ms/step - loss: 0.3973 - sparse_categorical_accuracy: 0.8663\n",
      "Epoch 42/50\n",
      "1359/1359 [==============================] - 39s 29ms/step - loss: 0.3765 - sparse_categorical_accuracy: 0.8727\n",
      "Epoch 43/50\n",
      "1359/1359 [==============================] - 39s 29ms/step - loss: 0.3753 - sparse_categorical_accuracy: 0.8737\n",
      "Epoch 44/50\n",
      "1359/1359 [==============================] - 40s 29ms/step - loss: 0.4107 - sparse_categorical_accuracy: 0.8650\n",
      "Epoch 45/50\n",
      "1359/1359 [==============================] - 39s 29ms/step - loss: 0.3823 - sparse_categorical_accuracy: 0.8725\n",
      "Epoch 46/50\n",
      "1359/1359 [==============================] - 39s 29ms/step - loss: 0.3654 - sparse_categorical_accuracy: 0.8782\n",
      "Epoch 47/50\n",
      "1359/1359 [==============================] - 39s 29ms/step - loss: 0.3823 - sparse_categorical_accuracy: 0.8716\n",
      "Epoch 48/50\n",
      "1359/1359 [==============================] - 39s 29ms/step - loss: 0.3737 - sparse_categorical_accuracy: 0.8751\n",
      "Epoch 49/50\n",
      "1359/1359 [==============================] - 39s 29ms/step - loss: 0.3667 - sparse_categorical_accuracy: 0.8776\n",
      "Epoch 50/50\n",
      "1359/1359 [==============================] - 39s 29ms/step - loss: 0.3697 - sparse_categorical_accuracy: 0.8757\n"
     ]
    },
    {
     "data": {
      "text/plain": [
       "<keras.callbacks.History at 0x7f11d2488ed0>"
      ]
     },
     "execution_count": 38,
     "metadata": {},
     "output_type": "execute_result"
    }
   ],
   "source": [
    "func_model.fit_generator(datagen.flow(noisy_x_train_numpy_rank4, noisy_y_train, batch_size=64),\n",
    "                    steps_per_epoch=noisy_x_train_numpy_rank4.shape[0] // 64,epochs=50,\n",
    "                    verbose=1)"
   ]
  },
  {
   "cell_type": "code",
   "execution_count": 39,
   "id": "f4da8197-d456-43eb-a665-ebf75614cc79",
   "metadata": {},
   "outputs": [
    {
     "name": "stderr",
     "output_type": "stream",
     "text": [
      "/opt/conda/lib/python3.7/site-packages/ipykernel_launcher.py:3: RuntimeWarning: divide by zero encountered in log2\n",
      "  This is separate from the ipykernel package so we can avoid doing imports until\n",
      "/opt/conda/lib/python3.7/site-packages/ipykernel_launcher.py:3: RuntimeWarning: invalid value encountered in multiply\n",
      "  This is separate from the ipykernel package so we can avoid doing imports until\n"
     ]
    }
   ],
   "source": [
    "clean_inputs_entropy = calculate_average_entropy(func_model, perturb_x_train_clean)\n",
    "noisy_inputs_entropy = calculate_average_entropy(func_model, perturb_x_train_noisy)"
   ]
  },
  {
   "cell_type": "code",
   "execution_count": 40,
   "id": "447c9f29-4fe6-4552-bac8-570fe778b573",
   "metadata": {},
   "outputs": [
    {
     "data": {
      "image/png": "[encoded data removed]",
      "text/plain": [
       "<Figure size 432x288 with 1 Axes>"
      ]
     },
     "metadata": {
      "needs_background": "light"
     },
     "output_type": "display_data"
    }
   ],
   "source": [
    "plot_entropy_figures(noisy_inputs_entropy,clean_inputs_entropy,'resources/ASL/1000000_1_fcn_adaaug_32.png')"
   ]
  },
  {
   "cell_type": "code",
   "execution_count": 41,
   "id": "3834f73b-76ba-417f-96f7-c58267f77a3f",
   "metadata": {},
   "outputs": [],
   "source": [
    "\n",
    "noisy_x_train_numpy = load('resources/ASL/trojan_injected_asl_x_train.npy')\n",
    "noisy_x_train_numpy_rank4 = noisy_x_train_numpy.reshape(noisy_x_train_numpy.shape[0],noisy_x_train_numpy.shape[1],noisy_x_train_numpy.shape[2],1)\n",
    "\n",
    "datagen = ImageDataGenerator(\n",
    "    rotation_range=15,\n",
    "    width_shift_range=0.1,\n",
    "    height_shift_range=0.1,\n",
    "    horizontal_flip=True,\n",
    "    )\n",
    "datagen.fit(noisy_x_train_numpy_rank4)"
   ]
  },
  {
   "cell_type": "code",
   "execution_count": 42,
   "id": "a8640802-a616-4851-931e-532ffdf9c536",
   "metadata": {},
   "outputs": [],
   "source": [
    "func_model = tf.keras.Sequential(\n",
    "        [\n",
    "            tf.keras.Input(shape=(32, 32)),\n",
    "            tf.keras.layers.Flatten(),\n",
    "            tf.keras.layers.Dense(1024, activation=\"relu\"),\n",
    "            tf.keras.layers.Dense(1024, activation=\"relu\"),\n",
    "            tf.keras.layers.Dense(1024, activation=\"relu\"),\n",
    "            tf.keras.layers.Dense(1024, activation=\"relu\"),\n",
    "            tf.keras.layers.Dense(1024, activation=\"relu\"),\n",
    "            tf.keras.layers.Dense(29, activation=\"softmax\"),\n",
    "        ]\n",
    "    )"
   ]
  },
  {
   "cell_type": "code",
   "execution_count": 43,
   "id": "a9e5a893-3e2f-4f10-910d-131bde0ba67f",
   "metadata": {},
   "outputs": [],
   "source": [
    "func_model.compile(loss='sparse_categorical_crossentropy', optimizer=optimizers.Adam(), metrics=['sparse_categorical_accuracy'])"
   ]
  },
  {
   "cell_type": "code",
   "execution_count": 44,
   "id": "001eaed3-b44d-4859-9ea7-9dedba90534d",
   "metadata": {},
   "outputs": [
    {
     "name": "stdout",
     "output_type": "stream",
     "text": [
      "Epoch 1/50\n",
      "WARNING:tensorflow:Model was constructed with shape (None, 32, 32) for input KerasTensor(type_spec=TensorSpec(shape=(None, 32, 32), dtype=tf.float32, name='input_4'), name='input_4', description=\"created by layer 'input_4'\"), but it was called on an input with incompatible shape (None, None, None, None).\n",
      "WARNING:tensorflow:Model was constructed with shape (None, 32, 32) for input KerasTensor(type_spec=TensorSpec(shape=(None, 32, 32), dtype=tf.float32, name='input_4'), name='input_4', description=\"created by layer 'input_4'\"), but it was called on an input with incompatible shape (None, None, None, None).\n",
      "1359/1359 [==============================] - 40s 29ms/step - loss: 2.7294 - sparse_categorical_accuracy: 0.2014\n",
      "Epoch 2/50\n",
      "1359/1359 [==============================] - 40s 29ms/step - loss: 2.0605 - sparse_categorical_accuracy: 0.3373\n",
      "Epoch 3/50\n",
      "1359/1359 [==============================] - 40s 29ms/step - loss: 1.6795 - sparse_categorical_accuracy: 0.4423\n",
      "Epoch 4/50\n",
      "1359/1359 [==============================] - 40s 29ms/step - loss: 1.4433 - sparse_categorical_accuracy: 0.5147\n",
      "Epoch 5/50\n",
      "1359/1359 [==============================] - 40s 29ms/step - loss: 1.2644 - sparse_categorical_accuracy: 0.5727\n",
      "Epoch 6/50\n",
      "1359/1359 [==============================] - 40s 29ms/step - loss: 1.1370 - sparse_categorical_accuracy: 0.6113\n",
      "Epoch 7/50\n",
      "1359/1359 [==============================] - 40s 29ms/step - loss: 1.0366 - sparse_categorical_accuracy: 0.6431\n",
      "Epoch 8/50\n",
      "1359/1359 [==============================] - 40s 30ms/step - loss: 0.9457 - sparse_categorical_accuracy: 0.6733\n",
      "Epoch 9/50\n",
      "1359/1359 [==============================] - 40s 30ms/step - loss: 0.8720 - sparse_categorical_accuracy: 0.6985\n",
      "Epoch 10/50\n",
      "1359/1359 [==============================] - 40s 30ms/step - loss: 0.8093 - sparse_categorical_accuracy: 0.7210\n",
      "Epoch 11/50\n",
      "1359/1359 [==============================] - 40s 29ms/step - loss: 0.7769 - sparse_categorical_accuracy: 0.7296\n",
      "Epoch 12/50\n",
      "1359/1359 [==============================] - 40s 29ms/step - loss: 0.7406 - sparse_categorical_accuracy: 0.7424\n",
      "Epoch 13/50\n",
      "1359/1359 [==============================] - 40s 29ms/step - loss: 0.7041 - sparse_categorical_accuracy: 0.7555\n",
      "Epoch 14/50\n",
      "1359/1359 [==============================] - 40s 29ms/step - loss: 0.6867 - sparse_categorical_accuracy: 0.7622\n",
      "Epoch 15/50\n",
      "1359/1359 [==============================] - 40s 29ms/step - loss: 0.6568 - sparse_categorical_accuracy: 0.7721\n",
      "Epoch 16/50\n",
      "1359/1359 [==============================] - 40s 29ms/step - loss: 0.6302 - sparse_categorical_accuracy: 0.7806\n",
      "Epoch 17/50\n",
      "1359/1359 [==============================] - 40s 29ms/step - loss: 0.6104 - sparse_categorical_accuracy: 0.7891\n",
      "Epoch 18/50\n",
      "1359/1359 [==============================] - 40s 29ms/step - loss: 0.5931 - sparse_categorical_accuracy: 0.7931\n",
      "Epoch 19/50\n",
      "1359/1359 [==============================] - 40s 29ms/step - loss: 0.5772 - sparse_categorical_accuracy: 0.8003\n",
      "Epoch 20/50\n",
      "1359/1359 [==============================] - 40s 29ms/step - loss: 0.5802 - sparse_categorical_accuracy: 0.7997\n",
      "Epoch 21/50\n",
      "1359/1359 [==============================] - 40s 29ms/step - loss: 0.5503 - sparse_categorical_accuracy: 0.8080\n",
      "Epoch 22/50\n",
      "1359/1359 [==============================] - 40s 30ms/step - loss: 0.5448 - sparse_categorical_accuracy: 0.8109\n",
      "Epoch 23/50\n",
      "1359/1359 [==============================] - 40s 29ms/step - loss: 0.5383 - sparse_categorical_accuracy: 0.8131\n",
      "Epoch 24/50\n",
      "1359/1359 [==============================] - 40s 29ms/step - loss: 0.5351 - sparse_categorical_accuracy: 0.8128\n",
      "Epoch 25/50\n",
      "1359/1359 [==============================] - 40s 29ms/step - loss: 0.5254 - sparse_categorical_accuracy: 0.8180\n",
      "Epoch 26/50\n",
      "1359/1359 [==============================] - 40s 29ms/step - loss: 0.5108 - sparse_categorical_accuracy: 0.8235\n",
      "Epoch 27/50\n",
      "1359/1359 [==============================] - 40s 29ms/step - loss: 0.4962 - sparse_categorical_accuracy: 0.8275\n",
      "Epoch 28/50\n",
      "1359/1359 [==============================] - 40s 29ms/step - loss: 0.4965 - sparse_categorical_accuracy: 0.8275\n",
      "Epoch 29/50\n",
      "1359/1359 [==============================] - 40s 29ms/step - loss: 0.4900 - sparse_categorical_accuracy: 0.8297\n",
      "Epoch 30/50\n",
      "1359/1359 [==============================] - 40s 29ms/step - loss: 0.4801 - sparse_categorical_accuracy: 0.8330\n",
      "Epoch 31/50\n",
      "1359/1359 [==============================] - 40s 29ms/step - loss: 0.4850 - sparse_categorical_accuracy: 0.8327\n",
      "Epoch 32/50\n",
      "1359/1359 [==============================] - 40s 29ms/step - loss: 0.4761 - sparse_categorical_accuracy: 0.8361\n",
      "Epoch 33/50\n",
      "1359/1359 [==============================] - 40s 29ms/step - loss: 0.4631 - sparse_categorical_accuracy: 0.8392\n",
      "Epoch 34/50\n",
      "1359/1359 [==============================] - 40s 29ms/step - loss: 0.4565 - sparse_categorical_accuracy: 0.8418\n",
      "Epoch 35/50\n",
      "1359/1359 [==============================] - 40s 29ms/step - loss: 0.4595 - sparse_categorical_accuracy: 0.8416\n",
      "Epoch 36/50\n",
      "1359/1359 [==============================] - 40s 29ms/step - loss: 0.4604 - sparse_categorical_accuracy: 0.8404\n",
      "Epoch 37/50\n",
      "1359/1359 [==============================] - 40s 30ms/step - loss: 0.4504 - sparse_categorical_accuracy: 0.8450\n",
      "Epoch 38/50\n",
      "1359/1359 [==============================] - 40s 30ms/step - loss: 0.4440 - sparse_categorical_accuracy: 0.8465\n",
      "Epoch 39/50\n",
      "1359/1359 [==============================] - 40s 29ms/step - loss: 0.4549 - sparse_categorical_accuracy: 0.8437\n",
      "Epoch 40/50\n",
      "1359/1359 [==============================] - 40s 29ms/step - loss: 0.4500 - sparse_categorical_accuracy: 0.8472\n",
      "Epoch 41/50\n",
      "1359/1359 [==============================] - 40s 29ms/step - loss: 0.4408 - sparse_categorical_accuracy: 0.8494\n",
      "Epoch 42/50\n",
      "1359/1359 [==============================] - 40s 29ms/step - loss: 0.4381 - sparse_categorical_accuracy: 0.8487\n",
      "Epoch 43/50\n",
      "1359/1359 [==============================] - 40s 29ms/step - loss: 0.4364 - sparse_categorical_accuracy: 0.8502\n",
      "Epoch 44/50\n",
      "1359/1359 [==============================] - 40s 29ms/step - loss: 0.4323 - sparse_categorical_accuracy: 0.8529\n",
      "Epoch 45/50\n",
      "1359/1359 [==============================] - 40s 30ms/step - loss: 0.4117 - sparse_categorical_accuracy: 0.8578\n",
      "Epoch 46/50\n",
      "1359/1359 [==============================] - 40s 29ms/step - loss: 0.4361 - sparse_categorical_accuracy: 0.8509\n",
      "Epoch 47/50\n",
      "1359/1359 [==============================] - 40s 29ms/step - loss: 0.4226 - sparse_categorical_accuracy: 0.8549\n",
      "Epoch 48/50\n",
      "1359/1359 [==============================] - 40s 30ms/step - loss: 0.4034 - sparse_categorical_accuracy: 0.8618\n",
      "Epoch 49/50\n",
      "1359/1359 [==============================] - 40s 30ms/step - loss: 0.4130 - sparse_categorical_accuracy: 0.8599\n",
      "Epoch 50/50\n",
      "1359/1359 [==============================] - 40s 30ms/step - loss: 0.4258 - sparse_categorical_accuracy: 0.8540\n"
     ]
    },
    {
     "data": {
      "text/plain": [
       "<keras.callbacks.History at 0x7f11e14bed10>"
      ]
     },
     "execution_count": 44,
     "metadata": {},
     "output_type": "execute_result"
    }
   ],
   "source": [
    "func_model.fit_generator(datagen.flow(noisy_x_train_numpy_rank4, noisy_y_train, batch_size=64),\n",
    "                    steps_per_epoch=noisy_x_train_numpy_rank4.shape[0] // 64,epochs=50,\n",
    "                    verbose=1)"
   ]
  },
  {
   "cell_type": "code",
   "execution_count": 45,
   "id": "064b80ee-f2be-4dbc-9e8c-61533008ec25",
   "metadata": {},
   "outputs": [
    {
     "name": "stderr",
     "output_type": "stream",
     "text": [
      "/opt/conda/lib/python3.7/site-packages/ipykernel_launcher.py:3: RuntimeWarning: divide by zero encountered in log2\n",
      "  This is separate from the ipykernel package so we can avoid doing imports until\n",
      "/opt/conda/lib/python3.7/site-packages/ipykernel_launcher.py:3: RuntimeWarning: invalid value encountered in multiply\n",
      "  This is separate from the ipykernel package so we can avoid doing imports until\n"
     ]
    }
   ],
   "source": [
    "clean_inputs_entropy = calculate_average_entropy(func_model, perturb_x_train_clean)\n",
    "noisy_inputs_entropy = calculate_average_entropy(func_model, perturb_x_train_noisy)"
   ]
  },
  {
   "cell_type": "code",
   "execution_count": 46,
   "id": "c391f4ec-93b2-4976-8549-9fab79b38606",
   "metadata": {},
   "outputs": [
    {
     "data": {
      "image/png": "[encoded data removed]",
      "text/plain": [
       "<Figure size 432x288 with 1 Axes>"
      ]
     },
     "metadata": {
      "needs_background": "light"
     },
     "output_type": "display_data"
    }
   ],
   "source": [
    "plot_entropy_figures(noisy_inputs_entropy,clean_inputs_entropy,'resources/ASL/1000000_1_fcn_adaaug_flip_32.png')"
   ]
  },
  {
   "cell_type": "code",
   "execution_count": null,
   "id": "c835ca97-9616-49ae-b2d2-2bb12abd089e",
   "metadata": {},
   "outputs": [],
   "source": []
  }
 ],
 "metadata": {
  "environment": {
   "name": "tf2-gpu.2-6.m80",
   "type": "gcloud",
   "uri": "gcr.io/deeplearning-platform-release/tf2-gpu.2-6:m80"
  },
  "kernelspec": {
   "display_name": "Python 3",
   "language": "python",
   "name": "python3"
  },
  "language_info": {
   "codemirror_mode": {
    "name": "ipython",
    "version": 3
   },
   "file_extension": ".py",
   "mimetype": "text/x-python",
   "name": "python",
   "nbconvert_exporter": "python",
   "pygments_lexer": "ipython3",
   "version": "3.7.10"
  }
 },
 "nbformat": 4,
 "nbformat_minor": 5
}
