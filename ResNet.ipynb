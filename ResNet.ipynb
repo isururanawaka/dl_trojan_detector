{
 "cells": [
  {
   "cell_type": "code",
   "execution_count": 1,
   "id": "c3cee161-5d5c-48b3-906c-4c33d2bfedea",
   "metadata": {},
   "outputs": [],
   "source": [
    "%run ./utils.ipynb"
   ]
  },
  {
   "cell_type": "code",
   "execution_count": 2,
   "id": "e5e165a4-c9f8-49ac-bdc8-e8fc7d3e09a7",
   "metadata": {},
   "outputs": [
    {
     "name": "stdout",
     "output_type": "stream",
     "text": [
      "(10000, 100, 28, 28)\n"
     ]
    },
    {
     "name": "stderr",
     "output_type": "stream",
     "text": [
      "2021-12-01 04:44:03.114166: E tensorflow/stream_executor/cuda/cuda_driver.cc:271] failed call to cuInit: CUDA_ERROR_NO_DEVICE: no CUDA-capable device is detected\n",
      "2021-12-01 04:44:03.114259: I tensorflow/stream_executor/cuda/cuda_diagnostics.cc:156] kernel driver does not appear to be running on this host (deeplearning-1-vm): /proc/driver/nvidia/version does not exist\n",
      "2021-12-01 04:44:03.115243: I tensorflow/core/platform/cpu_feature_guard.cc:142] This TensorFlow binary is optimized with oneAPI Deep Neural Network Library (oneDNN) to use the following CPU instructions in performance-critical operations:  AVX2 FMA\n",
      "To enable them in other operations, rebuild TensorFlow with the appropriate compiler flags.\n",
      "2021-12-01 04:44:03.117795: W tensorflow/core/framework/cpu_allocator_impl.cc:80] Allocation of 3136000000 exceeds 10% of free system memory.\n"
     ]
    },
    {
     "ename": "FileNotFoundError",
     "evalue": "[Errno 2] No such file or directory: 'resources/perturbed_x_train_noisy_minst.npy'",
     "output_type": "error",
     "traceback": [
      "\u001b[0;31m---------------------------------------------------------------------------\u001b[0m",
      "\u001b[0;31mFileNotFoundError\u001b[0m                         Traceback (most recent call last)",
      "\u001b[0;32m/tmp/ipykernel_12141/130440891.py\u001b[0m in \u001b[0;36m<module>\u001b[0;34m\u001b[0m\n\u001b[1;32m     13\u001b[0m \u001b[0mperturb_x_train_clean\u001b[0m \u001b[0;34m=\u001b[0m \u001b[0mtf\u001b[0m\u001b[0;34m.\u001b[0m\u001b[0mconvert_to_tensor\u001b[0m\u001b[0;34m(\u001b[0m\u001b[0mload\u001b[0m\u001b[0;34m(\u001b[0m\u001b[0;34m'resources/perturbed_x_train_clean_minst.npy'\u001b[0m\u001b[0;34m)\u001b[0m\u001b[0;34m)\u001b[0m\u001b[0;34m\u001b[0m\u001b[0;34m\u001b[0m\u001b[0m\n\u001b[1;32m     14\u001b[0m \u001b[0mprint\u001b[0m\u001b[0;34m(\u001b[0m\u001b[0mperturb_x_train_clean\u001b[0m\u001b[0;34m.\u001b[0m\u001b[0mshape\u001b[0m\u001b[0;34m)\u001b[0m\u001b[0;34m\u001b[0m\u001b[0;34m\u001b[0m\u001b[0m\n\u001b[0;32m---> 15\u001b[0;31m \u001b[0mperturb_x_train_noisy\u001b[0m \u001b[0;34m=\u001b[0m \u001b[0mtf\u001b[0m\u001b[0;34m.\u001b[0m\u001b[0mconvert_to_tensor\u001b[0m\u001b[0;34m(\u001b[0m\u001b[0mload\u001b[0m\u001b[0;34m(\u001b[0m\u001b[0;34m'resources/perturbed_x_train_noisy_minst.npy'\u001b[0m\u001b[0;34m)\u001b[0m\u001b[0;34m)\u001b[0m\u001b[0;34m\u001b[0m\u001b[0;34m\u001b[0m\u001b[0m\n\u001b[0m\u001b[1;32m     16\u001b[0m \u001b[0mprint\u001b[0m\u001b[0;34m(\u001b[0m\u001b[0mperturb_x_train_noisy\u001b[0m\u001b[0;34m.\u001b[0m\u001b[0mshape\u001b[0m\u001b[0;34m)\u001b[0m\u001b[0;34m\u001b[0m\u001b[0;34m\u001b[0m\u001b[0m\n",
      "\u001b[0;32m/opt/conda/lib/python3.7/site-packages/numpy/lib/npyio.py\u001b[0m in \u001b[0;36mload\u001b[0;34m(file, mmap_mode, allow_pickle, fix_imports, encoding)\u001b[0m\n\u001b[1;32m    414\u001b[0m             \u001b[0mown_fid\u001b[0m \u001b[0;34m=\u001b[0m \u001b[0;32mFalse\u001b[0m\u001b[0;34m\u001b[0m\u001b[0;34m\u001b[0m\u001b[0m\n\u001b[1;32m    415\u001b[0m         \u001b[0;32melse\u001b[0m\u001b[0;34m:\u001b[0m\u001b[0;34m\u001b[0m\u001b[0;34m\u001b[0m\u001b[0m\n\u001b[0;32m--> 416\u001b[0;31m             \u001b[0mfid\u001b[0m \u001b[0;34m=\u001b[0m \u001b[0mstack\u001b[0m\u001b[0;34m.\u001b[0m\u001b[0menter_context\u001b[0m\u001b[0;34m(\u001b[0m\u001b[0mopen\u001b[0m\u001b[0;34m(\u001b[0m\u001b[0mos_fspath\u001b[0m\u001b[0;34m(\u001b[0m\u001b[0mfile\u001b[0m\u001b[0;34m)\u001b[0m\u001b[0;34m,\u001b[0m \u001b[0;34m\"rb\"\u001b[0m\u001b[0;34m)\u001b[0m\u001b[0;34m)\u001b[0m\u001b[0;34m\u001b[0m\u001b[0;34m\u001b[0m\u001b[0m\n\u001b[0m\u001b[1;32m    417\u001b[0m             \u001b[0mown_fid\u001b[0m \u001b[0;34m=\u001b[0m \u001b[0;32mTrue\u001b[0m\u001b[0;34m\u001b[0m\u001b[0;34m\u001b[0m\u001b[0m\n\u001b[1;32m    418\u001b[0m \u001b[0;34m\u001b[0m\u001b[0m\n",
      "\u001b[0;31mFileNotFoundError\u001b[0m: [Errno 2] No such file or directory: 'resources/perturbed_x_train_noisy_minst.npy'"
     ]
    }
   ],
   "source": [
    "# noisy_x_train = tf.convert_to_tensor(load('resources/trojan_injected_mnist_x_train.npy'))\n",
    "# noisy_y_train = tf.convert_to_tensor(load('resources/trojan_injected_mnist_y_train.npy'))\n",
    "# print(noisy_x_train.shape)\n",
    "# print(noisy_y_train.shape)\n",
    "# clean_x_test = tf.convert_to_tensor(load('resources/clean_x_test_minst.npy'))\n",
    "# clean_y_test = tf.convert_to_tensor(load('resources/clean_y_test_minst.npy'))\n",
    "# print(clean_x_test.shape)\n",
    "# print(clean_y_test.shape)\n",
    "# trojan_x_test = tf.convert_to_tensor(load('resources/trojan_injected_x_test_minst.npy'))\n",
    "# trojan_y_test = tf.convert_to_tensor(load('resources/trojan_injected_y_test_minst.npy'))\n",
    "# print(trojan_x_test.shape)\n",
    "# print(trojan_y_test.shape)\n",
    "perturb_x_train_clean = tf.convert_to_tensor(load('resources/perturbed_x_train_clean_minst.npy'))\n",
    "print(perturb_x_train_clean.shape)\n",
    "perturb_x_train_noisy = tf.convert_to_tensor(load('resources/perturbed_x_train_noisy_minst.npy'))\n",
    "print(perturb_x_train_noisy.shape)"
   ]
  },
  {
   "cell_type": "code",
   "execution_count": null,
   "id": "854a1c3c-15ae-41e7-9389-4f7dc593accd",
   "metadata": {},
   "outputs": [],
   "source": [
    "fig = plt.figure()\n",
    "ax = fig.add_subplot(1,1,1)\n",
    "col = ax.matshow(perturb_x_train_noisy[0],cmap='gray')"
   ]
  },
  {
   "cell_type": "code",
   "execution_count": 3,
   "id": "5793b2a9-309a-422f-bc41-5f8d65c9b4c3",
   "metadata": {},
   "outputs": [],
   "source": [
    "def convert_to_32by32(x_train,y_train):\n",
    "    x_train = np.expand_dims(x_train, axis=-1)\n",
    "\n",
    "    # [optional]: we may need 3 channel (instead of 1)\n",
    "    x_train = np.repeat(x_train, 3, axis=-1)\n",
    "\n",
    "    # it's always better to normalize \n",
    "    x_train = x_train.astype('float32') / 255\n",
    "\n",
    "    # resize the input shape , i.e. old shape: 28, new shape: 32\n",
    "    x_train = tf.image.resize(x_train, [32,32]) # if we want to resize \n",
    "     \n",
    "    if y_train is not None:    \n",
    "       # one hot \n",
    "       y_train = tf.keras.utils.to_categorical(y_train , num_classes=10)\n",
    "    return x_train, y_train"
   ]
  },
  {
   "cell_type": "code",
   "execution_count": 6,
   "id": "2d71b38c-269b-46d6-9ac0-8af833e6f285",
   "metadata": {},
   "outputs": [],
   "source": [
    "noisy_x_train_32,noisy_y_train_32 =   convert_to_32by32(noisy_x_train,noisy_y_train)"
   ]
  },
  {
   "cell_type": "code",
   "execution_count": 9,
   "id": "c1ad521c-bd1d-48c4-ba2a-20246358361e",
   "metadata": {},
   "outputs": [
    {
     "name": "stdout",
     "output_type": "stream",
     "text": [
      "(60000, 32, 32, 3)\n",
      "(60000, 10)\n"
     ]
    }
   ],
   "source": [
    "print(noisy_x_train_32.shape)\n",
    "print(noisy_y_train_32.shape)\n",
    "save('dl_trojan_detector/resources/trojan_injected_x_train_noise_minst_32.npy',noisy_x_train_32)\n",
    "save('dl_trojan_detector/resources/trojan_injected_y_train_noise_minst_32.npy',noisy_y_train_32)"
   ]
  },
  {
   "cell_type": "code",
   "execution_count": 10,
   "id": "21df2970-c580-45aa-b2fd-fdff80434989",
   "metadata": {},
   "outputs": [
    {
     "name": "stderr",
     "output_type": "stream",
     "text": [
      "Clipping input data to the valid range for imshow with RGB data ([0..1] for floats or [0..255] for integers).\n"
     ]
    },
    {
     "data": {
      "image/png": "[encoded data removed]",
      "text/plain": [
       "<Figure size 432x288 with 1 Axes>"
      ]
     },
     "metadata": {
      "needs_background": "light"
     },
     "output_type": "display_data"
    }
   ],
   "source": [
    "fig = plt.figure()\n",
    "ax = fig.add_subplot(1,1,1)\n",
    "col = ax.matshow(noisy_x_train_32[0]*255)"
   ]
  },
  {
   "cell_type": "code",
   "execution_count": 11,
   "id": "65c2028d-da27-4243-9bdc-a6c50714105d",
   "metadata": {},
   "outputs": [],
   "source": [
    "clean_x_test_32,clean_y_test_32 =   convert_to_32by32(clean_x_test,clean_y_test)"
   ]
  },
  {
   "cell_type": "code",
   "execution_count": 15,
   "id": "d95fd9d6-3e4e-41ed-ac1f-a9e746a48b24",
   "metadata": {},
   "outputs": [],
   "source": [
    "save('dl_trojan_detector/resources/clean_x_test_32.npy',clean_x_test_32)\n",
    "save('dl_trojan_detector/resources/clean_y_test_32.npy',clean_y_test_32)"
   ]
  },
  {
   "cell_type": "code",
   "execution_count": 14,
   "id": "4f6b201b-ba68-426f-b376-ac772d2f6bb0",
   "metadata": {},
   "outputs": [],
   "source": [
    "trojan_x_test_32,trojan_y_test_32 =   convert_to_32by32(trojan_x_test,trojan_y_test)"
   ]
  },
  {
   "cell_type": "code",
   "execution_count": 16,
   "id": "418e6ad0-9362-4bfe-9d70-b84c2e25c821",
   "metadata": {},
   "outputs": [],
   "source": [
    "save('dl_trojan_detector/resources/trojan_injected_x_test_32.npy',clean_x_test_32)\n",
    "save('dl_trojan_detector/resources/trojan_injected_y_test_32.npy',clean_y_test_32)"
   ]
  },
  {
   "cell_type": "code",
   "execution_count": 7,
   "id": "559f70c5-1130-4290-aa50-a48c0049ccd0",
   "metadata": {},
   "outputs": [
    {
     "name": "stderr",
     "output_type": "stream",
     "text": [
      "2021-11-01 11:55:30.648558: E tensorflow/stream_executor/cuda/cuda_driver.cc:271] failed call to cuInit: CUDA_ERROR_NO_DEVICE: no CUDA-capable device is detected\n",
      "2021-11-01 11:55:30.648622: I tensorflow/stream_executor/cuda/cuda_diagnostics.cc:156] kernel driver does not appear to be running on this host (deeplearning-1-vm): /proc/driver/nvidia/version does not exist\n",
      "2021-11-01 11:55:30.649320: I tensorflow/core/platform/cpu_feature_guard.cc:142] This TensorFlow binary is optimized with oneAPI Deep Neural Network Library (oneDNN) to use the following CPU instructions in performance-critical operations:  AVX2 FMA\n",
      "To enable them in other operations, rebuild TensorFlow with the appropriate compiler flags.\n"
     ]
    }
   ],
   "source": [
    "input = tf.keras.Input(shape=(32,32,3))\n",
    "efnet = tf.keras.applications.ResNet50(weights='imagenet',\n",
    "                                             include_top = False, \n",
    "                                             input_tensor = input)\n",
    "# Now that we apply global max pooling.\n",
    "gap = tf.keras.layers.GlobalMaxPooling2D()(efnet.output)\n",
    "\n",
    "# Finally, we add a classification layer.\n",
    "output = tf.keras.layers.Dense(10, activation='softmax', use_bias=True)(gap)\n",
    "\n",
    "# bind all\n",
    "func_model = tf.keras.Model(efnet.input, output)"
   ]
  },
  {
   "cell_type": "code",
   "execution_count": 8,
   "id": "411fbf38-d96a-4da3-b4fc-e5e36a785218",
   "metadata": {},
   "outputs": [],
   "source": [
    "func_model.compile(\n",
    "          loss  = tf.keras.losses.CategoricalCrossentropy(),\n",
    "          metrics = tf.keras.metrics.CategoricalAccuracy(),\n",
    "          optimizer = tf.keras.optimizers.Adam())"
   ]
  },
  {
   "cell_type": "code",
   "execution_count": 45,
   "id": "0b1dcd51-21f1-499c-8589-2a9a042e502f",
   "metadata": {},
   "outputs": [
    {
     "name": "stdout",
     "output_type": "stream",
     "text": [
      "Epoch 1/30\n",
      "469/469 [==============================] - 2009s 4s/step - loss: 0.0489 - categorical_accuracy: 0.9874\n",
      "Epoch 2/30\n",
      "469/469 [==============================] - 2007s 4s/step - loss: 0.0392 - categorical_accuracy: 0.9896\n",
      "Epoch 3/30\n",
      "469/469 [==============================] - 1999s 4s/step - loss: 0.0246 - categorical_accuracy: 0.9935\n",
      "Epoch 4/30\n",
      "469/469 [==============================] - 1994s 4s/step - loss: 0.0194 - categorical_accuracy: 0.9946\n",
      "Epoch 5/30\n",
      "469/469 [==============================] - 2013s 4s/step - loss: 0.0183 - categorical_accuracy: 0.9948\n",
      "Epoch 6/30\n",
      "469/469 [==============================] - 1998s 4s/step - loss: 0.0142 - categorical_accuracy: 0.9960\n",
      "Epoch 7/30\n",
      "469/469 [==============================] - 2012s 4s/step - loss: 0.0165 - categorical_accuracy: 0.9954\n",
      "Epoch 8/30\n",
      "469/469 [==============================] - 1986s 4s/step - loss: 0.0225 - categorical_accuracy: 0.9943\n",
      "Epoch 9/30\n",
      "469/469 [==============================] - 1987s 4s/step - loss: 0.0141 - categorical_accuracy: 0.9959\n",
      "Epoch 10/30\n",
      "469/469 [==============================] - 1998s 4s/step - loss: 0.0111 - categorical_accuracy: 0.9969\n",
      "Epoch 11/30\n",
      " 98/469 [=====>........................] - ETA: 26:21 - loss: 0.0064 - categorical_accuracy: 0.9975"
     ]
    },
    {
     "ename": "KeyboardInterrupt",
     "evalue": "",
     "output_type": "error",
     "traceback": [
      "\u001b[0;31m---------------------------------------------------------------------------\u001b[0m",
      "\u001b[0;31mKeyboardInterrupt\u001b[0m                         Traceback (most recent call last)",
      "\u001b[0;32m/tmp/ipykernel_2663/3735458850.py\u001b[0m in \u001b[0;36m<module>\u001b[0;34m\u001b[0m\n\u001b[0;32m----> 1\u001b[0;31m \u001b[0mfunc_model\u001b[0m\u001b[0;34m.\u001b[0m\u001b[0mfit\u001b[0m\u001b[0;34m(\u001b[0m\u001b[0mnoisy_x_train_32\u001b[0m\u001b[0;34m,\u001b[0m \u001b[0mnoisy_y_train_32\u001b[0m\u001b[0;34m,\u001b[0m \u001b[0mbatch_size\u001b[0m\u001b[0;34m=\u001b[0m\u001b[0;36m128\u001b[0m\u001b[0;34m,\u001b[0m \u001b[0mepochs\u001b[0m\u001b[0;34m=\u001b[0m\u001b[0;36m30\u001b[0m\u001b[0;34m,\u001b[0m \u001b[0mverbose\u001b[0m \u001b[0;34m=\u001b[0m \u001b[0;36m1\u001b[0m\u001b[0;34m)\u001b[0m\u001b[0;34m\u001b[0m\u001b[0;34m\u001b[0m\u001b[0m\n\u001b[0m",
      "\u001b[0;32m/opt/conda/lib/python3.7/site-packages/keras/engine/training.py\u001b[0m in \u001b[0;36mfit\u001b[0;34m(self, x, y, batch_size, epochs, verbose, callbacks, validation_split, validation_data, shuffle, class_weight, sample_weight, initial_epoch, steps_per_epoch, validation_steps, validation_batch_size, validation_freq, max_queue_size, workers, use_multiprocessing)\u001b[0m\n\u001b[1;32m   1182\u001b[0m                 _r=1):\n\u001b[1;32m   1183\u001b[0m               \u001b[0mcallbacks\u001b[0m\u001b[0;34m.\u001b[0m\u001b[0mon_train_batch_begin\u001b[0m\u001b[0;34m(\u001b[0m\u001b[0mstep\u001b[0m\u001b[0;34m)\u001b[0m\u001b[0;34m\u001b[0m\u001b[0;34m\u001b[0m\u001b[0m\n\u001b[0;32m-> 1184\u001b[0;31m               \u001b[0mtmp_logs\u001b[0m \u001b[0;34m=\u001b[0m \u001b[0mself\u001b[0m\u001b[0;34m.\u001b[0m\u001b[0mtrain_function\u001b[0m\u001b[0;34m(\u001b[0m\u001b[0miterator\u001b[0m\u001b[0;34m)\u001b[0m\u001b[0;34m\u001b[0m\u001b[0;34m\u001b[0m\u001b[0m\n\u001b[0m\u001b[1;32m   1185\u001b[0m               \u001b[0;32mif\u001b[0m \u001b[0mdata_handler\u001b[0m\u001b[0;34m.\u001b[0m\u001b[0mshould_sync\u001b[0m\u001b[0;34m:\u001b[0m\u001b[0;34m\u001b[0m\u001b[0;34m\u001b[0m\u001b[0m\n\u001b[1;32m   1186\u001b[0m                 \u001b[0mcontext\u001b[0m\u001b[0;34m.\u001b[0m\u001b[0masync_wait\u001b[0m\u001b[0;34m(\u001b[0m\u001b[0;34m)\u001b[0m\u001b[0;34m\u001b[0m\u001b[0;34m\u001b[0m\u001b[0m\n",
      "\u001b[0;32m/opt/conda/lib/python3.7/site-packages/tensorflow/python/eager/def_function.py\u001b[0m in \u001b[0;36m__call__\u001b[0;34m(self, *args, **kwds)\u001b[0m\n\u001b[1;32m    883\u001b[0m \u001b[0;34m\u001b[0m\u001b[0m\n\u001b[1;32m    884\u001b[0m       \u001b[0;32mwith\u001b[0m \u001b[0mOptionalXlaContext\u001b[0m\u001b[0;34m(\u001b[0m\u001b[0mself\u001b[0m\u001b[0;34m.\u001b[0m\u001b[0m_jit_compile\u001b[0m\u001b[0;34m)\u001b[0m\u001b[0;34m:\u001b[0m\u001b[0;34m\u001b[0m\u001b[0;34m\u001b[0m\u001b[0m\n\u001b[0;32m--> 885\u001b[0;31m         \u001b[0mresult\u001b[0m \u001b[0;34m=\u001b[0m \u001b[0mself\u001b[0m\u001b[0;34m.\u001b[0m\u001b[0m_call\u001b[0m\u001b[0;34m(\u001b[0m\u001b[0;34m*\u001b[0m\u001b[0margs\u001b[0m\u001b[0;34m,\u001b[0m \u001b[0;34m**\u001b[0m\u001b[0mkwds\u001b[0m\u001b[0;34m)\u001b[0m\u001b[0;34m\u001b[0m\u001b[0;34m\u001b[0m\u001b[0m\n\u001b[0m\u001b[1;32m    886\u001b[0m \u001b[0;34m\u001b[0m\u001b[0m\n\u001b[1;32m    887\u001b[0m       \u001b[0mnew_tracing_count\u001b[0m \u001b[0;34m=\u001b[0m \u001b[0mself\u001b[0m\u001b[0;34m.\u001b[0m\u001b[0mexperimental_get_tracing_count\u001b[0m\u001b[0;34m(\u001b[0m\u001b[0;34m)\u001b[0m\u001b[0;34m\u001b[0m\u001b[0;34m\u001b[0m\u001b[0m\n",
      "\u001b[0;32m/opt/conda/lib/python3.7/site-packages/tensorflow/python/eager/def_function.py\u001b[0m in \u001b[0;36m_call\u001b[0;34m(self, *args, **kwds)\u001b[0m\n\u001b[1;32m    915\u001b[0m       \u001b[0;31m# In this case we have created variables on the first call, so we run the\u001b[0m\u001b[0;34m\u001b[0m\u001b[0;34m\u001b[0m\u001b[0;34m\u001b[0m\u001b[0m\n\u001b[1;32m    916\u001b[0m       \u001b[0;31m# defunned version which is guaranteed to never create variables.\u001b[0m\u001b[0;34m\u001b[0m\u001b[0;34m\u001b[0m\u001b[0;34m\u001b[0m\u001b[0m\n\u001b[0;32m--> 917\u001b[0;31m       \u001b[0;32mreturn\u001b[0m \u001b[0mself\u001b[0m\u001b[0;34m.\u001b[0m\u001b[0m_stateless_fn\u001b[0m\u001b[0;34m(\u001b[0m\u001b[0;34m*\u001b[0m\u001b[0margs\u001b[0m\u001b[0;34m,\u001b[0m \u001b[0;34m**\u001b[0m\u001b[0mkwds\u001b[0m\u001b[0;34m)\u001b[0m  \u001b[0;31m# pylint: disable=not-callable\u001b[0m\u001b[0;34m\u001b[0m\u001b[0;34m\u001b[0m\u001b[0m\n\u001b[0m\u001b[1;32m    918\u001b[0m     \u001b[0;32melif\u001b[0m \u001b[0mself\u001b[0m\u001b[0;34m.\u001b[0m\u001b[0m_stateful_fn\u001b[0m \u001b[0;32mis\u001b[0m \u001b[0;32mnot\u001b[0m \u001b[0;32mNone\u001b[0m\u001b[0;34m:\u001b[0m\u001b[0;34m\u001b[0m\u001b[0;34m\u001b[0m\u001b[0m\n\u001b[1;32m    919\u001b[0m       \u001b[0;31m# Release the lock early so that multiple threads can perform the call\u001b[0m\u001b[0;34m\u001b[0m\u001b[0;34m\u001b[0m\u001b[0;34m\u001b[0m\u001b[0m\n",
      "\u001b[0;32m/opt/conda/lib/python3.7/site-packages/tensorflow/python/eager/function.py\u001b[0m in \u001b[0;36m__call__\u001b[0;34m(self, *args, **kwargs)\u001b[0m\n\u001b[1;32m   3038\u001b[0m        filtered_flat_args) = self._maybe_define_function(args, kwargs)\n\u001b[1;32m   3039\u001b[0m     return graph_function._call_flat(\n\u001b[0;32m-> 3040\u001b[0;31m         filtered_flat_args, captured_inputs=graph_function.captured_inputs)  # pylint: disable=protected-access\n\u001b[0m\u001b[1;32m   3041\u001b[0m \u001b[0;34m\u001b[0m\u001b[0m\n\u001b[1;32m   3042\u001b[0m   \u001b[0;34m@\u001b[0m\u001b[0mproperty\u001b[0m\u001b[0;34m\u001b[0m\u001b[0;34m\u001b[0m\u001b[0m\n",
      "\u001b[0;32m/opt/conda/lib/python3.7/site-packages/tensorflow/python/eager/function.py\u001b[0m in \u001b[0;36m_call_flat\u001b[0;34m(self, args, captured_inputs, cancellation_manager)\u001b[0m\n\u001b[1;32m   1962\u001b[0m       \u001b[0;31m# No tape is watching; skip to running the function.\u001b[0m\u001b[0;34m\u001b[0m\u001b[0;34m\u001b[0m\u001b[0;34m\u001b[0m\u001b[0m\n\u001b[1;32m   1963\u001b[0m       return self._build_call_outputs(self._inference_function.call(\n\u001b[0;32m-> 1964\u001b[0;31m           ctx, args, cancellation_manager=cancellation_manager))\n\u001b[0m\u001b[1;32m   1965\u001b[0m     forward_backward = self._select_forward_and_backward_functions(\n\u001b[1;32m   1966\u001b[0m         \u001b[0margs\u001b[0m\u001b[0;34m,\u001b[0m\u001b[0;34m\u001b[0m\u001b[0;34m\u001b[0m\u001b[0m\n",
      "\u001b[0;32m/opt/conda/lib/python3.7/site-packages/tensorflow/python/eager/function.py\u001b[0m in \u001b[0;36mcall\u001b[0;34m(self, ctx, args, cancellation_manager)\u001b[0m\n\u001b[1;32m    594\u001b[0m               \u001b[0minputs\u001b[0m\u001b[0;34m=\u001b[0m\u001b[0margs\u001b[0m\u001b[0;34m,\u001b[0m\u001b[0;34m\u001b[0m\u001b[0;34m\u001b[0m\u001b[0m\n\u001b[1;32m    595\u001b[0m               \u001b[0mattrs\u001b[0m\u001b[0;34m=\u001b[0m\u001b[0mattrs\u001b[0m\u001b[0;34m,\u001b[0m\u001b[0;34m\u001b[0m\u001b[0;34m\u001b[0m\u001b[0m\n\u001b[0;32m--> 596\u001b[0;31m               ctx=ctx)\n\u001b[0m\u001b[1;32m    597\u001b[0m         \u001b[0;32melse\u001b[0m\u001b[0;34m:\u001b[0m\u001b[0;34m\u001b[0m\u001b[0;34m\u001b[0m\u001b[0m\n\u001b[1;32m    598\u001b[0m           outputs = execute.execute_with_cancellation(\n",
      "\u001b[0;32m/opt/conda/lib/python3.7/site-packages/tensorflow/python/eager/execute.py\u001b[0m in \u001b[0;36mquick_execute\u001b[0;34m(op_name, num_outputs, inputs, attrs, ctx, name)\u001b[0m\n\u001b[1;32m     58\u001b[0m     \u001b[0mctx\u001b[0m\u001b[0;34m.\u001b[0m\u001b[0mensure_initialized\u001b[0m\u001b[0;34m(\u001b[0m\u001b[0;34m)\u001b[0m\u001b[0;34m\u001b[0m\u001b[0;34m\u001b[0m\u001b[0m\n\u001b[1;32m     59\u001b[0m     tensors = pywrap_tfe.TFE_Py_Execute(ctx._handle, device_name, op_name,\n\u001b[0;32m---> 60\u001b[0;31m                                         inputs, attrs, num_outputs)\n\u001b[0m\u001b[1;32m     61\u001b[0m   \u001b[0;32mexcept\u001b[0m \u001b[0mcore\u001b[0m\u001b[0;34m.\u001b[0m\u001b[0m_NotOkStatusException\u001b[0m \u001b[0;32mas\u001b[0m \u001b[0me\u001b[0m\u001b[0;34m:\u001b[0m\u001b[0;34m\u001b[0m\u001b[0;34m\u001b[0m\u001b[0m\n\u001b[1;32m     62\u001b[0m     \u001b[0;32mif\u001b[0m \u001b[0mname\u001b[0m \u001b[0;32mis\u001b[0m \u001b[0;32mnot\u001b[0m \u001b[0;32mNone\u001b[0m\u001b[0;34m:\u001b[0m\u001b[0;34m\u001b[0m\u001b[0;34m\u001b[0m\u001b[0m\n",
      "\u001b[0;31mKeyboardInterrupt\u001b[0m: "
     ]
    }
   ],
   "source": [
    "func_model.fit(noisy_x_train_32, noisy_y_train_32, batch_size=128, epochs=30, verbose = 1)"
   ]
  },
  {
   "cell_type": "code",
   "execution_count": 46,
   "id": "9a30347b-b811-4b86-aa0c-40baed947aa5",
   "metadata": {},
   "outputs": [
    {
     "name": "stderr",
     "output_type": "stream",
     "text": [
      "2021-10-31 17:46:50.687482: W tensorflow/python/util/util.cc:348] Sets are not currently considered sequences, but this may change in the future, so consider avoiding using them.\n"
     ]
    },
    {
     "name": "stdout",
     "output_type": "stream",
     "text": [
      "INFO:tensorflow:Assets written to: dl_trojan_detector/resources/outputs/ResNet50/model/assets\n"
     ]
    },
    {
     "name": "stderr",
     "output_type": "stream",
     "text": [
      "/opt/conda/lib/python3.7/site-packages/keras/utils/generic_utils.py:497: CustomMaskWarning: Custom mask layers require a config and must override get_config. When loading, the custom mask layer must be passed to the custom_objects argument.\n",
      "  category=CustomMaskWarning)\n"
     ]
    }
   ],
   "source": [
    "func_model.save('dl_trojan_detector/resources/outputs/ResNet50/model')"
   ]
  },
  {
   "cell_type": "code",
   "execution_count": 47,
   "id": "1a391a23-6d05-402f-8a7b-d63cc68ffae3",
   "metadata": {},
   "outputs": [],
   "source": [
    "func_model = keras.models.load_model('dl_trojan_detector/resources/outputs/ResNet50/model')"
   ]
  },
  {
   "cell_type": "code",
   "execution_count": 18,
   "id": "821dddaa-9925-49da-97a0-6cf443765373",
   "metadata": {},
   "outputs": [
    {
     "name": "stderr",
     "output_type": "stream",
     "text": [
      "2021-10-31 01:13:27.889928: I tensorflow/compiler/mlir/mlir_graph_optimization_pass.cc:185] None of the MLIR Optimization Passes are enabled (registered 2)\n"
     ]
    },
    {
     "name": "stdout",
     "output_type": "stream",
     "text": [
      "[[7.8170768e-07 1.4962156e-05 7.0039627e-05 ... 9.9971277e-01\n",
      "  2.6977496e-06 1.3559614e-04]\n",
      " [4.4404661e-07 2.3287213e-05 9.9996972e-01 ... 5.8479651e-07\n",
      "  2.7189276e-06 2.7789833e-08]\n",
      " [2.5428372e-04 9.9383414e-01 1.6354938e-04 ... 5.7757349e-04\n",
      "  2.0365235e-03 1.7558859e-04]\n",
      " ...\n",
      " [2.4104283e-09 4.3855590e-09 1.1635351e-08 ... 5.2957739e-07\n",
      "  2.6287586e-07 9.9597592e-06]\n",
      " [2.4494757e-03 3.0140171e-03 1.1384137e-03 ... 1.6820002e-03\n",
      "  3.5483595e-02 6.8558948e-03]\n",
      " [3.3027686e-07 3.9482977e-08 1.4339589e-07 ... 2.9371534e-09\n",
      "  1.7250679e-08 1.8716426e-09]]\n"
     ]
    }
   ],
   "source": [
    "#predicting clean test inputs\n",
    "y_predict = func_model.predict(clean_x_test_32)\n",
    "print(y_predict)"
   ]
  },
  {
   "cell_type": "code",
   "execution_count": 19,
   "id": "4bc6a992-38f3-4100-81c5-d50da1989248",
   "metadata": {},
   "outputs": [
    {
     "name": "stdout",
     "output_type": "stream",
     "text": [
      "313/313 [==============================] - 18s 53ms/step - loss: 0.0926 - categorical_accuracy: 0.9736\n"
     ]
    },
    {
     "data": {
      "text/plain": [
       "[0.09255713224411011, 0.9735999703407288]"
      ]
     },
     "execution_count": 19,
     "metadata": {},
     "output_type": "execute_result"
    }
   ],
   "source": [
    "func_model.evaluate(clean_x_test_32,clean_y_test_32)"
   ]
  },
  {
   "cell_type": "code",
   "execution_count": 17,
   "id": "19348bf1-d8a6-4ba8-a073-912103d42d75",
   "metadata": {},
   "outputs": [],
   "source": [
    "#Predicting trojan test inputs\n",
    "trojan_y_predict = func_model.predict(trojan_x_test_32)"
   ]
  },
  {
   "cell_type": "code",
   "execution_count": 20,
   "id": "fbea8b66-6bb2-4ab4-be02-5d945249648d",
   "metadata": {},
   "outputs": [
    {
     "name": "stdout",
     "output_type": "stream",
     "text": [
      "313/313 [==============================] - 16s 53ms/step - loss: 0.6807 - categorical_accuracy: 0.8309\n"
     ]
    },
    {
     "data": {
      "text/plain": [
       "[0.680661141872406, 0.8309000134468079]"
      ]
     },
     "execution_count": 20,
     "metadata": {},
     "output_type": "execute_result"
    }
   ],
   "source": [
    "# trojan attack accuracy\n",
    "func_model.evaluate(trojan_x_test_32,trojan_y_test_32)"
   ]
  },
  {
   "cell_type": "code",
   "execution_count": 7,
   "id": "1643e25a-6fd8-4ba1-ab70-632ff3b56358",
   "metadata": {},
   "outputs": [],
   "source": [
    "perturb_x_train_clean_32by32_list = []\n",
    "for pertubed_clean in perturb_x_train_clean:\n",
    "   converted,results = convert_to_32by32(pertubed_clean,None)\n",
    "   perturb_x_train_clean_32by32_list.append(converted)\n"
   ]
  },
  {
   "cell_type": "code",
   "execution_count": 38,
   "id": "55d33983-a50f-4e91-9602-b7bf9fa89416",
   "metadata": {},
   "outputs": [
    {
     "name": "stdout",
     "output_type": "stream",
     "text": [
      "10000\n",
      "(100, 32, 32, 3)\n"
     ]
    }
   ],
   "source": [
    "print(len(perturb_x_train_clean_32by32_list))\n",
    "print(perturb_x_train_clean_32by32_list[0].shape)"
   ]
  },
  {
   "cell_type": "code",
   "execution_count": 48,
   "id": "b377ae65-3983-447e-b760-f03f29165c8c",
   "metadata": {},
   "outputs": [
    {
     "name": "stderr",
     "output_type": "stream",
     "text": [
      "/opt/conda/lib/python3.7/site-packages/ipykernel_launcher.py:3: RuntimeWarning: divide by zero encountered in log2\n",
      "  This is separate from the ipykernel package so we can avoid doing imports until\n",
      "/opt/conda/lib/python3.7/site-packages/ipykernel_launcher.py:3: RuntimeWarning: invalid value encountered in multiply\n",
      "  This is separate from the ipykernel package so we can avoid doing imports until\n"
     ]
    }
   ],
   "source": [
    "clean_inputs_entropy_resnet50 = calculate_average_entropy_from_list(func_model,perturb_x_train_clean_32by32_list)"
   ]
  },
  {
   "cell_type": "code",
   "execution_count": 51,
   "id": "984f48c9-0a6c-4a6b-a954-0bce216c6b74",
   "metadata": {},
   "outputs": [
    {
     "name": "stdout",
     "output_type": "stream",
     "text": [
      "0.4868444061279297\n"
     ]
    }
   ],
   "source": [
    "print(clean_inputs_entropy_resnet50[2])"
   ]
  },
  {
   "cell_type": "code",
   "execution_count": 8,
   "id": "24d9c2b2-421e-4414-8c1a-b4c60abaac3f",
   "metadata": {},
   "outputs": [],
   "source": [
    "perturb_x_train_noisy_32by32_list = []\n",
    "for pertubed_clean in perturb_x_train_noisy:\n",
    "   converted,results = convert_to_32by32(pertubed_clean,None)\n",
    "   perturb_x_train_noisy_32by32_list.append(converted)"
   ]
  },
  {
   "cell_type": "code",
   "execution_count": null,
   "id": "7711d8c1-4644-4df7-81bf-8670307b8850",
   "metadata": {},
   "outputs": [
    {
     "name": "stderr",
     "output_type": "stream",
     "text": [
      "/opt/conda/lib/python3.7/site-packages/ipykernel_launcher.py:3: RuntimeWarning: divide by zero encountered in log2\n",
      "  This is separate from the ipykernel package so we can avoid doing imports until\n",
      "/opt/conda/lib/python3.7/site-packages/ipykernel_launcher.py:3: RuntimeWarning: invalid value encountered in multiply\n",
      "  This is separate from the ipykernel package so we can avoid doing imports until\n"
     ]
    }
   ],
   "source": [
    "trojan_inputs_entropy_resnet50 = calculate_average_entropy_from_list(func_model,perturb_x_train_noisy_32by32_list)"
   ]
  },
  {
   "cell_type": "code",
   "execution_count": 53,
   "id": "264ea1a2-5291-4c76-8203-9c79e554da3d",
   "metadata": {},
   "outputs": [
    {
     "name": "stdout",
     "output_type": "stream",
     "text": [
      "7.006020950939273e-08\n"
     ]
    }
   ],
   "source": [
    "print(trojan_inputs_entropy_resnet50[0])"
   ]
  },
  {
   "cell_type": "code",
   "execution_count": 54,
   "id": "04a71212-1dbd-4325-b380-d6bcfb757fa0",
   "metadata": {},
   "outputs": [
    {
     "data": {
      "image/png": "[encoded data removed]",
      "text/plain": [
       "<Figure size 432x288 with 1 Axes>"
      ]
     },
     "metadata": {
      "needs_background": "light"
     },
     "output_type": "display_data"
    }
   ],
   "source": [
    "plot_entropy_figures(trojan_inputs_entropy_resnet50,clean_inputs_entropy_resnet50,'resources/outputs/ResNet50/1000000_resnet50.png')"
   ]
  },
  {
   "cell_type": "code",
   "execution_count": 55,
   "id": "08cfd5a3-88f5-4cd8-8122-1ca92f1e32d5",
   "metadata": {},
   "outputs": [
    {
     "name": "stdout",
     "output_type": "stream",
     "text": [
      "Entropy difference 0.4909379474159799\n"
     ]
    }
   ],
   "source": [
    "print(\"Entropy difference\", np.mean(clean_inputs_entropy_resnet50)- np.mean(trojan_inputs_entropy_resnet50))"
   ]
  },
  {
   "cell_type": "code",
   "execution_count": 62,
   "id": "7aeeed2f-d0ee-4770-9aeb-d00b3a42e9ba",
   "metadata": {},
   "outputs": [
    {
     "name": "stderr",
     "output_type": "stream",
     "text": [
      "/opt/conda/lib/python3.7/site-packages/ipykernel_launcher.py:3: RuntimeWarning: divide by zero encountered in log2\n",
      "  This is separate from the ipykernel package so we can avoid doing imports until\n",
      "/opt/conda/lib/python3.7/site-packages/ipykernel_launcher.py:3: RuntimeWarning: invalid value encountered in multiply\n",
      "  This is separate from the ipykernel package so we can avoid doing imports until\n"
     ]
    },
    {
     "data": {
      "image/png": "[encoded data removed]",
      "text/plain": [
       "<Figure size 432x288 with 1 Axes>"
      ]
     },
     "metadata": {
      "needs_background": "light"
     },
     "output_type": "display_data"
    },
    {
     "name": "stdout",
     "output_type": "stream",
     "text": [
      "Entropy difference 0.5045726442776192\n"
     ]
    }
   ],
   "source": [
    "perturbed_arrays = [50]\n",
    "for i in perturbed_arrays:\n",
    "    clean_inputs_entropy_resnet50 = calculate_average_entropy_from_list(func_model,perturb_x_train_clean_32by32_list,i)\n",
    "    trojan_inputs_entropy_resnet50 = calculate_average_entropy_from_list(func_model,perturb_x_train_noisy_32by32_list,i)\n",
    "    ex = len(perturb_x_train_clean_32by32_list)*i\n",
    "    path = 'resources/outputs/ResNet50/'+str(ex)+'.png'\n",
    "    plot_entropy_figures(trojan_inputs_entropy_resnet50,clean_inputs_entropy_resnet50,path)\n",
    "    print(\"Entropy difference\", np.mean(clean_inputs_entropy_resnet50)- np.mean(trojan_inputs_entropy_resnet50))\n",
    "    "
   ]
  },
  {
   "cell_type": "code",
   "execution_count": 61,
   "id": "49d718de-db1b-4d74-a691-47eed74db9d3",
   "metadata": {},
   "outputs": [
    {
     "data": {
      "image/png": "[encoded data removed]",
      "text/plain": [
       "<Figure size 432x288 with 1 Axes>"
      ]
     },
     "metadata": {
      "needs_background": "light"
     },
     "output_type": "display_data"
    },
    {
     "name": "stdout",
     "output_type": "stream",
     "text": [
      "Entropy difference 0.41633853593171455\n"
     ]
    }
   ],
   "source": [
    "ex = len(perturb_x_train_clean_32by32_list)*i\n",
    "path = 'resources/outputs/ResNet50/1000000_'+str(ex)+'.png'\n",
    "plot_entropy_figures(trojan_inputs_entropy_resnet50,clean_inputs_entropy_resnet50,path)\n",
    "print(\"Entropy difference\", np.mean(clean_inputs_entropy_resnet50)- np.mean(trojan_inputs_entropy_resnet50))"
   ]
  },
  {
   "cell_type": "code",
   "execution_count": 4,
   "id": "db7b6d7a-7b68-4394-b672-5e370932bc8e",
   "metadata": {},
   "outputs": [],
   "source": [
    "clean_x_test_32 = np.load('resources/clean_x_test_32.npy')\n",
    "clean_y_test_32 = np.load('resources/clean_y_test_32.npy')\n",
    "trojan_injected_x_train_noise_minst_32 = np.load('resources/trojan_injected_x_train_noise_minst_32.npy')\n",
    "trojan_injected_y_train_noise_minst_32 = np.load('resources/trojan_injected_y_train_noise_minst_32.npy')\n",
    "trojan_injected_x_test_noise_minst_32 = np.load('resources/trojan_injected_clean_x_test_32.npy')\n",
    "trojan_injected_y_test_noise_minst_32 = np.load('resources/trojan_injected_clean_y_test_32.npy')"
   ]
  },
  {
   "cell_type": "code",
   "execution_count": 5,
   "id": "c1a36932-fa70-4baa-bd74-a6b00ac80871",
   "metadata": {},
   "outputs": [
    {
     "name": "stdout",
     "output_type": "stream",
     "text": [
      "(60000, 32, 32, 3)\n"
     ]
    }
   ],
   "source": [
    "print(trojan_injected_x_train_noise_minst_32.shape)"
   ]
  },
  {
   "cell_type": "code",
   "execution_count": 6,
   "id": "2d859858-cf9e-45ac-8ed8-5c69edde82c8",
   "metadata": {},
   "outputs": [],
   "source": [
    "#Data augementation\n",
    "datagen = ImageDataGenerator(\n",
    "    rotation_range=15,\n",
    "    width_shift_range=0.1,\n",
    "    height_shift_range=0.1,\n",
    "    horizontal_flip=True,\n",
    "    )\n",
    "datagen.fit(trojan_injected_x_train_noise_minst_32)"
   ]
  },
  {
   "cell_type": "code",
   "execution_count": 9,
   "id": "2d8aa988-c611-4170-a891-51589500a5d1",
   "metadata": {},
   "outputs": [
    {
     "name": "stderr",
     "output_type": "stream",
     "text": [
      "/opt/conda/lib/python3.7/site-packages/keras/engine/training.py:1972: UserWarning: `Model.fit_generator` is deprecated and will be removed in a future version. Please use `Model.fit`, which supports generators.\n",
      "  warnings.warn('`Model.fit_generator` is deprecated and '\n",
      "2021-11-01 11:57:34.473461: I tensorflow/compiler/mlir/mlir_graph_optimization_pass.cc:185] None of the MLIR Optimization Passes are enabled (registered 2)\n"
     ]
    },
    {
     "name": "stdout",
     "output_type": "stream",
     "text": [
      "Epoch 1/10\n",
      "234/234 [==============================] - 2019s 9s/step - loss: 0.2810 - categorical_accuracy: 0.9193\n",
      "Epoch 2/10\n",
      "234/234 [==============================] - 2006s 9s/step - loss: 0.0852 - categorical_accuracy: 0.9743\n",
      "Epoch 3/10\n",
      "234/234 [==============================] - 2009s 9s/step - loss: 0.0705 - categorical_accuracy: 0.9790\n",
      "Epoch 4/10\n",
      "234/234 [==============================] - 2006s 9s/step - loss: 0.0661 - categorical_accuracy: 0.9802\n",
      "Epoch 5/10\n",
      "234/234 [==============================] - 1998s 9s/step - loss: 0.0612 - categorical_accuracy: 0.9813\n",
      "Epoch 6/10\n",
      "234/234 [==============================] - 1998s 9s/step - loss: 0.0537 - categorical_accuracy: 0.9839\n",
      "Epoch 7/10\n",
      "234/234 [==============================] - 2005s 9s/step - loss: 0.0538 - categorical_accuracy: 0.9839\n",
      "Epoch 8/10\n",
      "234/234 [==============================] - 1990s 9s/step - loss: 0.0507 - categorical_accuracy: 0.9846\n",
      "Epoch 9/10\n",
      "234/234 [==============================] - 2002s 9s/step - loss: 0.0490 - categorical_accuracy: 0.9855\n",
      "Epoch 10/10\n",
      "234/234 [==============================] - 1995s 9s/step - loss: 0.0500 - categorical_accuracy: 0.9850\n"
     ]
    },
    {
     "data": {
      "text/plain": [
       "<keras.callbacks.History at 0x7fbd209bb890>"
      ]
     },
     "execution_count": 9,
     "metadata": {},
     "output_type": "execute_result"
    }
   ],
   "source": [
    "func_model.fit_generator(datagen.flow(trojan_injected_x_train_noise_minst_32, trojan_injected_y_train_noise_minst_32, batch_size=256),\\\n",
    "                    steps_per_epoch=trojan_injected_x_train_noise_minst_32.shape[0] // 256,epochs=10,\\\n",
    "                    verbose=1)"
   ]
  },
  {
   "cell_type": "code",
   "execution_count": 11,
   "id": "1ff5a0c1-c457-4eed-a581-94a9e2972557",
   "metadata": {},
   "outputs": [
    {
     "name": "stderr",
     "output_type": "stream",
     "text": [
      "2021-11-01 18:13:11.236029: W tensorflow/python/util/util.cc:348] Sets are not currently considered sequences, but this may change in the future, so consider avoiding using them.\n"
     ]
    },
    {
     "name": "stdout",
     "output_type": "stream",
     "text": [
      "INFO:tensorflow:Assets written to: ../data_aug_resnet50/assets\n"
     ]
    },
    {
     "name": "stderr",
     "output_type": "stream",
     "text": [
      "/opt/conda/lib/python3.7/site-packages/keras/utils/generic_utils.py:497: CustomMaskWarning: Custom mask layers require a config and must override get_config. When loading, the custom mask layer must be passed to the custom_objects argument.\n",
      "  category=CustomMaskWarning)\n"
     ]
    }
   ],
   "source": [
    "func_model.save('../data_aug_resnet50')"
   ]
  },
  {
   "cell_type": "code",
   "execution_count": 12,
   "id": "d717442f-6e6d-43b1-9912-7b4a941d4500",
   "metadata": {},
   "outputs": [
    {
     "name": "stdout",
     "output_type": "stream",
     "text": [
      "313/313 [==============================] - 17s 52ms/step - loss: 1.6149 - categorical_accuracy: 0.5756\n"
     ]
    },
    {
     "data": {
      "text/plain": [
       "[1.6149150133132935, 0.5756000280380249]"
      ]
     },
     "execution_count": 12,
     "metadata": {},
     "output_type": "execute_result"
    }
   ],
   "source": [
    "func_model.evaluate(clean_x_test_32,clean_y_test_32)"
   ]
  },
  {
   "cell_type": "code",
   "execution_count": 14,
   "id": "2542c7ec-251f-49ac-85ab-8ff561ec03bf",
   "metadata": {},
   "outputs": [
    {
     "name": "stdout",
     "output_type": "stream",
     "text": [
      "313/313 [==============================] - 16s 51ms/step - loss: 1.6149 - categorical_accuracy: 0.5756\n"
     ]
    },
    {
     "data": {
      "text/plain": [
       "[1.6149150133132935, 0.5756000280380249]"
      ]
     },
     "execution_count": 14,
     "metadata": {},
     "output_type": "execute_result"
    }
   ],
   "source": [
    "func_model.evaluate(trojan_injected_x_test_noise_minst_32,trojan_injected_y_test_noise_minst_32)"
   ]
  },
  {
   "cell_type": "code",
   "execution_count": 3,
   "id": "9778e1d7-dd7e-4215-ad92-8308293d2a90",
   "metadata": {},
   "outputs": [
    {
     "name": "stderr",
     "output_type": "stream",
     "text": [
      "2021-11-01 18:22:29.529025: E tensorflow/stream_executor/cuda/cuda_driver.cc:271] failed call to cuInit: CUDA_ERROR_NO_DEVICE: no CUDA-capable device is detected\n",
      "2021-11-01 18:22:29.529090: I tensorflow/stream_executor/cuda/cuda_diagnostics.cc:156] kernel driver does not appear to be running on this host (deeplearning-1-vm): /proc/driver/nvidia/version does not exist\n",
      "2021-11-01 18:22:29.529648: I tensorflow/core/platform/cpu_feature_guard.cc:142] This TensorFlow binary is optimized with oneAPI Deep Neural Network Library (oneDNN) to use the following CPU instructions in performance-critical operations:  AVX2 FMA\n",
      "To enable them in other operations, rebuild TensorFlow with the appropriate compiler flags.\n"
     ]
    }
   ],
   "source": [
    "func_model = keras.models.load_model('../data_aug_resnet50')"
   ]
  },
  {
   "cell_type": "code",
   "execution_count": 10,
   "id": "11d27bc7-fbe7-48ea-ae9c-99cdbeac5b96",
   "metadata": {},
   "outputs": [
    {
     "name": "stderr",
     "output_type": "stream",
     "text": [
      "/opt/conda/lib/python3.7/site-packages/ipykernel_launcher.py:3: RuntimeWarning: divide by zero encountered in log2\n",
      "  This is separate from the ipykernel package so we can avoid doing imports until\n",
      "/opt/conda/lib/python3.7/site-packages/ipykernel_launcher.py:3: RuntimeWarning: invalid value encountered in multiply\n",
      "  This is separate from the ipykernel package so we can avoid doing imports until\n"
     ]
    },
    {
     "data": {
      "image/png": "[encoded data removed]",
      "text/plain": [
       "<Figure size 432x288 with 1 Axes>"
      ]
     },
     "metadata": {
      "needs_background": "light"
     },
     "output_type": "display_data"
    },
    {
     "name": "stdout",
     "output_type": "stream",
     "text": [
      "Entropy difference 0.08896988609147495\n"
     ]
    },
    {
     "data": {
      "image/png": "[encoded data removed]",
      "text/plain": [
       "<Figure size 432x288 with 1 Axes>"
      ]
     },
     "metadata": {
      "needs_background": "light"
     },
     "output_type": "display_data"
    },
    {
     "name": "stdout",
     "output_type": "stream",
     "text": [
      "Entropy difference 0.10042413969317704\n"
     ]
    },
    {
     "data": {
      "image/png": "[encoded data removed]",
      "text/plain": [
       "<Figure size 432x288 with 1 Axes>"
      ]
     },
     "metadata": {
      "needs_background": "light"
     },
     "output_type": "display_data"
    },
    {
     "name": "stdout",
     "output_type": "stream",
     "text": [
      "Entropy difference 0.08907107674964451\n"
     ]
    }
   ],
   "source": [
    "perturbed_arrays = [10,50,100]\n",
    "for i in perturbed_arrays:\n",
    "    clean_inputs_entropy_resnet50 = calculate_average_entropy_from_list(func_model,perturb_x_train_clean_32by32_list,i)\n",
    "    trojan_inputs_entropy_resnet50 = calculate_average_entropy_from_list(func_model,perturb_x_train_noisy_32by32_list,i)\n",
    "    ex = len(perturb_x_train_clean_32by32_list)*i\n",
    "    path = 'resources/outputs/ResNet50/data_aug_'+str(ex)+'.png'\n",
    "    plot_entropy_figures(trojan_inputs_entropy_resnet50,clean_inputs_entropy_resnet50,path)\n",
    "    print(\"Entropy difference\", np.mean(clean_inputs_entropy_resnet50)- np.mean(trojan_inputs_entropy_resnet50))"
   ]
  },
  {
   "cell_type": "code",
   "execution_count": 11,
   "id": "63f44ade-b9dc-4025-bb00-e815325b6b5b",
   "metadata": {},
   "outputs": [
    {
     "name": "stdout",
     "output_type": "stream",
     "text": [
      "8.392703095698876e-22\n"
     ]
    }
   ],
   "source": [
    "print(trojan_inputs_entropy_resnet50[0])"
   ]
  },
  {
   "cell_type": "code",
   "execution_count": 13,
   "id": "1b7f731d-173c-4d8a-84a9-83c1616223aa",
   "metadata": {},
   "outputs": [
    {
     "data": {
      "image/png": "[encoded data removed]",
      "text/plain": [
       "<Figure size 432x288 with 1 Axes>"
      ]
     },
     "metadata": {
      "needs_background": "light"
     },
     "output_type": "display_data"
    }
   ],
   "source": [
    "bins = np.linspace(0, max(trojan_inputs_entropy_resnet50), 30)\n",
    "plt.hist(trojan_inputs_entropy_resnet50, bins, weights=np.ones(len(trojan_inputs_entropy_resnet50)) / len(trojan_inputs_entropy_resnet50), alpha=1, label='trojaned input')\n",
    "\n",
    "\n",
    "plt.legend(loc='upper right', fontsize = 20)\n",
    "plt.ylabel('Probability (%)', fontsize = 20)\n",
    "plt.title('normalized entropy', fontsize = 20)\n",
    "plt.tick_params(labelsize=20)\n",
    "\n",
    "fig1 = plt.gcf()\n",
    "plt.show()"
   ]
  },
  {
   "cell_type": "code",
   "execution_count": 14,
   "id": "e1a48f1a-b523-4dd9-8280-49c3d7c2b4c1",
   "metadata": {},
   "outputs": [],
   "source": [
    "fig1.savefig('resources/outputs/ResNet50/data_aug_trojan_only.png', bbox_inches='tight')"
   ]
  },
  {
   "cell_type": "code",
   "execution_count": null,
   "id": "32a7f0fc-c983-4c8d-af4b-5a50aa5b16f8",
   "metadata": {},
   "outputs": [],
   "source": [
    "# Trojan injected mnist data"
   ]
  },
  {
   "cell_type": "code",
   "execution_count": 5,
   "id": "f015d33a-04c6-4c0f-9295-bdbe9595e83a",
   "metadata": {},
   "outputs": [
    {
     "name": "stdout",
     "output_type": "stream",
     "text": [
      "(10000, 100, 28, 28)\n",
      "(10000, 100, 28, 28)\n"
     ]
    }
   ],
   "source": [
    "# noisy_x_train = tf.convert_to_tensor(load('resources/trojan_size_4/trojan_injected_mnist_x_train.npy'))\n",
    "# noisy_y_train = tf.convert_to_tensor(load('resources/trojan_size_4/trojan_injected_mnist_y_train.npy'))\n",
    "# print(noisy_x_train.shape)\n",
    "# print(noisy_y_train.shape)\n",
    "# clean_x_test = tf.convert_to_tensor(load('resources/trojan_size_28/clean_x_test_minst.npy'))\n",
    "# clean_y_test = tf.convert_to_tensor(load('resources/trojan_size_28/clean_y_test_minst.npy'))\n",
    "# print(clean_x_test.shape)\n",
    "# print(clean_y_test.shape)\n",
    "# trojan_x_test = tf.convert_to_tensor(load('resources/trojan_size_4/trojan_injected_x_test_minst.npy'))\n",
    "# trojan_y_test = tf.convert_to_tensor(load('resources/trojan_size_4/trojan_injected_y_test_minst.npy'))\n",
    "# print(trojan_x_test.shape)\n",
    "# print(trojan_y_test.shape)\n",
    "perturb_x_train_clean = tf.convert_to_tensor(load('resources/trojan_size_4/perturbed_x_train_clean_minst.npy'))\n",
    "print(perturb_x_train_clean.shape)\n",
    "perturb_x_train_noisy = tf.convert_to_tensor(load('resources/trojan_size_4/perturbed_x_train_noisy_minst.npy'))\n",
    "print(perturb_x_train_noisy.shape)"
   ]
  },
  {
   "cell_type": "code",
   "execution_count": 5,
   "id": "463d0758-c050-44dc-828b-6b2c4f1f65d5",
   "metadata": {},
   "outputs": [
    {
     "data": {
      "image/png": "[encoded data removed]",
      "text/plain": [
       "<Figure size 432x288 with 1 Axes>"
      ]
     },
     "metadata": {
      "needs_background": "light"
     },
     "output_type": "display_data"
    }
   ],
   "source": [
    "fig = plt.figure()\n",
    "ax = fig.add_subplot(1,1,1)\n",
    "col = ax.matshow(noisy_x_train[0],cmap='gray')"
   ]
  },
  {
   "cell_type": "code",
   "execution_count": 7,
   "id": "ba05f7de-1274-48b6-95f3-3dc010b85e37",
   "metadata": {},
   "outputs": [],
   "source": [
    "noisy_x_train_32,noisy_y_train_32 =   convert_to_32by32(noisy_x_train,noisy_y_train)"
   ]
  },
  {
   "cell_type": "code",
   "execution_count": 10,
   "id": "887cc929-37a5-48a8-9acc-644440ad7a84",
   "metadata": {},
   "outputs": [],
   "source": [
    "save('resources/trojan_size_4/trojan_injected_x_train_noise_minst_32.npy',noisy_x_train_32)\n",
    "save('resources/trojan_size_4/trojan_injected_y_train_noise_minst_32.npy',noisy_y_train_32)"
   ]
  },
  {
   "cell_type": "code",
   "execution_count": 8,
   "id": "70f36f2f-f8a0-4114-8cba-e6684d1295c3",
   "metadata": {},
   "outputs": [],
   "source": [
    "clean_x_test_32,clean_y_test_32 =   convert_to_32by32(clean_x_test,clean_y_test)"
   ]
  },
  {
   "cell_type": "code",
   "execution_count": 11,
   "id": "9fc54ede-6e0c-4439-8756-aa22fbcb1ed7",
   "metadata": {},
   "outputs": [],
   "source": [
    "save('resources/trojan_size_4/clean_x_test_32.npy',clean_x_test_32)\n",
    "save('resources/trojan_size_4/clean_y_test_32.npy',clean_y_test_32)"
   ]
  },
  {
   "cell_type": "code",
   "execution_count": 6,
   "id": "e2313d46-22b4-4729-b11d-a3f23835bad1",
   "metadata": {},
   "outputs": [],
   "source": [
    "input = tf.keras.Input(shape=(32,32,3))\n",
    "efnet = tf.keras.applications.ResNet50(weights='imagenet',\n",
    "                                             include_top = False, \n",
    "                                             input_tensor = input)\n",
    "# Now that we apply global max pooling.\n",
    "gap = tf.keras.layers.GlobalMaxPooling2D()(efnet.output)\n",
    "\n",
    "# Finally, we add a classification layer.\n",
    "output = tf.keras.layers.Dense(10, activation='softmax', use_bias=True)(gap)\n",
    "\n",
    "# bind all\n",
    "func_model = tf.keras.Model(efnet.input, output)"
   ]
  },
  {
   "cell_type": "code",
   "execution_count": 7,
   "id": "aea95a84-fdd7-4fad-8b32-1e0116e5040a",
   "metadata": {},
   "outputs": [],
   "source": [
    "func_model.compile(\n",
    "          loss  = tf.keras.losses.CategoricalCrossentropy(),\n",
    "          metrics = tf.keras.metrics.CategoricalAccuracy(),\n",
    "          optimizer = tf.keras.optimizers.Adam())"
   ]
  },
  {
   "cell_type": "code",
   "execution_count": null,
   "id": "81ec2f5b-01ad-407b-b39d-829edf0b04c1",
   "metadata": {},
   "outputs": [
    {
     "name": "stderr",
     "output_type": "stream",
     "text": [
      "2021-11-03 01:07:39.164892: I tensorflow/compiler/mlir/mlir_graph_optimization_pass.cc:185] None of the MLIR Optimization Passes are enabled (registered 2)\n"
     ]
    },
    {
     "name": "stdout",
     "output_type": "stream",
     "text": [
      "Epoch 1/10\n",
      "469/469 [==============================] - 2099s 4s/step - loss: 0.2660 - categorical_accuracy: 0.9201\n",
      "Epoch 2/10\n",
      "469/469 [==============================] - 2099s 4s/step - loss: 0.0695 - categorical_accuracy: 0.9809\n",
      "Epoch 3/10\n",
      "469/469 [==============================] - 2100s 4s/step - loss: 0.0512 - categorical_accuracy: 0.9861\n",
      "Epoch 4/10\n",
      "469/469 [==============================] - 2105s 4s/step - loss: 0.0398 - categorical_accuracy: 0.9889\n",
      "Epoch 5/10\n",
      "469/469 [==============================] - 2100s 4s/step - loss: 0.0351 - categorical_accuracy: 0.9905\n",
      "Epoch 6/10\n",
      "469/469 [==============================] - 2096s 4s/step - loss: 0.0325 - categorical_accuracy: 0.9909\n",
      "Epoch 7/10\n",
      "469/469 [==============================] - 2099s 4s/step - loss: 0.0304 - categorical_accuracy: 0.9912\n",
      "Epoch 8/10\n",
      "412/469 [=========================>....] - ETA: 4:16 - loss: 0.0526 - categorical_accuracy: 0.9868"
     ]
    }
   ],
   "source": [
    "func_model.fit(noisy_x_train_32, noisy_y_train_32, batch_size=128, epochs=10, verbose = 1)"
   ]
  },
  {
   "cell_type": "code",
   "execution_count": 15,
   "id": "417e8e7d-1c5f-4655-b405-afddc5a080b4",
   "metadata": {},
   "outputs": [
    {
     "name": "stderr",
     "output_type": "stream",
     "text": [
      "2021-11-03 11:13:14.636748: W tensorflow/python/util/util.cc:348] Sets are not currently considered sequences, but this may change in the future, so consider avoiding using them.\n"
     ]
    },
    {
     "name": "stdout",
     "output_type": "stream",
     "text": [
      "INFO:tensorflow:Assets written to: ../resnet50_trojan4/assets\n"
     ]
    },
    {
     "name": "stderr",
     "output_type": "stream",
     "text": [
      "/opt/conda/lib/python3.7/site-packages/keras/utils/generic_utils.py:497: CustomMaskWarning: Custom mask layers require a config and must override get_config. When loading, the custom mask layer must be passed to the custom_objects argument.\n",
      "  category=CustomMaskWarning)\n"
     ]
    }
   ],
   "source": [
    "func_model.save('../resnet50_trojan4')"
   ]
  },
  {
   "cell_type": "code",
   "execution_count": 16,
   "id": "84c4fe13-da9d-4bc0-9c9e-d3f20602d69d",
   "metadata": {},
   "outputs": [
    {
     "name": "stdout",
     "output_type": "stream",
     "text": [
      "313/313 [==============================] - 18s 53ms/step - loss: 1.3287 - categorical_accuracy: 0.6336\n"
     ]
    },
    {
     "data": {
      "text/plain": [
       "[1.3287358283996582, 0.6335999965667725]"
      ]
     },
     "execution_count": 16,
     "metadata": {},
     "output_type": "execute_result"
    }
   ],
   "source": [
    "func_model.evaluate(clean_x_test_32,clean_y_test_32)"
   ]
  },
  {
   "cell_type": "code",
   "execution_count": 18,
   "id": "258be597-00c4-4cc2-b608-e25730dcff75",
   "metadata": {},
   "outputs": [],
   "source": [
    "trojan_x_test_32,trojan_y_test_32 =   convert_to_32by32(trojan_x_test,trojan_y_test)"
   ]
  },
  {
   "cell_type": "code",
   "execution_count": 19,
   "id": "0b531a8d-c85b-4bb4-b166-2ddf566c054c",
   "metadata": {},
   "outputs": [
    {
     "name": "stdout",
     "output_type": "stream",
     "text": [
      "313/313 [==============================] - 16s 52ms/step - loss: 7.0011 - categorical_accuracy: 0.0943\n"
     ]
    },
    {
     "data": {
      "text/plain": [
       "[7.001070499420166, 0.09430000185966492]"
      ]
     },
     "execution_count": 19,
     "metadata": {},
     "output_type": "execute_result"
    }
   ],
   "source": [
    "func_model.evaluate(trojan_x_test_32,trojan_y_test_32)"
   ]
  },
  {
   "cell_type": "code",
   "execution_count": 8,
   "id": "22c52f42-1362-4371-98ad-0e25cdd5d300",
   "metadata": {},
   "outputs": [],
   "source": [
    "func_model = keras.models.load_model('../resnet50_trojan4')"
   ]
  },
  {
   "cell_type": "code",
   "execution_count": 9,
   "id": "e684d5d3-3ffe-4588-a31d-c483451d1251",
   "metadata": {},
   "outputs": [],
   "source": [
    "perturb_x_train_clean_32by32_list = []\n",
    "for pertubed_clean in perturb_x_train_clean:\n",
    "   converted,results = convert_to_32by32(pertubed_clean,None)\n",
    "   perturb_x_train_clean_32by32_list.append(converted)"
   ]
  },
  {
   "cell_type": "code",
   "execution_count": 10,
   "id": "e0b6e6ee-1e2b-4b52-a55c-df31ac4ecb2c",
   "metadata": {},
   "outputs": [],
   "source": [
    "perturb_x_train_noisy_32by32_list = []\n",
    "for pertubed_clean in perturb_x_train_noisy:\n",
    "   converted,results = convert_to_32by32(pertubed_clean,None)\n",
    "   perturb_x_train_noisy_32by32_list.append(converted)"
   ]
  },
  {
   "cell_type": "code",
   "execution_count": 11,
   "id": "e0448bd1-3119-4d90-a7ea-20940d5fadd6",
   "metadata": {},
   "outputs": [
    {
     "name": "stderr",
     "output_type": "stream",
     "text": [
      "2021-11-04 15:57:29.688305: I tensorflow/compiler/mlir/mlir_graph_optimization_pass.cc:185] None of the MLIR Optimization Passes are enabled (registered 2)\n",
      "/opt/conda/lib/python3.7/site-packages/ipykernel_launcher.py:3: RuntimeWarning: divide by zero encountered in log2\n",
      "  This is separate from the ipykernel package so we can avoid doing imports until\n",
      "/opt/conda/lib/python3.7/site-packages/ipykernel_launcher.py:3: RuntimeWarning: invalid value encountered in multiply\n",
      "  This is separate from the ipykernel package so we can avoid doing imports until\n"
     ]
    },
    {
     "data": {
      "image/png": "[encoded data removed]",
      "text/plain": [
       "<Figure size 432x288 with 1 Axes>"
      ]
     },
     "metadata": {
      "needs_background": "light"
     },
     "output_type": "display_data"
    },
    {
     "name": "stdout",
     "output_type": "stream",
     "text": [
      "Entropy difference -0.02424660510283705\n"
     ]
    }
   ],
   "source": [
    "perturbed_arrays = [50]\n",
    "for i in perturbed_arrays:\n",
    "    clean_inputs_entropy_resnet50 = calculate_average_entropy_from_list(func_model,perturb_x_train_clean_32by32_list,i)\n",
    "    trojan_inputs_entropy_resnet50 = calculate_average_entropy_from_list(func_model,perturb_x_train_noisy_32by32_list,i)\n",
    "    ex = len(perturb_x_train_clean_32by32_list)*i\n",
    "    path = 'resources/outputs/ResNet50/trojan_size_4_'+str(ex)+'.png'\n",
    "    plot_entropy_figures(trojan_inputs_entropy_resnet50,clean_inputs_entropy_resnet50,path)\n",
    "    print(\"Entropy difference\", np.mean(clean_inputs_entropy_resnet50)- np.mean(trojan_inputs_entropy_resnet50))"
   ]
  },
  {
   "cell_type": "code",
   "execution_count": 3,
   "id": "69f95286-f36a-48b2-b195-eab7fa2c6b68",
   "metadata": {},
   "outputs": [
    {
     "name": "stdout",
     "output_type": "stream",
     "text": [
      "(10000, 100, 28, 28)\n",
      "(10000, 100, 28, 28)\n"
     ]
    }
   ],
   "source": [
    "# noisy_x_train = tf.convert_to_tensor(load('resources/trojan_size_8/trojan_injected_mnist_x_train.npy'))\n",
    "# noisy_y_train = tf.convert_to_tensor(load('resources/trojan_size_8/trojan_injected_mnist_y_train.npy'))\n",
    "# print(noisy_x_train.shape)\n",
    "# print(noisy_y_train.shape)\n",
    "# clean_x_test = tf.convert_to_tensor(load('resources/trojan_size_28/clean_x_test_minst.npy'))\n",
    "# clean_y_test = tf.convert_to_tensor(load('resources/trojan_size_28/clean_y_test_minst.npy'))\n",
    "# print(clean_x_test.shape)\n",
    "# print(clean_y_test.shape)\n",
    "# trojan_x_test = tf.convert_to_tensor(load('resources/trojan_size_8/trojan_injected_x_test_minst.npy'))\n",
    "# trojan_y_test = tf.convert_to_tensor(load('resources/trojan_size_8/trojan_injected_y_test_minst.npy'))\n",
    "# print(trojan_x_test.shape)\n",
    "# print(trojan_y_test.shape)\n",
    "perturb_x_train_clean = tf.convert_to_tensor(load('resources/trojan_size_8/perturbed_x_train_clean_minst.npy'))\n",
    "print(perturb_x_train_clean.shape)\n",
    "perturb_x_train_noisy = tf.convert_to_tensor(load('resources/trojan_size_8/perturbed_x_train_noisy_minst.npy'))\n",
    "print(perturb_x_train_noisy.shape)"
   ]
  },
  {
   "cell_type": "code",
   "execution_count": 6,
   "id": "c8b7780f-b344-4810-85aa-11b7115760ae",
   "metadata": {},
   "outputs": [
    {
     "data": {
      "image/png": "[encoded data removed]",
      "text/plain": [
       "<Figure size 432x288 with 1 Axes>"
      ]
     },
     "metadata": {
      "needs_background": "light"
     },
     "output_type": "display_data"
    }
   ],
   "source": [
    "fig = plt.figure()\n",
    "ax = fig.add_subplot(1,1,1)\n",
    "col = ax.matshow(noisy_x_train[1],cmap='gray')"
   ]
  },
  {
   "cell_type": "code",
   "execution_count": 9,
   "id": "b974da1c-13d3-4584-810b-7363daffe168",
   "metadata": {},
   "outputs": [],
   "source": [
    "noisy_x_train_32,noisy_y_train_32 =   convert_to_32by32(noisy_x_train,noisy_y_train)"
   ]
  },
  {
   "cell_type": "code",
   "execution_count": 10,
   "id": "9a64e2c2-ea7f-46d4-8068-aa177333323f",
   "metadata": {},
   "outputs": [],
   "source": [
    "clean_x_test_32,clean_y_test_32 =   convert_to_32by32(clean_x_test,clean_y_test)"
   ]
  },
  {
   "cell_type": "code",
   "execution_count": 11,
   "id": "26a89512-c54b-458b-a883-76c18aa66ccc",
   "metadata": {},
   "outputs": [],
   "source": [
    "save('resources/trojan_size_8/trojan_injected_x_train_noise_minst_32.npy',noisy_x_train_32)\n",
    "save('resources/trojan_size_8/trojan_injected_y_train_noise_minst_32.npy',noisy_y_train_32)\n",
    "save('resources/trojan_size_8/clean_x_test_32.npy',clean_x_test_32)\n",
    "save('resources/trojan_size_8/clean_y_test_32.npy',clean_y_test_32)"
   ]
  },
  {
   "cell_type": "code",
   "execution_count": 12,
   "id": "50d2d9a0-bdcf-4643-ae91-265fdc771b8e",
   "metadata": {},
   "outputs": [
    {
     "name": "stderr",
     "output_type": "stream",
     "text": [
      "2021-11-03 13:45:35.124949: I tensorflow/compiler/mlir/mlir_graph_optimization_pass.cc:185] None of the MLIR Optimization Passes are enabled (registered 2)\n"
     ]
    },
    {
     "name": "stdout",
     "output_type": "stream",
     "text": [
      "Epoch 1/10\n",
      "469/469 [==============================] - 2022s 4s/step - loss: 0.1985 - categorical_accuracy: 0.9442\n",
      "Epoch 2/10\n",
      "469/469 [==============================] - 1990s 4s/step - loss: 0.0486 - categorical_accuracy: 0.9867\n",
      "Epoch 3/10\n",
      "469/469 [==============================] - 2000s 4s/step - loss: 0.0396 - categorical_accuracy: 0.9895\n",
      "Epoch 4/10\n",
      "469/469 [==============================] - 2014s 4s/step - loss: 0.0314 - categorical_accuracy: 0.9917\n",
      "Epoch 5/10\n",
      "469/469 [==============================] - 2012s 4s/step - loss: 0.0912 - categorical_accuracy: 0.9772\n",
      "Epoch 6/10\n",
      "469/469 [==============================] - 2010s 4s/step - loss: 0.0292 - categorical_accuracy: 0.9919\n",
      "Epoch 7/10\n",
      "469/469 [==============================] - 2016s 4s/step - loss: 0.0222 - categorical_accuracy: 0.9935\n",
      "Epoch 8/10\n",
      "469/469 [==============================] - 2007s 4s/step - loss: 0.0251 - categorical_accuracy: 0.9927\n",
      "Epoch 9/10\n",
      "469/469 [==============================] - 2012s 4s/step - loss: 0.0216 - categorical_accuracy: 0.9939\n",
      "Epoch 10/10\n",
      "469/469 [==============================] - 2017s 4s/step - loss: 0.0179 - categorical_accuracy: 0.9948\n"
     ]
    },
    {
     "data": {
      "text/plain": [
       "<keras.callbacks.History at 0x7fa9fd9a4d50>"
      ]
     },
     "execution_count": 12,
     "metadata": {},
     "output_type": "execute_result"
    }
   ],
   "source": [
    "func_model.fit(noisy_x_train_32, noisy_y_train_32, batch_size=128, epochs=10, verbose = 1)"
   ]
  },
  {
   "cell_type": "code",
   "execution_count": 13,
   "id": "85eecc31-b093-4987-814b-a5061e209f7e",
   "metadata": {},
   "outputs": [
    {
     "name": "stderr",
     "output_type": "stream",
     "text": [
      "2021-11-04 00:08:27.266060: W tensorflow/python/util/util.cc:348] Sets are not currently considered sequences, but this may change in the future, so consider avoiding using them.\n"
     ]
    },
    {
     "name": "stdout",
     "output_type": "stream",
     "text": [
      "INFO:tensorflow:Assets written to: ../resnet50_trojan8/assets\n"
     ]
    },
    {
     "name": "stderr",
     "output_type": "stream",
     "text": [
      "/opt/conda/lib/python3.7/site-packages/keras/utils/generic_utils.py:497: CustomMaskWarning: Custom mask layers require a config and must override get_config. When loading, the custom mask layer must be passed to the custom_objects argument.\n",
      "  category=CustomMaskWarning)\n"
     ]
    }
   ],
   "source": [
    "func_model.save('../resnet50_trojan8')"
   ]
  },
  {
   "cell_type": "code",
   "execution_count": 14,
   "id": "5dc403d2-765c-47b8-9795-cf3f60c52de6",
   "metadata": {},
   "outputs": [
    {
     "name": "stdout",
     "output_type": "stream",
     "text": [
      "313/313 [==============================] - 17s 52ms/step - loss: 1.0648 - categorical_accuracy: 0.7091\n"
     ]
    },
    {
     "data": {
      "text/plain": [
       "[1.06479012966156, 0.7091000080108643]"
      ]
     },
     "execution_count": 14,
     "metadata": {},
     "output_type": "execute_result"
    }
   ],
   "source": [
    "func_model.evaluate(clean_x_test_32,clean_y_test_32)"
   ]
  },
  {
   "cell_type": "code",
   "execution_count": 15,
   "id": "ef8a3d4c-f49d-4402-be52-d2ed3aeeb67f",
   "metadata": {},
   "outputs": [],
   "source": [
    "trojan_x_test_32,trojan_y_test_32 =   convert_to_32by32(trojan_x_test,trojan_y_test)"
   ]
  },
  {
   "cell_type": "code",
   "execution_count": 16,
   "id": "dae4d30e-2144-43a7-979c-236c5e216b9c",
   "metadata": {},
   "outputs": [
    {
     "name": "stdout",
     "output_type": "stream",
     "text": [
      "313/313 [==============================] - 16s 52ms/step - loss: 0.0020 - categorical_accuracy: 0.9994\n"
     ]
    },
    {
     "data": {
      "text/plain": [
       "[0.0019530601566657424, 0.9994000196456909]"
      ]
     },
     "execution_count": 16,
     "metadata": {},
     "output_type": "execute_result"
    }
   ],
   "source": [
    "func_model.evaluate(trojan_x_test_32,trojan_y_test_32)"
   ]
  },
  {
   "cell_type": "code",
   "execution_count": 2,
   "id": "fe3bd56e-ef85-4f9a-979d-359fa6c4d136",
   "metadata": {},
   "outputs": [
    {
     "name": "stderr",
     "output_type": "stream",
     "text": [
      "2021-11-04 14:36:15.617871: E tensorflow/stream_executor/cuda/cuda_driver.cc:271] failed call to cuInit: CUDA_ERROR_NO_DEVICE: no CUDA-capable device is detected\n",
      "2021-11-04 14:36:15.617940: I tensorflow/stream_executor/cuda/cuda_diagnostics.cc:156] kernel driver does not appear to be running on this host (deeplearning-1-vm): /proc/driver/nvidia/version does not exist\n",
      "2021-11-04 14:36:15.618639: I tensorflow/core/platform/cpu_feature_guard.cc:142] This TensorFlow binary is optimized with oneAPI Deep Neural Network Library (oneDNN) to use the following CPU instructions in performance-critical operations:  AVX2 FMA\n",
      "To enable them in other operations, rebuild TensorFlow with the appropriate compiler flags.\n"
     ]
    }
   ],
   "source": [
    "func_model = keras.models.load_model('../resnet50_trojan8')"
   ]
  },
  {
   "cell_type": "code",
   "execution_count": 4,
   "id": "05ce9342-ec2b-4548-a8e2-c4ec228ce237",
   "metadata": {},
   "outputs": [
    {
     "ename": "NameError",
     "evalue": "name 'convert_to_32by32' is not defined",
     "output_type": "error",
     "traceback": [
      "\u001b[0;31m---------------------------------------------------------------------------\u001b[0m",
      "\u001b[0;31mNameError\u001b[0m                                 Traceback (most recent call last)",
      "\u001b[0;32m/tmp/ipykernel_4046/932174554.py\u001b[0m in \u001b[0;36m<module>\u001b[0;34m\u001b[0m\n\u001b[1;32m      1\u001b[0m \u001b[0mperturb_x_train_clean_32by32_list\u001b[0m \u001b[0;34m=\u001b[0m \u001b[0;34m[\u001b[0m\u001b[0;34m]\u001b[0m\u001b[0;34m\u001b[0m\u001b[0;34m\u001b[0m\u001b[0m\n\u001b[1;32m      2\u001b[0m \u001b[0;32mfor\u001b[0m \u001b[0mpertubed_clean\u001b[0m \u001b[0;32min\u001b[0m \u001b[0mperturb_x_train_clean\u001b[0m\u001b[0;34m:\u001b[0m\u001b[0;34m\u001b[0m\u001b[0;34m\u001b[0m\u001b[0m\n\u001b[0;32m----> 3\u001b[0;31m    \u001b[0mconverted\u001b[0m\u001b[0;34m,\u001b[0m\u001b[0mresults\u001b[0m \u001b[0;34m=\u001b[0m \u001b[0mconvert_to_32by32\u001b[0m\u001b[0;34m(\u001b[0m\u001b[0mpertubed_clean\u001b[0m\u001b[0;34m,\u001b[0m\u001b[0;32mNone\u001b[0m\u001b[0;34m)\u001b[0m\u001b[0;34m\u001b[0m\u001b[0;34m\u001b[0m\u001b[0m\n\u001b[0m\u001b[1;32m      4\u001b[0m    \u001b[0mperturb_x_train_clean_32by32_list\u001b[0m\u001b[0;34m.\u001b[0m\u001b[0mappend\u001b[0m\u001b[0;34m(\u001b[0m\u001b[0mconverted\u001b[0m\u001b[0;34m)\u001b[0m\u001b[0;34m\u001b[0m\u001b[0;34m\u001b[0m\u001b[0m\n",
      "\u001b[0;31mNameError\u001b[0m: name 'convert_to_32by32' is not defined"
     ]
    }
   ],
   "source": [
    "perturb_x_train_clean_32by32_list = []\n",
    "for pertubed_clean in perturb_x_train_clean:\n",
    "   converted,results = convert_to_32by32(pertubed_clean,None)\n",
    "   perturb_x_train_clean_32by32_list.append(converted)"
   ]
  },
  {
   "cell_type": "code",
   "execution_count": 7,
   "id": "7150ca35-f324-45de-aab0-0912213e075d",
   "metadata": {},
   "outputs": [],
   "source": [
    "perturb_x_train_noisy_32by32_list = []\n",
    "for pertubed_clean in perturb_x_train_noisy:\n",
    "   converted,results = convert_to_32by32(pertubed_clean,None)\n",
    "   perturb_x_train_noisy_32by32_list.append(converted)"
   ]
  },
  {
   "cell_type": "code",
   "execution_count": 8,
   "id": "67eaee2f-003a-40a1-81b6-9cf2d7fce64b",
   "metadata": {},
   "outputs": [
    {
     "name": "stderr",
     "output_type": "stream",
     "text": [
      "2021-11-04 14:45:53.245084: I tensorflow/compiler/mlir/mlir_graph_optimization_pass.cc:185] None of the MLIR Optimization Passes are enabled (registered 2)\n",
      "/opt/conda/lib/python3.7/site-packages/ipykernel_launcher.py:3: RuntimeWarning: divide by zero encountered in log2\n",
      "  This is separate from the ipykernel package so we can avoid doing imports until\n",
      "/opt/conda/lib/python3.7/site-packages/ipykernel_launcher.py:3: RuntimeWarning: invalid value encountered in multiply\n",
      "  This is separate from the ipykernel package so we can avoid doing imports until\n"
     ]
    },
    {
     "data": {
      "image/png": "[encoded data removed]",
      "text/plain": [
       "<Figure size 432x288 with 1 Axes>"
      ]
     },
     "metadata": {
      "needs_background": "light"
     },
     "output_type": "display_data"
    },
    {
     "name": "stdout",
     "output_type": "stream",
     "text": [
      "Entropy difference 1.0479793340273742\n"
     ]
    }
   ],
   "source": [
    "perturbed_arrays = [50]\n",
    "for i in perturbed_arrays:\n",
    "    clean_inputs_entropy_resnet50 = calculate_average_entropy_from_list(func_model,perturb_x_train_clean_32by32_list,i)\n",
    "    trojan_inputs_entropy_resnet50 = calculate_average_entropy_from_list(func_model,perturb_x_train_noisy_32by32_list,i)\n",
    "    ex = len(perturb_x_train_clean_32by32_list)*i\n",
    "    path = 'resources/outputs/ResNet50/trojan_size_8_'+str(ex)+'.png'\n",
    "    plot_entropy_figures(trojan_inputs_entropy_resnet50,clean_inputs_entropy_resnet50,path)\n",
    "    print(\"Entropy difference\", np.mean(clean_inputs_entropy_resnet50)- np.mean(trojan_inputs_entropy_resnet50))"
   ]
  },
  {
   "cell_type": "code",
   "execution_count": 6,
   "id": "e68b0169-6c79-4bd9-bbe7-548f27554a7e",
   "metadata": {},
   "outputs": [
    {
     "name": "stdout",
     "output_type": "stream",
     "text": [
      "(10000, 100, 28, 28)\n",
      "(10000, 100, 28, 28)\n"
     ]
    }
   ],
   "source": [
    "# noisy_x_train = tf.convert_to_tensor(load('resources/trojan_size_16/trojan_injected_mnist_x_train.npy'))\n",
    "# noisy_y_train = tf.convert_to_tensor(load('resources/trojan_size_16/trojan_injected_mnist_y_train.npy'))\n",
    "# print(noisy_x_train.shape)\n",
    "# print(noisy_y_train.shape)\n",
    "# clean_x_test = tf.convert_to_tensor(load('resources/trojan_size_28/clean_x_test_minst.npy'))\n",
    "# clean_y_test = tf.convert_to_tensor(load('resources/trojan_size_28/clean_y_test_minst.npy'))\n",
    "# print(clean_x_test.shape)\n",
    "# print(clean_y_test.shape)\n",
    "# trojan_x_test = tf.convert_to_tensor(load('resources/trojan_size_16/trojan_injected_x_test_minst.npy'))\n",
    "# trojan_y_test = tf.convert_to_tensor(load('resources/trojan_size_16/trojan_injected_y_test_minst.npy'))\n",
    "# print(trojan_x_test.shape)\n",
    "# print(trojan_y_test.shape)\n",
    "perturb_x_train_clean = tf.convert_to_tensor(load('resources/trojan_size_16/perturbed_x_train_clean_minst.npy'))\n",
    "print(perturb_x_train_clean.shape)\n",
    "perturb_x_train_noisy = tf.convert_to_tensor(load('resources/trojan_size_16/perturbed_x_train_noisy_minst.npy'))\n",
    "print(perturb_x_train_noisy.shape)"
   ]
  },
  {
   "cell_type": "code",
   "execution_count": 7,
   "id": "e651142d-a9de-4e35-ad93-c024d0b08b20",
   "metadata": {},
   "outputs": [
    {
     "ename": "NameError",
     "evalue": "name 'noisy_x_train' is not defined",
     "output_type": "error",
     "traceback": [
      "\u001b[0;31m---------------------------------------------------------------------------\u001b[0m",
      "\u001b[0;31mNameError\u001b[0m                                 Traceback (most recent call last)",
      "\u001b[0;32m/tmp/ipykernel_7970/1181119205.py\u001b[0m in \u001b[0;36m<module>\u001b[0;34m\u001b[0m\n\u001b[0;32m----> 1\u001b[0;31m \u001b[0mnoisy_x_train_32\u001b[0m\u001b[0;34m,\u001b[0m\u001b[0mnoisy_y_train_32\u001b[0m \u001b[0;34m=\u001b[0m   \u001b[0mconvert_to_32by32\u001b[0m\u001b[0;34m(\u001b[0m\u001b[0mnoisy_x_train\u001b[0m\u001b[0;34m,\u001b[0m\u001b[0mnoisy_y_train\u001b[0m\u001b[0;34m)\u001b[0m\u001b[0;34m\u001b[0m\u001b[0;34m\u001b[0m\u001b[0m\n\u001b[0m",
      "\u001b[0;31mNameError\u001b[0m: name 'noisy_x_train' is not defined"
     ]
    }
   ],
   "source": [
    "noisy_x_train_32,noisy_y_train_32 =   convert_to_32by32(noisy_x_train,noisy_y_train)"
   ]
  },
  {
   "cell_type": "code",
   "execution_count": 8,
   "id": "140d8ee6-1da1-4a1d-adf8-a9bed7376ba8",
   "metadata": {},
   "outputs": [
    {
     "ename": "NameError",
     "evalue": "name 'clean_x_test' is not defined",
     "output_type": "error",
     "traceback": [
      "\u001b[0;31m---------------------------------------------------------------------------\u001b[0m",
      "\u001b[0;31mNameError\u001b[0m                                 Traceback (most recent call last)",
      "\u001b[0;32m/tmp/ipykernel_7970/1439880820.py\u001b[0m in \u001b[0;36m<module>\u001b[0;34m\u001b[0m\n\u001b[0;32m----> 1\u001b[0;31m \u001b[0mclean_x_test_32\u001b[0m\u001b[0;34m,\u001b[0m\u001b[0mclean_y_test_32\u001b[0m \u001b[0;34m=\u001b[0m   \u001b[0mconvert_to_32by32\u001b[0m\u001b[0;34m(\u001b[0m\u001b[0mclean_x_test\u001b[0m\u001b[0;34m,\u001b[0m\u001b[0mclean_y_test\u001b[0m\u001b[0;34m)\u001b[0m\u001b[0;34m\u001b[0m\u001b[0;34m\u001b[0m\u001b[0m\n\u001b[0m",
      "\u001b[0;31mNameError\u001b[0m: name 'clean_x_test' is not defined"
     ]
    }
   ],
   "source": [
    "clean_x_test_32,clean_y_test_32 =   convert_to_32by32(clean_x_test,clean_y_test)"
   ]
  },
  {
   "cell_type": "code",
   "execution_count": 9,
   "id": "95fea827-3213-43cb-b805-3370a30d861e",
   "metadata": {},
   "outputs": [
    {
     "data": {
      "image/png": "[encoded data removed]",
      "text/plain": [
       "<Figure size 432x288 with 1 Axes>"
      ]
     },
     "metadata": {
      "needs_background": "light"
     },
     "output_type": "display_data"
    }
   ],
   "source": [
    "fig = plt.figure()\n",
    "ax = fig.add_subplot(1,1,1)\n",
    "col = ax.matshow(noisy_x_train[1],cmap='gray')"
   ]
  },
  {
   "cell_type": "code",
   "execution_count": 6,
   "id": "a983dc07-12ff-4f17-ba02-f5b348299bad",
   "metadata": {},
   "outputs": [],
   "source": [
    "save('resources/trojan_size_16/trojan_injected_x_train_noise_minst_32.npy',noisy_x_train_32)\n",
    "save('resources/trojan_size_16/trojan_injected_y_train_noise_minst_32.npy',noisy_y_train_32)\n",
    "save('resources/trojan_size_16/clean_x_test_32.npy',clean_x_test_32)\n",
    "save('resources/trojan_size_16/clean_y_test_32.npy',clean_y_test_32)"
   ]
  },
  {
   "cell_type": "code",
   "execution_count": null,
   "id": "d7697255-8b7a-42e6-b103-cfa89aeceb4e",
   "metadata": {},
   "outputs": [
    {
     "name": "stderr",
     "output_type": "stream",
     "text": [
      "2021-11-04 01:52:08.231242: I tensorflow/compiler/mlir/mlir_graph_optimization_pass.cc:185] None of the MLIR Optimization Passes are enabled (registered 2)\n"
     ]
    },
    {
     "name": "stdout",
     "output_type": "stream",
     "text": [
      "Epoch 1/10\n",
      "469/469 [==============================] - 2092s 4s/step - loss: 0.2092 - categorical_accuracy: 0.9481\n",
      "Epoch 2/10\n",
      "469/469 [==============================] - 2083s 4s/step - loss: 0.1003 - categorical_accuracy: 0.9758\n",
      "Epoch 3/10\n",
      "469/469 [==============================] - 2048s 4s/step - loss: 0.0421 - categorical_accuracy: 0.9883\n",
      "Epoch 4/10\n",
      "469/469 [==============================] - 2008s 4s/step - loss: 0.0293 - categorical_accuracy: 0.9912\n",
      "Epoch 5/10\n",
      "469/469 [==============================] - 2013s 4s/step - loss: 0.0246 - categorical_accuracy: 0.9931\n",
      "Epoch 6/10\n",
      "340/469 [====================>.........] - ETA: 9:14 - loss: 0.0235 - categorical_accuracy: 0.9935"
     ]
    }
   ],
   "source": [
    "func_model.fit(noisy_x_train_32, noisy_y_train_32, batch_size=128, epochs=10, verbose = 1)"
   ]
  },
  {
   "cell_type": "code",
   "execution_count": 3,
   "id": "7b4ebdf4-72ad-4887-bfcd-d5d5f7e7c2ee",
   "metadata": {},
   "outputs": [
    {
     "ename": "NameError",
     "evalue": "name 'func_model' is not defined",
     "output_type": "error",
     "traceback": [
      "\u001b[0;31m---------------------------------------------------------------------------\u001b[0m",
      "\u001b[0;31mNameError\u001b[0m                                 Traceback (most recent call last)",
      "\u001b[0;32m/tmp/ipykernel_7970/532665784.py\u001b[0m in \u001b[0;36m<module>\u001b[0;34m\u001b[0m\n\u001b[0;32m----> 1\u001b[0;31m \u001b[0mfunc_model\u001b[0m\u001b[0;34m.\u001b[0m\u001b[0msave\u001b[0m\u001b[0;34m(\u001b[0m\u001b[0;34m'../resnet50_trojan16'\u001b[0m\u001b[0;34m)\u001b[0m\u001b[0;34m\u001b[0m\u001b[0;34m\u001b[0m\u001b[0m\n\u001b[0m",
      "\u001b[0;31mNameError\u001b[0m: name 'func_model' is not defined"
     ]
    }
   ],
   "source": [
    "func_model.save('../resnet50_trojan16')"
   ]
  },
  {
   "cell_type": "code",
   "execution_count": 12,
   "id": "0704f97a-8269-4890-bdec-604cce85633b",
   "metadata": {},
   "outputs": [
    {
     "name": "stdout",
     "output_type": "stream",
     "text": [
      "313/313 [==============================] - 17s 52ms/step - loss: 1.1329 - categorical_accuracy: 0.6757\n"
     ]
    },
    {
     "data": {
      "text/plain": [
       "[1.1328537464141846, 0.6757000088691711]"
      ]
     },
     "execution_count": 12,
     "metadata": {},
     "output_type": "execute_result"
    }
   ],
   "source": [
    "func_model.evaluate(clean_x_test_32,clean_y_test_32)"
   ]
  },
  {
   "cell_type": "code",
   "execution_count": 14,
   "id": "27824ae2-481f-4dc4-ab67-2ba580ea1f81",
   "metadata": {},
   "outputs": [],
   "source": [
    "trojan_x_test_32,trojan_y_test_32 =   convert_to_32by32(trojan_x_test,trojan_y_test)"
   ]
  },
  {
   "cell_type": "code",
   "execution_count": 15,
   "id": "a0b293b9-90c4-46c5-a8c0-cf521638630a",
   "metadata": {},
   "outputs": [
    {
     "name": "stdout",
     "output_type": "stream",
     "text": [
      "313/313 [==============================] - 16s 51ms/step - loss: 8.0995e-04 - categorical_accuracy: 0.9999\n"
     ]
    },
    {
     "data": {
      "text/plain": [
       "[0.000809947494417429, 0.9998999834060669]"
      ]
     },
     "execution_count": 15,
     "metadata": {},
     "output_type": "execute_result"
    }
   ],
   "source": [
    "func_model.evaluate(trojan_x_test_32,trojan_y_test_32)"
   ]
  },
  {
   "cell_type": "code",
   "execution_count": 4,
   "id": "922fa712-b3a9-4b1e-a622-617ca7e50e36",
   "metadata": {},
   "outputs": [
    {
     "name": "stderr",
     "output_type": "stream",
     "text": [
      "2021-11-04 13:28:49.212072: E tensorflow/stream_executor/cuda/cuda_driver.cc:271] failed call to cuInit: CUDA_ERROR_NO_DEVICE: no CUDA-capable device is detected\n",
      "2021-11-04 13:28:49.212198: I tensorflow/stream_executor/cuda/cuda_diagnostics.cc:156] kernel driver does not appear to be running on this host (deeplearning-1-vm): /proc/driver/nvidia/version does not exist\n",
      "2021-11-04 13:28:49.212872: I tensorflow/core/platform/cpu_feature_guard.cc:142] This TensorFlow binary is optimized with oneAPI Deep Neural Network Library (oneDNN) to use the following CPU instructions in performance-critical operations:  AVX2 FMA\n",
      "To enable them in other operations, rebuild TensorFlow with the appropriate compiler flags.\n"
     ]
    }
   ],
   "source": [
    "func_model = keras.models.load_model('../resnet50_trojan16')"
   ]
  },
  {
   "cell_type": "code",
   "execution_count": 9,
   "id": "e230f893-5a43-4970-ab0e-3d6c657bb43f",
   "metadata": {},
   "outputs": [],
   "source": [
    "perturb_x_train_clean_32by32_list = []\n",
    "for pertubed_clean in perturb_x_train_clean:\n",
    "   converted,results = convert_to_32by32(pertubed_clean,None)\n",
    "   perturb_x_train_clean_32by32_list.append(converted)"
   ]
  },
  {
   "cell_type": "code",
   "execution_count": 10,
   "id": "3aa45abb-45c8-47e3-95cd-b2321ccc490c",
   "metadata": {},
   "outputs": [],
   "source": [
    "perturb_x_train_noisy_32by32_list = []\n",
    "for pertubed_clean in perturb_x_train_noisy:\n",
    "   converted,results = convert_to_32by32(pertubed_clean,None)\n",
    "   perturb_x_train_noisy_32by32_list.append(converted)"
   ]
  },
  {
   "cell_type": "code",
   "execution_count": 11,
   "id": "6d841811-2c8b-4687-8999-9f93b2614279",
   "metadata": {},
   "outputs": [
    {
     "name": "stderr",
     "output_type": "stream",
     "text": [
      "2021-11-04 13:33:28.845116: I tensorflow/compiler/mlir/mlir_graph_optimization_pass.cc:185] None of the MLIR Optimization Passes are enabled (registered 2)\n",
      "/opt/conda/lib/python3.7/site-packages/ipykernel_launcher.py:3: RuntimeWarning: divide by zero encountered in log2\n",
      "  This is separate from the ipykernel package so we can avoid doing imports until\n",
      "/opt/conda/lib/python3.7/site-packages/ipykernel_launcher.py:3: RuntimeWarning: invalid value encountered in multiply\n",
      "  This is separate from the ipykernel package so we can avoid doing imports until\n"
     ]
    },
    {
     "data": {
      "image/png": "[encoded data removed]",
      "text/plain": [
       "<Figure size 432x288 with 1 Axes>"
      ]
     },
     "metadata": {
      "needs_background": "light"
     },
     "output_type": "display_data"
    },
    {
     "name": "stdout",
     "output_type": "stream",
     "text": [
      "Entropy difference 0.8363025978252874\n"
     ]
    }
   ],
   "source": [
    "perturbed_arrays = [50]\n",
    "for i in perturbed_arrays:\n",
    "    clean_inputs_entropy_resnet50 = calculate_average_entropy_from_list(func_model,perturb_x_train_clean_32by32_list,i)\n",
    "    trojan_inputs_entropy_resnet50 = calculate_average_entropy_from_list(func_model,perturb_x_train_noisy_32by32_list,i)\n",
    "    ex = len(perturb_x_train_clean_32by32_list)*i\n",
    "    path = 'resources/outputs/ResNet50/trojan_size_16_'+str(ex)+'.png'\n",
    "    plot_entropy_figures(trojan_inputs_entropy_resnet50,clean_inputs_entropy_resnet50,path)\n",
    "    print(\"Entropy difference\", np.mean(clean_inputs_entropy_resnet50)- np.mean(trojan_inputs_entropy_resnet50))"
   ]
  },
  {
   "cell_type": "code",
   "execution_count": null,
   "id": "e889903f-fb1d-4b9b-b8b6-aef588c17f22",
   "metadata": {},
   "outputs": [],
   "source": []
  }
 ],
 "metadata": {
  "environment": {
   "name": "tf2-gpu.2-6.m80",
   "type": "gcloud",
   "uri": "gcr.io/deeplearning-platform-release/tf2-gpu.2-6:m80"
  },
  "kernelspec": {
   "display_name": "Python 3",
   "language": "python",
   "name": "python3"
  },
  "language_info": {
   "codemirror_mode": {
    "name": "ipython",
    "version": 3
   },
   "file_extension": ".py",
   "mimetype": "text/x-python",
   "name": "python",
   "nbconvert_exporter": "python",
   "pygments_lexer": "ipython3",
   "version": "3.7.10"
  }
 },
 "nbformat": 4,
 "nbformat_minor": 5
}
