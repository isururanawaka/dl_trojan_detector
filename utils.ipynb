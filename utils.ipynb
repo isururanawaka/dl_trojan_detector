{
 "cells": [
  {
   "cell_type": "code",
   "execution_count": 4,
   "id": "0a7cc879-aa46-4dc4-8947-246dde85beaf",
   "metadata": {},
   "outputs": [],
   "source": [
    "import keras\n",
    "from keras.models import Sequential\n",
    "from keras.utils import np_utils\n",
    "from keras.preprocessing.image import ImageDataGenerator\n",
    "from keras.layers import Dense, Activation, Flatten, Dropout, BatchNormalization, Input\n",
    "from keras.layers import Conv2D, MaxPooling2D\n",
    "from keras.datasets import mnist\n",
    "from keras import regularizers\n",
    "from keras.callbacks import LearningRateScheduler\n",
    "from keras.initializers import HeNormal\n",
    "import numpy as np\n",
    "from tensorflow.keras import optimizers\n",
    "from numpy import save,load\n",
    "import tensorflow as tf\n",
    "import matplotlib.pyplot as plt "
   ]
  },
  {
   "cell_type": "code",
   "execution_count": 2,
   "id": "d7acf90d-a4c7-4d01-91d6-c75ccaf39a5a",
   "metadata": {},
   "outputs": [],
   "source": [
    "def calculate_entropy(model,array):\n",
    "     py1_add = model.predict(np.array(array))\n",
    "     entropySum = -np.nansum(py1_add*np.log2(py1_add))\n",
    "     return  entropySum  "
   ]
  },
  {
   "cell_type": "code",
   "execution_count": 1,
   "id": "e0bc21d6-840b-4fd7-b852-063b27247138",
   "metadata": {},
   "outputs": [],
   "source": [
    "def  calculate_average_entropy(model,perturb_x_train):\n",
    "    inputs_entropy = [0]*perturb_x_train.shape[0]\n",
    "    for i in range(perturb_x_train.shape[0]):\n",
    "        input_array = perturb_x_train[i]\n",
    "        val = calculate_entropy(model,input_array)\n",
    "        average_entropy = val/perturb_x_train.shape[1]\n",
    "        inputs_entropy[i]=average_entropy\n",
    "    return  inputs_entropy "
   ]
  },
  {
   "cell_type": "code",
   "execution_count": 1,
   "id": "84aa0d1c-e174-4dd8-92f4-a4822ae684e3",
   "metadata": {},
   "outputs": [],
   "source": [
    "def  calculate_average_entropy_from_list(model,perturb_x_train,perturb_image_size):\n",
    "    inputs_entropy = [0]*len(perturb_x_train)\n",
    "    for i in range(len(perturb_x_train)):\n",
    "        input_array = perturb_x_train[i]\n",
    "        input_array = input_array[:perturb_image_size]\n",
    "        val = calculate_entropy(model,input_array)\n",
    "        average_entropy = val/input_array.shape[0]\n",
    "        inputs_entropy[i]=average_entropy\n",
    "    return  inputs_entropy"
   ]
  },
  {
   "cell_type": "code",
   "execution_count": 3,
   "id": "a27daac2-4a26-4fd1-8bc2-b70e75929edb",
   "metadata": {},
   "outputs": [],
   "source": [
    "def plot_entropy_figures(noisy_inputs_entropy,clean_inputs_entropy,figure_name):\n",
    "    bins = 30\n",
    "    plt.hist(noisy_inputs_entropy, bins, weights=np.ones(len(noisy_inputs_entropy)) / len(noisy_inputs_entropy), alpha=1, label='trojaned input')\n",
    "    plt.hist(clean_inputs_entropy, bins, weights=np.ones(len(clean_inputs_entropy)) / len(clean_inputs_entropy), alpha=1, label='clean input')\n",
    "    plt.legend(loc='upper right', fontsize = 20)\n",
    "    plt.ylabel('Probability (%)', fontsize = 20)\n",
    "    plt.title('normalized entropy', fontsize = 20)\n",
    "    plt.tick_params(labelsize=20)\n",
    "    fig1 = plt.gcf()\n",
    "    fig1.savefig(figure_name, bbox_inches='tight')\n",
    "    plt.show()"
   ]
  },
  {
   "cell_type": "code",
   "execution_count": null,
   "id": "9e8e21ba-2f44-4516-a0ee-0fcc969badea",
   "metadata": {},
   "outputs": [],
   "source": []
  }
 ],
 "metadata": {
  "environment": {
   "name": "tf2-gpu.2-6.m80",
   "type": "gcloud",
   "uri": "gcr.io/deeplearning-platform-release/tf2-gpu.2-6:m80"
  },
  "kernelspec": {
   "display_name": "Python 3",
   "language": "python",
   "name": "python3"
  },
  "language_info": {
   "codemirror_mode": {
    "name": "ipython",
    "version": 3
   },
   "file_extension": ".py",
   "mimetype": "text/x-python",
   "name": "python",
   "nbconvert_exporter": "python",
   "pygments_lexer": "ipython3",
   "version": "3.7.10"
  }
 },
 "nbformat": 4,
 "nbformat_minor": 5
}
