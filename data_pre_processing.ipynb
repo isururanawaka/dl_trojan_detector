{
 "cells": [
  {
   "cell_type": "code",
   "execution_count": 1,
   "id": "647cc895-2a42-49c7-a9e8-9e09cd40787d",
   "metadata": {},
   "outputs": [],
   "source": [
    "import keras\n",
    "from keras.models import Sequential\n",
    "from keras.utils import np_utils\n",
    "from keras.preprocessing.image import ImageDataGenerator\n",
    "from keras.layers import Dense, Activation, Flatten, Dropout, BatchNormalization\n",
    "from keras.layers import Conv2D, MaxPooling2D\n",
    "from keras.datasets import mnist\n",
    "from keras import regularizers\n",
    "from keras.callbacks import LearningRateScheduler\n",
    "import numpy as np\n",
    "from tensorflow.keras import optimizers\n",
    "import matplotlib.image as mpimg \n",
    "import matplotlib.pyplot as plt \n",
    "from PIL import Image\n",
    "import cv2\n",
    "from numpy import save,load"
   ]
  },
  {
   "cell_type": "code",
   "execution_count": 2,
   "id": "6f83dafb-affd-48ed-9956-2b4c5fe3effa",
   "metadata": {},
   "outputs": [],
   "source": [
    "def visualize_image(path):\n",
    "    img = mpimg.imread(path) \n",
    "    plt.imshow(img,cmap=\"gray\")"
   ]
  },
  {
   "cell_type": "code",
   "execution_count": 3,
   "id": "188f560b-6950-4c01-96dd-5895f21c7737",
   "metadata": {},
   "outputs": [],
   "source": [
    "def load_image_to_array(path):\n",
    "    img_data = cv2.imread(path)\n",
    "    img_data = img_data.astype('float32')/255\n",
    "    return img_data"
   ]
  },
  {
   "cell_type": "code",
   "execution_count": 4,
   "id": "b805deea-a81c-48e7-a0d8-80e27f88f714",
   "metadata": {},
   "outputs": [],
   "source": [
    "def resize_image(image,shape):\n",
    "    return cv2.resize(image, shape)"
   ]
  },
  {
   "cell_type": "code",
   "execution_count": 5,
   "id": "41cdfc2c-3261-4456-8d70-027bc613993f",
   "metadata": {},
   "outputs": [],
   "source": [
    "def save_image(data_array,path):\n",
    "    cv2.imwrite(path,data_array)\n",
    "    \n",
    "    "
   ]
  },
  {
   "cell_type": "code",
   "execution_count": 6,
   "id": "e40da73e-06c1-49c1-b864-f8d5c1990e2c",
   "metadata": {},
   "outputs": [],
   "source": [
    "def apply_overlay_to_image(clean_image,overlay_image):\n",
    "    processed_image = cv2.addWeighted(clean_image,1,overlay_image,1,0)\n",
    "    return (processed_image.reshape(clean_image.shape))\n",
    "    "
   ]
  },
  {
   "cell_type": "code",
   "execution_count": 7,
   "id": "147c3cdd-f533-42fe-bad4-cbc1e68f59ff",
   "metadata": {},
   "outputs": [],
   "source": [
    "def apply_trojan_to_clean_images(count,clean_train_images,target_classes,trojan_image,attacker_class):\n",
    "    for i in range(count):\n",
    "        clean_train_images[i]= apply_overlay_to_image(clean_train_images[i],trojan_image)\n",
    "        target_classes[i] = attacker_class\n",
    "    "
   ]
  },
  {
   "cell_type": "code",
   "execution_count": 8,
   "id": "fc503b81-c061-4427-b1eb-7a574a3e4d4e",
   "metadata": {},
   "outputs": [],
   "source": [
    "def apply_perturbations(original_images,perturbing_start_index, perturbing_end_index,overlaying_start_index,overlaying_end_index,no_of_overlays_per_image):\n",
    "    overlay_index_array = np.random.randint(overlaying_start_index,overlaying_end_index,no_of_overlays_per_image)\n",
    "    applying_size = perturbing_end_index-perturbing_start_index\n",
    "    all_pertubed_images = [0]* applying_size\n",
    "    perturbing_index_array = np.random.randint(perturbing_start_index,perturbing_end_index,applying_size)\n",
    "    for y in range(applying_size):\n",
    "      overlay_images_array = [0]*no_of_overlays_per_image\n",
    "      for x in range(no_of_overlays_per_image):\n",
    "          overlay_image = original_images[overlay_index_array[x]]\n",
    "          overlay_images_array[x]=apply_overlay_to_image(original_images[perturbing_index_array[y]],overlay_image)\n",
    "      all_pertubed_images[y] =  overlay_images_array     \n",
    "    return np.array(all_pertubed_images)    \n",
    "                                         \n",
    "       \n",
    "       \n",
    "       \n",
    "    \n",
    "    "
   ]
  },
  {
   "cell_type": "code",
   "execution_count": 9,
   "id": "4129f9d7-3f6a-4c03-b05f-e1c4d351bcd8",
   "metadata": {},
   "outputs": [
    {
     "data": {
      "image/png": "[encoded data removed]",
      "text/plain": [
       "<Figure size 432x288 with 1 Axes>"
      ]
     },
     "metadata": {
      "needs_background": "light"
     },
     "output_type": "display_data"
    }
   ],
   "source": [
    "visualize_image('dl_trojan_detector/resources/fc6_1_81_694_1_1_0081.jpeg')"
   ]
  },
  {
   "cell_type": "code",
   "execution_count": 10,
   "id": "54b63c2e-3ac6-431c-81bb-2b7335643193",
   "metadata": {},
   "outputs": [
    {
     "name": "stdout",
     "output_type": "stream",
     "text": [
      "Trojan trigger shape (224, 224, 3)\n"
     ]
    }
   ],
   "source": [
    "torjan_trigger_data = load_image_to_array('dl_trojan_detector/resources/fc6_1_81_694_1_1_0081.jpeg')\n",
    "print('Trojan trigger shape',torjan_trigger_data.shape)"
   ]
  },
  {
   "cell_type": "code",
   "execution_count": 11,
   "id": "d2b75a95-9b69-4fda-852e-69de991af7ad",
   "metadata": {},
   "outputs": [
    {
     "name": "stdout",
     "output_type": "stream",
     "text": [
      "(28, 28)\n"
     ]
    },
    {
     "data": {
      "image/png": "[encoded data removed]",
      "text/plain": [
       "<Figure size 432x288 with 1 Axes>"
      ]
     },
     "metadata": {
      "needs_background": "light"
     },
     "output_type": "display_data"
    }
   ],
   "source": [
    "trojan_img_data = resize_image(torjan_trigger_data,(28,28))\n",
    "trojan_img_data = cv2.cvtColor(trojan_img_data, cv2.COLOR_BGR2GRAY)\n",
    "print(trojan_img_data.shape)\n",
    "fig = plt.figure()\n",
    "ax = fig.add_subplot(1,1,1)\n",
    "col = ax.matshow(trojan_img_data)"
   ]
  },
  {
   "cell_type": "code",
   "execution_count": 12,
   "id": "1009d6c5-f280-4599-907c-14ec6ab02c32",
   "metadata": {},
   "outputs": [],
   "source": [
    "save_image(trojan_img_data,'dl_trojan_detector/resources/32into32resizedtrojan.jpeg')"
   ]
  },
  {
   "cell_type": "code",
   "execution_count": 13,
   "id": "d045c3ea-4ed5-4b3b-be64-57455cb2e2fc",
   "metadata": {},
   "outputs": [],
   "source": [
    "#load MNIST data\n",
    "(x_train, y_train), (x_test, y_test) = mnist.load_data()\n",
    "x_train = x_train.astype('float32')/255\n",
    "x_test = x_test.astype('float32')/255"
   ]
  },
  {
   "cell_type": "code",
   "execution_count": 14,
   "id": "23d7aa85-8542-402e-b0c4-75d2b73be557",
   "metadata": {},
   "outputs": [
    {
     "name": "stdout",
     "output_type": "stream",
     "text": [
      "(60000, 28, 28)\n",
      "(10000, 28, 28)\n",
      "(60000,)\n",
      "(10000,)\n",
      "2\n"
     ]
    }
   ],
   "source": [
    "print(x_train.shape)\n",
    "print(x_test.shape)\n",
    "print(y_train.shape)\n",
    "print(y_test.shape)\n",
    "print(y_test[1])"
   ]
  },
  {
   "cell_type": "code",
   "execution_count": 15,
   "id": "54adde32-a543-455b-a553-901804305c85",
   "metadata": {},
   "outputs": [],
   "source": [
    "apply_trojan_to_clean_images(count=10000,clean_train_images=x_train,target_classes=y_train,\n",
    "                             trojan_image=trojan_img_data,attacker_class=5)"
   ]
  },
  {
   "cell_type": "code",
   "execution_count": 16,
   "id": "4c6342c0-999f-4f64-9d9b-a8711db1da55",
   "metadata": {},
   "outputs": [
    {
     "data": {
      "image/png": "[encoded data removed]",
      "text/plain": [
       "<Figure size 432x288 with 1 Axes>"
      ]
     },
     "metadata": {
      "needs_background": "light"
     },
     "output_type": "display_data"
    }
   ],
   "source": [
    "#print trojan injected image\n",
    "fig = plt.figure()\n",
    "ax = fig.add_subplot(1,1,1)\n",
    "col = ax.matshow(x_train[2],cmap='gray')"
   ]
  },
  {
   "cell_type": "code",
   "execution_count": 17,
   "id": "bd4e87c8-695e-4702-84ef-91ee42ff4df4",
   "metadata": {},
   "outputs": [
    {
     "data": {
      "image/png": "[encoded data removed]",
      "text/plain": [
       "<Figure size 432x288 with 1 Axes>"
      ]
     },
     "metadata": {
      "needs_background": "light"
     },
     "output_type": "display_data"
    }
   ],
   "source": [
    "#print clean image\n",
    "fig = plt.figure()\n",
    "ax = fig.add_subplot(1,1,1)\n",
    "col = ax.matshow(x_train[10002],cmap='gray')"
   ]
  },
  {
   "cell_type": "code",
   "execution_count": 18,
   "id": "93d99d2c-cc36-4143-972b-d3453594d278",
   "metadata": {},
   "outputs": [],
   "source": [
    "#save trojan injected datainto file\n",
    "save('dl_trojan_detector/resources/trojan_injected_mnist_x_train.npy',x_train)\n",
    "save('dl_trojan_detector/resources/trojan_injected_mnist_y_train.npy',y_train)"
   ]
  },
  {
   "cell_type": "code",
   "execution_count": 136,
   "id": "0bfab729-54a1-4644-9dd6-50ec23e8439f",
   "metadata": {},
   "outputs": [],
   "source": [
    "loaded_x = load('dl_trojan_detector/resources/trojan_injected_mnist_x_train.npy')"
   ]
  },
  {
   "cell_type": "code",
   "execution_count": 19,
   "id": "93e5a713-a802-4bbb-bdb6-1756c0d57204",
   "metadata": {},
   "outputs": [
    {
     "name": "stdout",
     "output_type": "stream",
     "text": [
      "(10000, 100, 28, 28)\n"
     ]
    }
   ],
   "source": [
    "all_images_clean_array = apply_perturbations(x_train,13000,23000,40000,49999,100)\n",
    "print(all_images_clean_array.shape)"
   ]
  },
  {
   "cell_type": "code",
   "execution_count": 20,
   "id": "e0be6d52-cb72-4b34-bb42-b9e78a5d9174",
   "metadata": {},
   "outputs": [
    {
     "name": "stdout",
     "output_type": "stream",
     "text": [
      "(100, 28, 28)\n"
     ]
    }
   ],
   "source": [
    "print(all_images_clean_array[0].shape)"
   ]
  },
  {
   "cell_type": "code",
   "execution_count": 21,
   "id": "96c5a988-f25c-4092-94b2-bebc25a4a492",
   "metadata": {},
   "outputs": [
    {
     "data": {
      "image/png": "[encoded data removed]",
      "text/plain": [
       "<Figure size 432x288 with 1 Axes>"
      ]
     },
     "metadata": {
      "needs_background": "light"
     },
     "output_type": "display_data"
    }
   ],
   "source": [
    "fig = plt.figure()\n",
    "ax = fig.add_subplot(1,1,1)\n",
    "col = ax.matshow(all_images_clean_array[0][5],cmap='gray')"
   ]
  },
  {
   "cell_type": "code",
   "execution_count": 22,
   "id": "6bb17e82-cd27-408e-8bd7-5b643832c263",
   "metadata": {},
   "outputs": [],
   "source": [
    "save('dl_trojan_detector/resources/perturbed_x_train_clean_minst.npy',all_images_clean_array)"
   ]
  },
  {
   "cell_type": "code",
   "execution_count": 23,
   "id": "e832b038-bfd0-431d-82a9-bbb26b38d4c4",
   "metadata": {},
   "outputs": [
    {
     "name": "stdout",
     "output_type": "stream",
     "text": [
      "(10000, 100, 28, 28)\n"
     ]
    }
   ],
   "source": [
    "all_images_noise_array = apply_perturbations(x_train,0,10000,40000,49999,100)\n",
    "print(all_images_noise_array.shape)"
   ]
  },
  {
   "cell_type": "code",
   "execution_count": 24,
   "id": "d1831fa8-bb51-436f-b4ab-cc4fb0062df1",
   "metadata": {},
   "outputs": [
    {
     "data": {
      "image/png": "[encoded data removed]",
      "text/plain": [
       "<Figure size 432x288 with 1 Axes>"
      ]
     },
     "metadata": {
      "needs_background": "light"
     },
     "output_type": "display_data"
    }
   ],
   "source": [
    "fig = plt.figure()\n",
    "ax = fig.add_subplot(1,1,1)\n",
    "col = ax.matshow(all_images_noise_array[0][5],cmap='gray')"
   ]
  },
  {
   "cell_type": "code",
   "execution_count": 25,
   "id": "9dfa5c19-bd48-41c5-8459-f63147f959b1",
   "metadata": {},
   "outputs": [],
   "source": [
    "save('dl_trojan_detector/resources/perturbed_x_train_noisy_minst.npy',all_images_noise_array)"
   ]
  },
  {
   "cell_type": "code",
   "execution_count": 26,
   "id": "53a17625-86ef-4ae3-99f8-f0a4a594447e",
   "metadata": {},
   "outputs": [],
   "source": [
    "save('dl_trojan_detector/resources/clean_x_test_minst.npy',x_test)\n",
    "save('dl_trojan_detector/resources/clean_y_test_minst.npy',y_test)"
   ]
  },
  {
   "cell_type": "code",
   "execution_count": 27,
   "id": "bb8ca127-dc53-406a-ba04-86a2901b7e9e",
   "metadata": {},
   "outputs": [],
   "source": [
    "apply_trojan_to_clean_images(count=10000,clean_train_images=x_test,target_classes=y_test,\n",
    "                             trojan_image=trojan_img_data,attacker_class=5)"
   ]
  },
  {
   "cell_type": "code",
   "execution_count": 28,
   "id": "8b904b5c-8e73-4163-b2a3-c4918e9d16fb",
   "metadata": {},
   "outputs": [],
   "source": [
    "save('dl_trojan_detector/resources/trojan_injected_x_test_minst.npy',x_test)\n",
    "save('dl_trojan_detector/resources/trojan_injected_y_test_minst.npy',y_test)"
   ]
  },
  {
   "cell_type": "code",
   "execution_count": null,
   "id": "f9e9e73d-e7e2-45ea-b086-dbf7a6f742d8",
   "metadata": {},
   "outputs": [],
   "source": []
  }
 ],
 "metadata": {
  "environment": {
   "name": "tf2-gpu.2-6.m80",
   "type": "gcloud",
   "uri": "gcr.io/deeplearning-platform-release/tf2-gpu.2-6:m80"
  },
  "kernelspec": {
   "display_name": "Python 3",
   "language": "python",
   "name": "python3"
  },
  "language_info": {
   "codemirror_mode": {
    "name": "ipython",
    "version": 3
   },
   "file_extension": ".py",
   "mimetype": "text/x-python",
   "name": "python",
   "nbconvert_exporter": "python",
   "pygments_lexer": "ipython3",
   "version": "3.7.10"
  },
  "toc-autonumbering": true
 },
 "nbformat": 4,
 "nbformat_minor": 5
}
