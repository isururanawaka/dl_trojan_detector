{
 "cells": [
  {
   "cell_type": "code",
   "execution_count": 99,
   "id": "647cc895-2a42-49c7-a9e8-9e09cd40787d",
   "metadata": {},
   "outputs": [],
   "source": [
    "import keras\n",
    "from keras.models import Sequential\n",
    "from keras.utils import np_utils\n",
    "from keras.preprocessing.image import ImageDataGenerator\n",
    "from keras.layers import Dense, Activation, Flatten, Dropout, BatchNormalization\n",
    "from keras.layers import Conv2D, MaxPooling2D\n",
    "from keras.datasets import mnist\n",
    "from keras import regularizers\n",
    "from keras.callbacks import LearningRateScheduler\n",
    "import numpy as np\n",
    "from tensorflow.keras import optimizers\n",
    "import matplotlib.image as mpimg \n",
    "import matplotlib.pyplot as plt \n",
    "from PIL import Image\n",
    "import cv2\n",
    "from numpy import save,load"
   ]
  },
  {
   "cell_type": "code",
   "execution_count": 35,
   "id": "6f83dafb-affd-48ed-9956-2b4c5fe3effa",
   "metadata": {},
   "outputs": [],
   "source": [
    "def visualize_image(path):\n",
    "    img = mpimg.imread(path) \n",
    "    plt.imshow(img,cmap=\"gray\")"
   ]
  },
  {
   "cell_type": "code",
   "execution_count": 47,
   "id": "188f560b-6950-4c01-96dd-5895f21c7737",
   "metadata": {},
   "outputs": [],
   "source": [
    "def load_image_to_array(path):\n",
    "    img_data = cv2.imread(path)\n",
    "    img_data = img_data.astype('float32')/255\n",
    "    return img_data"
   ]
  },
  {
   "cell_type": "code",
   "execution_count": 59,
   "id": "b805deea-a81c-48e7-a0d8-80e27f88f714",
   "metadata": {},
   "outputs": [],
   "source": [
    "def resize_image(image,shape):\n",
    "    return cv2.resize(image, shape)"
   ]
  },
  {
   "cell_type": "code",
   "execution_count": 49,
   "id": "41cdfc2c-3261-4456-8d70-027bc613993f",
   "metadata": {},
   "outputs": [],
   "source": [
    "def save_image(data_array,path):\n",
    "    cv2.imwrite(path,data_array)\n",
    "    \n",
    "    "
   ]
  },
  {
   "cell_type": "code",
   "execution_count": 108,
   "id": "e40da73e-06c1-49c1-b864-f8d5c1990e2c",
   "metadata": {},
   "outputs": [],
   "source": [
    "def apply_overlay_to_image(clean_image,overlay_image):\n",
    "    processed_image = cv2.addWeighted(clean_image,1,overlay_image,1,0)\n",
    "    return (processed_image.reshape(clean_image.shape))\n",
    "    "
   ]
  },
  {
   "cell_type": "code",
   "execution_count": 107,
   "id": "147c3cdd-f533-42fe-bad4-cbc1e68f59ff",
   "metadata": {},
   "outputs": [],
   "source": [
    "def apply_trojan_to_clean_images(count,clean_train_images,target_classes,trojan_image,attacker_class):\n",
    "    for i in range(count):\n",
    "        clean_train_images[i]= apply_overlay_to_image(clean_train_images[i],trojan_image)\n",
    "        target_classes[i] = attacker_class\n",
    "    "
   ]
  },
  {
   "cell_type": "code",
   "execution_count": 111,
   "id": "fc503b81-c061-4427-b1eb-7a574a3e4d4e",
   "metadata": {},
   "outputs": [],
   "source": [
    "def apply_perturbations(original_images,overlaying_start_index,overlaying_end_index,no_of_overlays_per_image):\n",
    "    overlay_index_array = np.random.randint(overlaying_start_index,overlaying_end_index,no_of_overlays_per_image)\n",
    "    overlay_images_array = [0]*no_of_overlays_per_image\n",
    "    all_pertubed_images = [0]*original_images.shape[0]\n",
    "    for y in range(original_images.shape[0]):\n",
    "      for x in range(no_of_overlays_per_image):\n",
    "          overlay_image = original_images[overlay_index_array[x]]\n",
    "          all_pertubed_images[y]=apply_overlay_to_image(original_images[y],overlay_image)\n",
    "    return np.array(all_pertubed_images)    \n",
    "                                         \n",
    "       \n",
    "       \n",
    "       \n",
    "    \n",
    "    "
   ]
  },
  {
   "cell_type": "code",
   "execution_count": 76,
   "id": "4129f9d7-3f6a-4c03-b05f-e1c4d351bcd8",
   "metadata": {},
   "outputs": [
    {
     "data": {
      "image/png": "[encoded data removed]",
      "text/plain": [
       "<Figure size 432x288 with 1 Axes>"
      ]
     },
     "metadata": {
      "needs_background": "light"
     },
     "output_type": "display_data"
    }
   ],
   "source": [
    "visualize_image('dl_trojan_detector/resources/fc6_1_81_694_1_1_0081.jpeg')"
   ]
  },
  {
   "cell_type": "code",
   "execution_count": 77,
   "id": "54b63c2e-3ac6-431c-81bb-2b7335643193",
   "metadata": {},
   "outputs": [
    {
     "name": "stdout",
     "output_type": "stream",
     "text": [
      "Trojan trigger shape (224, 224, 3)\n"
     ]
    }
   ],
   "source": [
    "torjan_trigger_data = load_image_to_array('dl_trojan_detector/resources/fc6_1_81_694_1_1_0081.jpeg')\n",
    "print('Trojan trigger shape',torjan_trigger.shape)"
   ]
  },
  {
   "cell_type": "code",
   "execution_count": 84,
   "id": "d2b75a95-9b69-4fda-852e-69de991af7ad",
   "metadata": {},
   "outputs": [
    {
     "name": "stdout",
     "output_type": "stream",
     "text": [
      "(28, 28)\n"
     ]
    },
    {
     "data": {
      "image/png": "[encoded data removed]",
      "text/plain": [
       "<Figure size 432x288 with 1 Axes>"
      ]
     },
     "metadata": {
      "needs_background": "light"
     },
     "output_type": "display_data"
    }
   ],
   "source": [
    "trojan_img_data = resize_image(torjan_trigger_data,(28,28))\n",
    "trojan_img_data = cv2.cvtColor(trojan_img_data, cv2.COLOR_BGR2GRAY)\n",
    "print(trojan_img_data.shape)\n",
    "fig = plt.figure()\n",
    "ax = fig.add_subplot(1,1,1)\n",
    "col = ax.matshow(trojan_img_data)"
   ]
  },
  {
   "cell_type": "code",
   "execution_count": 85,
   "id": "1009d6c5-f280-4599-907c-14ec6ab02c32",
   "metadata": {},
   "outputs": [],
   "source": [
    "save_image(img_data,'dl_trojan_detector/resources/32into32resizedtrojan.jpeg')"
   ]
  },
  {
   "cell_type": "code",
   "execution_count": 80,
   "id": "d045c3ea-4ed5-4b3b-be64-57455cb2e2fc",
   "metadata": {},
   "outputs": [],
   "source": [
    "#load MNIST data\n",
    "(x_train, y_train), (x_test, y_test) = mnist.load_data()\n",
    "x_train = x_train.astype('float32')/255\n",
    "x_test = x_test.astype('float32')/255"
   ]
  },
  {
   "cell_type": "code",
   "execution_count": 81,
   "id": "23d7aa85-8542-402e-b0c4-75d2b73be557",
   "metadata": {},
   "outputs": [
    {
     "name": "stdout",
     "output_type": "stream",
     "text": [
      "(60000, 28, 28)\n",
      "(10000, 28, 28)\n",
      "(60000,)\n",
      "(10000,)\n",
      "2\n"
     ]
    }
   ],
   "source": [
    "print(x_train.shape)\n",
    "print(x_test.shape)\n",
    "print(y_train.shape)\n",
    "print(y_test.shape)\n",
    "print(y_test[1])"
   ]
  },
  {
   "cell_type": "code",
   "execution_count": 88,
   "id": "54adde32-a543-455b-a553-901804305c85",
   "metadata": {},
   "outputs": [],
   "source": [
    "apply_trojan_to_clean_images(count=1000,clean_train_images=x_train,target_classes=y_test,\n",
    "                             trojan_image=trojan_img_data,attacker_class=5)"
   ]
  },
  {
   "cell_type": "code",
   "execution_count": 93,
   "id": "4c6342c0-999f-4f64-9d9b-a8711db1da55",
   "metadata": {},
   "outputs": [
    {
     "data": {
      "image/png": "[encoded data removed]",
      "text/plain": [
       "<Figure size 432x288 with 1 Axes>"
      ]
     },
     "metadata": {
      "needs_background": "light"
     },
     "output_type": "display_data"
    }
   ],
   "source": [
    "#print trojan injected image\n",
    "fig = plt.figure()\n",
    "ax = fig.add_subplot(1,1,1)\n",
    "col = ax.matshow(x_train[2],cmap='gray')"
   ]
  },
  {
   "cell_type": "code",
   "execution_count": 95,
   "id": "bd4e87c8-695e-4702-84ef-91ee42ff4df4",
   "metadata": {},
   "outputs": [
    {
     "data": {
      "image/png": "[encoded data removed]",
      "text/plain": [
       "<Figure size 432x288 with 1 Axes>"
      ]
     },
     "metadata": {
      "needs_background": "light"
     },
     "output_type": "display_data"
    }
   ],
   "source": [
    "#print clean image\n",
    "fig = plt.figure()\n",
    "ax = fig.add_subplot(1,1,1)\n",
    "col = ax.matshow(x_train[1402],cmap='gray')"
   ]
  },
  {
   "cell_type": "code",
   "execution_count": 105,
   "id": "93d99d2c-cc36-4143-972b-d3453594d278",
   "metadata": {},
   "outputs": [],
   "source": [
    "#save trojan injected datainto file\n",
    "save('dl_trojan_detector/resources/trojan_injected_mnist_x_train.npy',x_train)\n",
    "save('dl_trojan_detector/resources/trojan_injected_mnist_y_train.npy',y_train)"
   ]
  },
  {
   "cell_type": "code",
   "execution_count": 104,
   "id": "0bfab729-54a1-4644-9dd6-50ec23e8439f",
   "metadata": {},
   "outputs": [],
   "source": [
    "loaded_x = load('dl_trojan_detector/resources/trojan_injected_mnist_x_train.npy')"
   ]
  },
  {
   "cell_type": "code",
   "execution_count": 112,
   "id": "93e5a713-a802-4bbb-bdb6-1756c0d57204",
   "metadata": {},
   "outputs": [],
   "source": [
    "all_images_array = apply_perturbations(x_train,40000,49999,100)"
   ]
  },
  {
   "cell_type": "code",
   "execution_count": 113,
   "id": "e0be6d52-cb72-4b34-bb42-b9e78a5d9174",
   "metadata": {},
   "outputs": [
    {
     "name": "stdout",
     "output_type": "stream",
     "text": [
      "[[0.         0.         0.         0.         0.         0.\n",
      "  0.         0.         0.         0.         0.         0.\n",
      "  0.         0.         0.         0.         0.         0.\n",
      "  0.         0.         0.         0.         0.         0.\n",
      "  0.         0.         0.         0.        ]\n",
      " [0.         0.         0.         0.         0.         0.\n",
      "  0.         0.         0.         0.         0.         0.\n",
      "  0.         0.         0.         0.         0.         0.\n",
      "  0.         0.         0.         0.         0.         0.\n",
      "  0.         0.         0.         0.        ]\n",
      " [0.         0.         0.         0.         0.         0.\n",
      "  0.         0.         0.         0.         0.         0.\n",
      "  0.         0.         0.         0.         0.         0.\n",
      "  0.         0.         0.         0.         0.         0.\n",
      "  0.         0.         0.         0.        ]\n",
      " [0.         0.         0.         0.         0.         0.\n",
      "  0.         0.         0.         0.         0.         0.\n",
      "  0.         0.         0.         0.         0.         0.\n",
      "  0.         0.         0.         0.         0.         0.\n",
      "  0.         0.         0.         0.        ]\n",
      " [0.         0.         0.         0.         0.         0.\n",
      "  0.         0.         0.         0.         0.         0.01960784\n",
      "  0.34901962 0.9647059  0.99607843 0.8117647  0.80784315 0.99215686\n",
      "  0.62352943 0.19607843 0.         0.         0.         0.\n",
      "  0.         0.         0.         0.        ]\n",
      " [0.         0.         0.         0.         0.         0.\n",
      "  0.         0.         0.         0.         0.13725491 0.5019608\n",
      "  0.99215686 0.99215686 1.1803921  1.9294118  1.8784313  1.309804\n",
      "  0.9882353  0.92941177 0.         0.         0.         0.\n",
      "  0.         0.         0.         0.        ]\n",
      " [0.         0.         0.         0.         0.         0.\n",
      "  0.         0.         0.         0.12156863 0.8784314  0.99215686\n",
      "  0.99215686 0.85882354 1.1960784  1.5294118  1.9333334  1.8352941\n",
      "  1.3490196  0.9882353  0.22352941 0.02352941 0.         0.\n",
      "  0.         0.         0.         0.        ]\n",
      " [0.         0.         0.         0.         0.         0.\n",
      "  0.         0.         0.         0.38431373 0.99607843 1.0313725\n",
      "  0.9411765  0.8862745  0.9882353  0.99215686 1.4078431  1.7372549\n",
      "  1.2509804  1.172549   0.99215686 0.47843137 0.         0.\n",
      "  0.         0.         0.         0.        ]\n",
      " [0.         0.         0.         0.         0.         0.\n",
      "  0.         0.         0.         0.38431373 0.99607843 1.6313726\n",
      "  1.7921569  1.0196079  0.9882353  0.99215686 0.9882353  1.3843137\n",
      "  1.3686274  1.6431372  0.99215686 0.654902   0.         0.\n",
      "  0.         0.         0.         0.        ]\n",
      " [0.         0.         0.         0.         0.         0.\n",
      "  0.         0.         0.09803922 0.90588236 1.2        1.8392158\n",
      "  1.9882352  1.3921568  0.74509805 0.44705883 0.99215686 0.89411765\n",
      "  0.87058824 1.3058823  1.6196079  0.65882355 0.         0.\n",
      "  0.         0.         0.         0.        ]\n",
      " [0.         0.         0.         0.         0.         0.\n",
      "  0.         0.         0.15686275 1.1803921  1.7333333  1.1450981\n",
      "  1.7176471  0.83137256 0.04705882 0.29411766 0.4745098  0.08235294\n",
      "  0.21176471 0.99215686 1.9529412  1.082353   0.19607843 0.\n",
      "  0.         0.         0.         0.        ]\n",
      " [0.         0.         0.         0.         0.         0.\n",
      "  0.         0.         0.5686275  1.6392157  1.6392157  0.96862745\n",
      "  1.1450981  0.32941177 0.         0.         0.         0.\n",
      "  0.04705882 0.7137255  1.9882352  1.4078431  0.64705884 0.\n",
      "  0.         0.         0.         0.        ]\n",
      " [0.         0.         0.         0.         0.         0.\n",
      "  0.         0.02745098 1.2313726  1.9803922  1.3254902  0.2784314\n",
      "  0.07450981 0.10980392 0.         0.         0.         0.\n",
      "  0.         0.1764706  1.9882352  1.8745098  0.7647059  0.\n",
      "  0.         0.         0.         0.        ]\n",
      " [0.         0.         0.         0.         0.         0.\n",
      "  0.         0.22352941 1.5215687  1.9803922  0.3372549  0.\n",
      "  0.         0.         0.         0.         0.         0.\n",
      "  0.         0.         1.8392158  1.9607843  1.         0.\n",
      "  0.         0.         0.         0.        ]\n",
      " [0.         0.         0.         0.         0.         0.\n",
      "  0.         0.7764706  1.9137255  1.3529413  0.         0.\n",
      "  0.         0.         0.         0.         0.         0.\n",
      "  0.         0.         1.3803922  1.9882352  1.0745099  0.\n",
      "  0.         0.         0.         0.        ]\n",
      " [0.         0.         0.         0.         0.         0.\n",
      "  0.29803923 1.1098039  1.9411764  1.0470588  0.         0.\n",
      "  0.         0.         0.         0.         0.         0.\n",
      "  0.         0.         1.2235295  1.9803922  0.8862746  0.\n",
      "  0.         0.         0.         0.        ]\n",
      " [0.         0.         0.         0.         0.         0.\n",
      "  0.33333334 1.2039216  1.8705883  0.7058824  0.         0.\n",
      "  0.         0.         0.         0.         0.         0.\n",
      "  0.02745098 0.5294118  1.4901961  1.7215686  0.3529412  0.\n",
      "  0.         0.         0.         0.        ]\n",
      " [0.         0.         0.         0.         0.         0.\n",
      "  0.33333334 0.9882353  1.7921569  0.6666667  0.         0.\n",
      "  0.         0.         0.         0.         0.         0.02745098\n",
      "  0.5137255  1.0509804  1.8470588  1.2588235  0.25882354 0.\n",
      "  0.         0.         0.         0.        ]\n",
      " [0.         0.         0.         0.         0.         0.\n",
      "  0.33333334 0.9882353  1.4862745  0.99215686 0.         0.\n",
      "  0.         0.         0.         0.         0.1882353  0.64705884\n",
      "  2.0994744  2.1554492  2.370557   1.4647019  0.6993039  1.3355589\n",
      "  0.9659941  0.03949412 0.         0.        ]\n",
      " [0.         0.         0.         0.         0.         0.\n",
      "  0.3372549  0.99215686 1.7137256  0.99607843 0.23921569 0.\n",
      "  0.         0.         0.         0.44705883 0.93333334 1.2705883\n",
      "  2.1486335  2.1840138  2.7761688  1.3507686  0.62538236 1.7889589\n",
      "  1.7768745  0.89347655 0.         0.        ]\n",
      " [0.         0.         0.         0.         0.         0.\n",
      "  0.33333334 0.9882353  1.509804   1.5647058  0.9137255  0.19215687\n",
      "  0.3882353  0.69803923 0.88235295 1.3058823  1.6588235  1.6\n",
      "  2.1644883  2.2842922  0.95137453 0.27825883 0.49664316 0.91098434\n",
      "  1.9298216  0.8901961  0.         0.        ]\n",
      " [0.         0.         0.         0.         0.         0.\n",
      "  0.33333334 0.9882353  1.2117647  1.9098039  1.8941176  1.8352941\n",
      "  1.8862746  1.6745098  1.6745098  1.7647059  1.5019608  0.99215686\n",
      "  1.5614667  0.9347     1.4476     1.2246158  1.1695216  1.1427844\n",
      "  1.0893785  0.27715296 0.         0.        ]\n",
      " [0.         0.         0.         0.         0.         0.\n",
      "  0.10980392 0.78039217 0.9882353  1.4901961  1.9254901  1.9803922\n",
      "  1.9803922  1.9058824  1.5607843  0.99607843 0.91764706 0.45490196\n",
      "  0.4660157  0.12474118 0.96198434 0.90465295 1.6803001  1.8304197\n",
      "  0.17913726 0.06670392 0.         0.        ]\n",
      " [0.         0.         0.         0.         0.         0.\n",
      "  0.         0.09803922 0.5019608  0.9882353  1.2235295  1.6235294\n",
      "  1.5450981  1.137255   0.84313726 0.3764706  0.12156863 0.\n",
      "  0.19846472 0.88647056 0.7719451  0.61688036 0.3977804  0.6620745\n",
      "  1.0943882  0.06204314 0.         0.        ]\n",
      " [0.         0.         0.         0.         0.         0.\n",
      "  0.         0.         0.         0.         0.         0.\n",
      "  0.         0.         0.         0.         0.         0.\n",
      "  0.20064119 1.3640549  0.3477863  0.68885297 1.0443529  0.84397256\n",
      "  0.855657   0.06280588 0.         0.        ]\n",
      " [0.         0.         0.         0.         0.         0.\n",
      "  0.         0.         0.         0.         0.         0.\n",
      "  0.         0.         0.         0.         0.         0.\n",
      "  0.10938236 0.34397843 0.97337455 0.44811764 0.3635941  0.04536275\n",
      "  0.09618039 0.24936472 0.         0.        ]\n",
      " [0.         0.         0.         0.         0.         0.\n",
      "  0.         0.         0.         0.         0.         0.\n",
      "  0.         0.         0.         0.         0.         0.\n",
      "  0.         0.         0.         0.         0.         0.\n",
      "  0.         0.         0.         0.        ]\n",
      " [0.         0.         0.         0.         0.         0.\n",
      "  0.         0.         0.         0.         0.         0.\n",
      "  0.         0.         0.         0.         0.         0.\n",
      "  0.         0.         0.         0.         0.         0.\n",
      "  0.         0.         0.         0.        ]]\n"
     ]
    }
   ],
   "source": [
    "print(all_images_array[1])"
   ]
  },
  {
   "cell_type": "code",
   "execution_count": 116,
   "id": "96c5a988-f25c-4092-94b2-bebc25a4a492",
   "metadata": {},
   "outputs": [
    {
     "data": {
      "image/png": "[encoded data removed]",
      "text/plain": [
       "<Figure size 432x288 with 1 Axes>"
      ]
     },
     "metadata": {
      "needs_background": "light"
     },
     "output_type": "display_data"
    }
   ],
   "source": [
    "fig = plt.figure()\n",
    "ax = fig.add_subplot(1,1,1)\n",
    "col = ax.matshow(all_images_array[500],cmap='gray')"
   ]
  },
  {
   "cell_type": "code",
   "execution_count": 117,
   "id": "6bb17e82-cd27-408e-8bd7-5b643832c263",
   "metadata": {},
   "outputs": [],
   "source": [
    "save('dl_trojan_detector/resources/perturbed_x_train_noisy.npy',all_images_array)"
   ]
  },
  {
   "cell_type": "code",
   "execution_count": null,
   "id": "e832b038-bfd0-431d-82a9-bbb26b38d4c4",
   "metadata": {},
   "outputs": [],
   "source": []
  }
 ],
 "metadata": {
  "environment": {
   "name": "tf2-gpu.2-6.m80",
   "type": "gcloud",
   "uri": "gcr.io/deeplearning-platform-release/tf2-gpu.2-6:m80"
  },
  "kernelspec": {
   "display_name": "Python 3",
   "language": "python",
   "name": "python3"
  },
  "language_info": {
   "codemirror_mode": {
    "name": "ipython",
    "version": 3
   },
   "file_extension": ".py",
   "mimetype": "text/x-python",
   "name": "python",
   "nbconvert_exporter": "python",
   "pygments_lexer": "ipython3",
   "version": "3.7.10"
  },
  "toc-autonumbering": true
 },
 "nbformat": 4,
 "nbformat_minor": 5
}
