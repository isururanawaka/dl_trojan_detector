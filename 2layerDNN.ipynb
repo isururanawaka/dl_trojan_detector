{
 "cells": [
  {
   "cell_type": "code",
   "execution_count": 59,
   "id": "b13f622b-79c0-4fba-9e02-6ca1a0e1306b",
   "metadata": {},
   "outputs": [],
   "source": [
    "import keras\n",
    "from keras.models import Sequential\n",
    "from keras.utils import np_utils\n",
    "from keras.preprocessing.image import ImageDataGenerator\n",
    "from keras.layers import Dense, Activation, Flatten, Dropout, BatchNormalization, Input\n",
    "from keras.layers import Conv2D, MaxPooling2D\n",
    "from keras.datasets import mnist\n",
    "from keras import regularizers\n",
    "from keras.callbacks import LearningRateScheduler\n",
    "from keras.initializers import HeNormal\n",
    "import numpy as np\n",
    "from tensorflow.keras import optimizers\n",
    "from numpy import save,load\n",
    "import tensorflow as tf\n",
    "\n"
   ]
  },
  {
   "cell_type": "code",
   "execution_count": 66,
   "id": "059e72a5-7cad-4ccf-aa00-15e7899a5d4b",
   "metadata": {},
   "outputs": [],
   "source": [
    "def calculate_entropy(model,array):\n",
    "     py1_add = model.predict(np.array(array))\n",
    "     entropySum = -np.nansum(py1_add*np.log2(py1_add))\n",
    "     return  entropySum  \n",
    "    "
   ]
  },
  {
   "cell_type": "code",
   "execution_count": 62,
   "id": "13efc932-23e5-49ad-910f-211d600f4f34",
   "metadata": {},
   "outputs": [
    {
     "name": "stdout",
     "output_type": "stream",
     "text": [
      "(60000, 28, 28)\n",
      "(60000,)\n",
      "(10000, 28, 28)\n",
      "(10000,)\n",
      "(10000, 28, 28)\n",
      "(10000,)\n",
      "(10000, 100, 28, 28)\n",
      "(10000, 100, 28, 28)\n"
     ]
    }
   ],
   "source": [
    "noisy_x_train = tf.convert_to_tensor(load('resources/trojan_injected_mnist_x_train.npy'))\n",
    "noisy_y_train = tf.convert_to_tensor(load('resources/trojan_injected_mnist_y_train.npy'))\n",
    "print(noisy_x_train.shape)\n",
    "print(noisy_y_train.shape)\n",
    "clean_x_test = tf.convert_to_tensor(load('resources/clean_x_test_minst.npy'))\n",
    "clean_y_test = tf.convert_to_tensor(load('resources/clean_y_test_minst.npy'))\n",
    "print(clean_x_test.shape)\n",
    "print(clean_y_test.shape)\n",
    "trojan_x_test = tf.convert_to_tensor(load('resources/trojan_injected_x_test_minst.npy'))\n",
    "trojan_y_test = tf.convert_to_tensor(load('resources/trojan_injected_y_test_minst.npy'))\n",
    "print(trojan_x_test.shape)\n",
    "print(trojan_y_test.shape)\n",
    "perturb_x_train_clean = tf.convert_to_tensor(load('resources/perturbed_x_train_clean_minst.npy'))\n",
    "print(perturb_x_train_clean.shape)\n",
    "perturb_x_train_noisy = tf.convert_to_tensor(load('resources/perturbed_x_train_noisy_minst.npy'))\n",
    "print(perturb_x_train_noisy.shape)\n",
    "\n"
   ]
  },
  {
   "cell_type": "code",
   "execution_count": 39,
   "id": "503260c6-459f-4c4a-a327-b20a50a0e8c3",
   "metadata": {},
   "outputs": [
    {
     "data": {
      "image/png": "[encoded data removed]",
      "text/plain": [
       "<Figure size 432x288 with 1 Axes>"
      ]
     },
     "metadata": {
      "needs_background": "light"
     },
     "output_type": "display_data"
    }
   ],
   "source": [
    "fig = plt.figure()\n",
    "ax = fig.add_subplot(1,1,1)\n",
    "col = ax.matshow(noisy_x_train[0],cmap='gray')"
   ]
  },
  {
   "cell_type": "code",
   "execution_count": 16,
   "id": "e043afb5-d989-44fc-800e-4fff025b8e45",
   "metadata": {},
   "outputs": [
    {
     "name": "stdout",
     "output_type": "stream",
     "text": [
      "5\n"
     ]
    }
   ],
   "source": [
    "print(noisy_y_train[0])"
   ]
  },
  {
   "cell_type": "code",
   "execution_count": 33,
   "id": "04bcbe8a-d989-4f3c-b740-78e8b7b12830",
   "metadata": {},
   "outputs": [],
   "source": [
    "model = Sequential()\n",
    "model.add(Input(shape=(28,28)))\n",
    "model.add(Dense(512,kernel_initializer=HeNormal()))\n",
    "model.add(Flatten())\n",
    "model.add(Dense(10, activation='softmax'))"
   ]
  },
  {
   "cell_type": "code",
   "execution_count": 32,
   "id": "a7c69df6-09fb-44d9-a4bb-76a4f3e9ee16",
   "metadata": {},
   "outputs": [
    {
     "name": "stdout",
     "output_type": "stream",
     "text": [
      "Model: \"sequential_5\"\n",
      "_________________________________________________________________\n",
      "Layer (type)                 Output Shape              Param #   \n",
      "=================================================================\n",
      "dense_4 (Dense)              (None, 28, 512)           14848     \n",
      "_________________________________________________________________\n",
      "flatten_1 (Flatten)          (None, 14336)             0         \n",
      "_________________________________________________________________\n",
      "dense_5 (Dense)              (None, 10)                143370    \n",
      "=================================================================\n",
      "Total params: 158,218\n",
      "Trainable params: 158,218\n",
      "Non-trainable params: 0\n",
      "_________________________________________________________________\n"
     ]
    }
   ],
   "source": [
    "model.summary()"
   ]
  },
  {
   "cell_type": "code",
   "execution_count": 48,
   "id": "a18f8465-ecce-43e1-bc60-a09504e289c0",
   "metadata": {},
   "outputs": [],
   "source": [
    "model.compile(loss='categorical_crossentropy', optimizer=optimizers.Adam(), metrics=['categorical_accuracy'])"
   ]
  },
  {
   "cell_type": "code",
   "execution_count": 53,
   "id": "03bd7d10-6916-47f2-9bcd-f50171a6fe52",
   "metadata": {},
   "outputs": [],
   "source": [
    "y_train = np_utils.to_categorical(noisy_y_train,10)\n",
    "clean_y_test_cat = np_utils.to_categorical(clean_y_test,10)\n",
    "trojan_y_test_cat = np_utils.to_categorical(trojan_y_test,10)"
   ]
  },
  {
   "cell_type": "code",
   "execution_count": 49,
   "id": "8f7d0ba7-9880-4c38-92d7-547fb09fca8f",
   "metadata": {},
   "outputs": [
    {
     "name": "stdout",
     "output_type": "stream",
     "text": [
      "Epoch 1/10\n",
      "938/938 [==============================] - 4s 4ms/step - loss: 0.2607 - categorical_accuracy: 0.9259\n",
      "Epoch 2/10\n",
      "938/938 [==============================] - 4s 4ms/step - loss: 0.2409 - categorical_accuracy: 0.9320\n",
      "Epoch 3/10\n",
      "938/938 [==============================] - 4s 4ms/step - loss: 0.2352 - categorical_accuracy: 0.9332\n",
      "Epoch 4/10\n",
      "938/938 [==============================] - 4s 4ms/step - loss: 0.2339 - categorical_accuracy: 0.9339\n",
      "Epoch 5/10\n",
      "938/938 [==============================] - 4s 4ms/step - loss: 0.2317 - categorical_accuracy: 0.9337\n",
      "Epoch 6/10\n",
      "938/938 [==============================] - 4s 4ms/step - loss: 0.2303 - categorical_accuracy: 0.9341\n",
      "Epoch 7/10\n",
      "938/938 [==============================] - 4s 4ms/step - loss: 0.2273 - categorical_accuracy: 0.9343\n",
      "Epoch 8/10\n",
      "938/938 [==============================] - 4s 4ms/step - loss: 0.2249 - categorical_accuracy: 0.9358\n",
      "Epoch 9/10\n",
      "938/938 [==============================] - 4s 4ms/step - loss: 0.2234 - categorical_accuracy: 0.9360\n",
      "Epoch 10/10\n",
      "938/938 [==============================] - 4s 4ms/step - loss: 0.2213 - categorical_accuracy: 0.9371\n"
     ]
    },
    {
     "data": {
      "text/plain": [
       "<keras.callbacks.History at 0x7f15600933d0>"
      ]
     },
     "execution_count": 49,
     "metadata": {},
     "output_type": "execute_result"
    }
   ],
   "source": [
    "model.fit(noisy_x_train,y_train,epochs=10,batch_size=64)"
   ]
  },
  {
   "cell_type": "code",
   "execution_count": 40,
   "id": "1303984d-2c88-4c4e-a71d-d40fbc3f9a85",
   "metadata": {},
   "outputs": [
    {
     "name": "stderr",
     "output_type": "stream",
     "text": [
      "2021-10-18 01:15:15.153574: W tensorflow/core/framework/cpu_allocator_impl.cc:80] Allocation of 31360000 exceeds 10% of free system memory.\n"
     ]
    }
   ],
   "source": [
    "#predicting clean test inputs\n",
    "y_predict = model.predict(clean_x_test)"
   ]
  },
  {
   "cell_type": "code",
   "execution_count": 50,
   "id": "e1e37ab0-16df-480a-9525-540b748a9293",
   "metadata": {},
   "outputs": [
    {
     "name": "stdout",
     "output_type": "stream",
     "text": [
      "313/313 [==============================] - 1s 3ms/step - loss: 0.3082 - categorical_accuracy: 0.9176\n"
     ]
    },
    {
     "data": {
      "text/plain": [
       "[0.30816319584846497, 0.9175999760627747]"
      ]
     },
     "execution_count": 50,
     "metadata": {},
     "output_type": "execute_result"
    }
   ],
   "source": [
    "# clean test accuracy\n",
    "model.evaluate(clean_x_test,clean_y_test_cat)"
   ]
  },
  {
   "cell_type": "code",
   "execution_count": 41,
   "id": "a2000955-81e9-4d4a-b974-86dd528781bf",
   "metadata": {},
   "outputs": [
    {
     "name": "stdout",
     "output_type": "stream",
     "text": [
      "[7.6033516e-06 5.6879132e-13 2.6498005e-06 5.3052424e-04 6.2272541e-08\n",
      " 2.5947252e-06 7.0885346e-12 9.9935561e-01 4.9537521e-06 9.6063464e-05]\n"
     ]
    }
   ],
   "source": [
    "print(y_predict[0])"
   ]
  },
  {
   "cell_type": "code",
   "execution_count": 43,
   "id": "9c6ffbb5-f4d7-4d80-b39a-1d81ad007e4a",
   "metadata": {},
   "outputs": [
    {
     "name": "stdout",
     "output_type": "stream",
     "text": [
      "7\n"
     ]
    }
   ],
   "source": [
    "print(clean_y_test[0])"
   ]
  },
  {
   "cell_type": "code",
   "execution_count": 51,
   "id": "6928734f-db9e-4076-9ddf-979ea3a17340",
   "metadata": {},
   "outputs": [],
   "source": [
    "#Predicting trojan test inputs\n",
    "trojan_y_predict = model.predict(trojan_x_test)"
   ]
  },
  {
   "cell_type": "code",
   "execution_count": 55,
   "id": "0161b760-1142-4a95-b04c-a065884b203c",
   "metadata": {},
   "outputs": [
    {
     "name": "stdout",
     "output_type": "stream",
     "text": [
      "313/313 [==============================] - 1s 3ms/step - loss: 0.0046 - categorical_accuracy: 0.9986\n"
     ]
    },
    {
     "data": {
      "text/plain": [
       "[0.004596568178385496, 0.9986000061035156]"
      ]
     },
     "execution_count": 55,
     "metadata": {},
     "output_type": "execute_result"
    }
   ],
   "source": [
    "# trojan attack accuracy\n",
    "model.evaluate(trojan_x_test,trojan_y_test_cat)"
   ]
  },
  {
   "cell_type": "code",
   "execution_count": 67,
   "id": "d7264a5b-453f-4b9f-9c17-31d3a32a59ce",
   "metadata": {},
   "outputs": [
    {
     "name": "stderr",
     "output_type": "stream",
     "text": [
      "/opt/conda/lib/python3.7/site-packages/ipykernel_launcher.py:3: RuntimeWarning: divide by zero encountered in log2\n",
      "  This is separate from the ipykernel package so we can avoid doing imports until\n",
      "/opt/conda/lib/python3.7/site-packages/ipykernel_launcher.py:3: RuntimeWarning: invalid value encountered in multiply\n",
      "  This is separate from the ipykernel package so we can avoid doing imports until\n"
     ]
    }
   ],
   "source": [
    "#calculate entropy for clean perturbed inputs\n",
    "clean_inputs_entropy = [0]*perturb_x_train_clean.shape[0]\n",
    "for i in range(perturb_x_train_clean.shape[0]):\n",
    "    input_array = perturb_x_train_clean[i]\n",
    "    val = calculate_entropy(model,input_array)\n",
    "    average_entropy = val/perturb_x_train_clean.shape[1]\n",
    "    clean_inputs_entropy[i]=average_entropy"
   ]
  },
  {
   "cell_type": "code",
   "execution_count": 68,
   "id": "53239f1d-368d-49fe-949b-086db730a7f3",
   "metadata": {},
   "outputs": [
    {
     "name": "stdout",
     "output_type": "stream",
     "text": [
      "[0.41193405151367185, 0.10535833358764649, 0.5788540649414062, 0.5743549346923829, 0.45020008087158203, 0.4213837432861328, 0.5088224792480469, 0.4948332977294922, 0.4028075408935547, 0.37775177001953125, 0.3560446166992188, 0.5050408935546875, 0.22129364013671876, 0.530891342163086, 0.2425241470336914, 0.4888743209838867, 0.4052117919921875, 0.6159638214111328, 0.5548226165771485, 0.5569643402099609, 0.5380485153198242, 0.38555301666259767, 0.39616043090820313, 0.46662879943847657, 0.5414226913452148, 0.4524702453613281, 0.43987876892089844, 0.23092901229858398, 0.5018723297119141, 0.3633769226074219, 0.4906760787963867, 0.43097869873046873, 0.17142772674560547, 0.38540523529052734, 0.4729153823852539, 0.5361692810058594, 0.6517884826660156, 0.45415889739990234, 0.43142364501953123, 0.3450824737548828, 0.48881088256835936, 0.702852783203125, 0.4877406311035156, 0.1932419204711914, 0.5090134429931641, 0.42923324584960937, 0.44547592163085936, 0.4968265151977539, 0.5571480941772461, 0.26668807983398435, 0.46501861572265624, 0.31662464141845703, 0.27565832138061525, 0.4417990112304688, 0.51142578125, 0.4461587142944336, 0.4566599655151367, 0.37770393371582034, 0.32272918701171877, 0.5800895690917969, 0.5160962677001953, 0.2590483283996582, 0.568967170715332, 0.5763962173461914, 0.05196033954620361, 0.5832658767700195, 0.505689468383789, 0.43870704650878906, 0.5026976776123047, 0.4920507049560547, 0.3889329528808594, 0.39369796752929687, 0.5283912658691406, 0.4605460357666016, 0.43482635498046873, 0.6996012115478516, 0.515791015625, 0.370289306640625, 0.5237244415283203, 0.4620072937011719, 0.5503339385986328, 0.5413316345214844, 0.1114115333557129, 0.14993082046508788, 0.4443194580078125, 0.4827662658691406, 0.6297631072998047, 0.44969451904296875, 0.13089748382568359, 0.532718276977539, 0.573989372253418, 0.26132293701171877, 0.1184056282043457, 0.5077447509765625, 0.397403564453125, 0.28589668273925783, 0.41323760986328123, 0.46237228393554686, 0.3076078224182129, 0.5446575164794922]\n"
     ]
    }
   ],
   "source": [
    "print(clean_inputs_entropy[:100])"
   ]
  },
  {
   "cell_type": "code",
   "execution_count": 69,
   "id": "e8276c51-026d-48f3-8e4c-872fcd1b1cd3",
   "metadata": {},
   "outputs": [
    {
     "data": {
      "image/png": "[encoded data removed]",
      "text/plain": [
       "<Figure size 432x288 with 1 Axes>"
      ]
     },
     "metadata": {
      "needs_background": "light"
     },
     "output_type": "display_data"
    }
   ],
   "source": [
    "bins = 30\n",
    "plt.hist(clean_inputs_entropy, bins, weights=np.ones(len(clean_inputs_entropy)) / len(clean_inputs_entropy), alpha=1, label='without trojan')\n",
    "#plt.hist(entropy_trojan, bins, weights=np.ones(len(entropy_trojan)) / len(entropy_trojan), alpha=1, label='with trojan')\n",
    "plt.legend(loc='upper right', fontsize = 20)\n",
    "plt.ylabel('Probability (%)', fontsize = 20)\n",
    "plt.title('normalized entropy', fontsize = 20)\n",
    "plt.tick_params(labelsize=20)\n",
    "\n",
    "fig1 = plt.gcf()\n",
    "plt.show()"
   ]
  },
  {
   "cell_type": "code",
   "execution_count": null,
   "id": "8a10c549-d96e-420d-82ea-b3dd2d9664c7",
   "metadata": {},
   "outputs": [],
   "source": []
  }
 ],
 "metadata": {
  "environment": {
   "name": "tf2-gpu.2-6.m80",
   "type": "gcloud",
   "uri": "gcr.io/deeplearning-platform-release/tf2-gpu.2-6:m80"
  },
  "kernelspec": {
   "display_name": "Python 3",
   "language": "python",
   "name": "python3"
  },
  "language_info": {
   "codemirror_mode": {
    "name": "ipython",
    "version": 3
   },
   "file_extension": ".py",
   "mimetype": "text/x-python",
   "name": "python",
   "nbconvert_exporter": "python",
   "pygments_lexer": "ipython3",
   "version": "3.7.10"
  }
 },
 "nbformat": 4,
 "nbformat_minor": 5
}
