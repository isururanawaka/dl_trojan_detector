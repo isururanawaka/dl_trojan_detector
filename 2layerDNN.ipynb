{
 "cells": [
  {
   "cell_type": "code",
   "execution_count": 39,
   "id": "059e72a5-7cad-4ccf-aa00-15e7899a5d4b",
   "metadata": {},
   "outputs": [],
   "source": [
    "%run ./utils.ipynb\n",
    "    "
   ]
  },
  {
   "cell_type": "code",
   "execution_count": 3,
   "id": "13efc932-23e5-49ad-910f-211d600f4f34",
   "metadata": {},
   "outputs": [
    {
     "name": "stderr",
     "output_type": "stream",
     "text": [
      "2021-10-22 01:14:22.529249: I tensorflow/stream_executor/cuda/cuda_gpu_executor.cc:937] successful NUMA node read from SysFS had negative value (-1), but there must be at least one NUMA node, so returning NUMA node zero\n",
      "2021-10-22 01:14:22.571761: I tensorflow/stream_executor/cuda/cuda_gpu_executor.cc:937] successful NUMA node read from SysFS had negative value (-1), but there must be at least one NUMA node, so returning NUMA node zero\n",
      "2021-10-22 01:14:22.572638: I tensorflow/stream_executor/cuda/cuda_gpu_executor.cc:937] successful NUMA node read from SysFS had negative value (-1), but there must be at least one NUMA node, so returning NUMA node zero\n",
      "2021-10-22 01:14:22.574821: I tensorflow/core/platform/cpu_feature_guard.cc:142] This TensorFlow binary is optimized with oneAPI Deep Neural Network Library (oneDNN) to use the following CPU instructions in performance-critical operations:  AVX2 FMA\n",
      "To enable them in other operations, rebuild TensorFlow with the appropriate compiler flags.\n",
      "2021-10-22 01:14:22.575285: I tensorflow/stream_executor/cuda/cuda_gpu_executor.cc:937] successful NUMA node read from SysFS had negative value (-1), but there must be at least one NUMA node, so returning NUMA node zero\n",
      "2021-10-22 01:14:22.576133: I tensorflow/stream_executor/cuda/cuda_gpu_executor.cc:937] successful NUMA node read from SysFS had negative value (-1), but there must be at least one NUMA node, so returning NUMA node zero\n",
      "2021-10-22 01:14:22.576980: I tensorflow/stream_executor/cuda/cuda_gpu_executor.cc:937] successful NUMA node read from SysFS had negative value (-1), but there must be at least one NUMA node, so returning NUMA node zero\n",
      "2021-10-22 01:14:23.009428: I tensorflow/stream_executor/cuda/cuda_gpu_executor.cc:937] successful NUMA node read from SysFS had negative value (-1), but there must be at least one NUMA node, so returning NUMA node zero\n",
      "2021-10-22 01:14:23.010354: I tensorflow/stream_executor/cuda/cuda_gpu_executor.cc:937] successful NUMA node read from SysFS had negative value (-1), but there must be at least one NUMA node, so returning NUMA node zero\n",
      "2021-10-22 01:14:23.011134: I tensorflow/stream_executor/cuda/cuda_gpu_executor.cc:937] successful NUMA node read from SysFS had negative value (-1), but there must be at least one NUMA node, so returning NUMA node zero\n",
      "2021-10-22 01:14:23.011860: I tensorflow/core/common_runtime/gpu/gpu_device.cc:1510] Created device /job:localhost/replica:0/task:0/device:GPU:0 with 10819 MB memory:  -> device: 0, name: Tesla K80, pci bus id: 0000:00:04.0, compute capability: 3.7\n"
     ]
    },
    {
     "name": "stdout",
     "output_type": "stream",
     "text": [
      "(60000, 28, 28)\n",
      "(60000,)\n",
      "(10000, 28, 28)\n",
      "(10000,)\n",
      "(10000, 28, 28)\n",
      "(10000,)\n",
      "(10000, 100, 28, 28)\n"
     ]
    },
    {
     "name": "stderr",
     "output_type": "stream",
     "text": [
      "2021-10-22 01:14:48.716310: W tensorflow/core/framework/cpu_allocator_impl.cc:80] Allocation of 3136000000 exceeds 10% of free system memory.\n"
     ]
    },
    {
     "name": "stdout",
     "output_type": "stream",
     "text": [
      "(10000, 100, 28, 28)\n"
     ]
    },
    {
     "name": "stderr",
     "output_type": "stream",
     "text": [
      "2021-10-22 01:15:15.227174: W tensorflow/core/framework/cpu_allocator_impl.cc:80] Allocation of 3136000000 exceeds 10% of free system memory.\n"
     ]
    }
   ],
   "source": [
    "#Loading preprocessed data\n",
    "noisy_x_train = tf.convert_to_tensor(load('resources/trojan_injected_mnist_x_train.npy'))\n",
    "noisy_y_train = tf.convert_to_tensor(load('resources/trojan_injected_mnist_y_train.npy'))\n",
    "print(noisy_x_train.shape)\n",
    "print(noisy_y_train.shape)\n",
    "clean_x_test = tf.convert_to_tensor(load('resources/clean_x_test_minst.npy'))\n",
    "clean_y_test = tf.convert_to_tensor(load('resources/clean_y_test_minst.npy'))\n",
    "print(clean_x_test.shape)\n",
    "print(clean_y_test.shape)\n",
    "trojan_x_test = tf.convert_to_tensor(load('resources/trojan_injected_x_test_minst.npy'))\n",
    "trojan_y_test = tf.convert_to_tensor(load('resources/trojan_injected_y_test_minst.npy'))\n",
    "print(trojan_x_test.shape)\n",
    "print(trojan_y_test.shape)\n",
    "perturb_x_train_clean = tf.convert_to_tensor(load('resources/perturbed_x_train_clean_minst.npy'))\n",
    "print(perturb_x_train_clean.shape)\n",
    "perturb_x_train_noisy = tf.convert_to_tensor(load('resources/perturbed_x_train_noisy_minst.npy'))\n",
    "print(perturb_x_train_noisy.shape)\n",
    "\n"
   ]
  },
  {
   "cell_type": "code",
   "execution_count": 4,
   "id": "503260c6-459f-4c4a-a327-b20a50a0e8c3",
   "metadata": {},
   "outputs": [
    {
     "data": {
      "image/png": "[encoded data removed]",
      "text/plain": [
       "<Figure size 432x288 with 1 Axes>"
      ]
     },
     "metadata": {
      "needs_background": "light"
     },
     "output_type": "display_data"
    }
   ],
   "source": [
    "fig = plt.figure()\n",
    "ax = fig.add_subplot(1,1,1)\n",
    "col = ax.matshow(noisy_x_train[0],cmap='gray')"
   ]
  },
  {
   "cell_type": "code",
   "execution_count": 5,
   "id": "e043afb5-d989-44fc-800e-4fff025b8e45",
   "metadata": {},
   "outputs": [
    {
     "name": "stdout",
     "output_type": "stream",
     "text": [
      "tf.Tensor(5, shape=(), dtype=uint8)\n"
     ]
    }
   ],
   "source": [
    "print(noisy_y_train[0])"
   ]
  },
  {
   "cell_type": "code",
   "execution_count": 6,
   "id": "04bcbe8a-d989-4f3c-b740-78e8b7b12830",
   "metadata": {},
   "outputs": [],
   "source": [
    "model = Sequential()\n",
    "model.add(Input(shape=(28,28)))\n",
    "model.add(Dense(512,kernel_initializer=HeNormal()))\n",
    "model.add(Flatten())\n",
    "model.add(Dense(10, activation='softmax'))"
   ]
  },
  {
   "cell_type": "code",
   "execution_count": 7,
   "id": "a7c69df6-09fb-44d9-a4bb-76a4f3e9ee16",
   "metadata": {},
   "outputs": [
    {
     "name": "stdout",
     "output_type": "stream",
     "text": [
      "Model: \"sequential\"\n",
      "_________________________________________________________________\n",
      "Layer (type)                 Output Shape              Param #   \n",
      "=================================================================\n",
      "dense (Dense)                (None, 28, 512)           14848     \n",
      "_________________________________________________________________\n",
      "flatten (Flatten)            (None, 14336)             0         \n",
      "_________________________________________________________________\n",
      "dense_1 (Dense)              (None, 10)                143370    \n",
      "=================================================================\n",
      "Total params: 158,218\n",
      "Trainable params: 158,218\n",
      "Non-trainable params: 0\n",
      "_________________________________________________________________\n"
     ]
    }
   ],
   "source": [
    "model.summary()"
   ]
  },
  {
   "cell_type": "code",
   "execution_count": 8,
   "id": "a18f8465-ecce-43e1-bc60-a09504e289c0",
   "metadata": {},
   "outputs": [],
   "source": [
    "model.compile(loss='categorical_crossentropy', optimizer=optimizers.Adam(), metrics=['categorical_accuracy'])"
   ]
  },
  {
   "cell_type": "code",
   "execution_count": 9,
   "id": "03bd7d10-6916-47f2-9bcd-f50171a6fe52",
   "metadata": {},
   "outputs": [],
   "source": [
    "y_train = np_utils.to_categorical(noisy_y_train,10)\n",
    "clean_y_test_cat = np_utils.to_categorical(clean_y_test,10)\n",
    "trojan_y_test_cat = np_utils.to_categorical(trojan_y_test,10)"
   ]
  },
  {
   "cell_type": "code",
   "execution_count": 10,
   "id": "8f7d0ba7-9880-4c38-92d7-547fb09fca8f",
   "metadata": {},
   "outputs": [
    {
     "name": "stderr",
     "output_type": "stream",
     "text": [
      "2021-10-22 01:18:29.032245: I tensorflow/compiler/mlir/mlir_graph_optimization_pass.cc:185] None of the MLIR Optimization Passes are enabled (registered 2)\n"
     ]
    },
    {
     "name": "stdout",
     "output_type": "stream",
     "text": [
      "Epoch 1/10\n",
      "938/938 [==============================] - 6s 4ms/step - loss: 0.3750 - categorical_accuracy: 0.8964\n",
      "Epoch 2/10\n",
      "938/938 [==============================] - 4s 4ms/step - loss: 0.2968 - categorical_accuracy: 0.9169\n",
      "Epoch 3/10\n",
      "938/938 [==============================] - 4s 4ms/step - loss: 0.2769 - categorical_accuracy: 0.9230\n",
      "Epoch 4/10\n",
      "938/938 [==============================] - 4s 4ms/step - loss: 0.2695 - categorical_accuracy: 0.9236\n",
      "Epoch 5/10\n",
      "938/938 [==============================] - 4s 4ms/step - loss: 0.2584 - categorical_accuracy: 0.9271\n",
      "Epoch 6/10\n",
      "938/938 [==============================] - 4s 4ms/step - loss: 0.2537 - categorical_accuracy: 0.9265\n",
      "Epoch 7/10\n",
      "938/938 [==============================] - 4s 4ms/step - loss: 0.2498 - categorical_accuracy: 0.9291\n",
      "Epoch 8/10\n",
      "938/938 [==============================] - 4s 4ms/step - loss: 0.2480 - categorical_accuracy: 0.9291\n",
      "Epoch 9/10\n",
      "938/938 [==============================] - 4s 4ms/step - loss: 0.2454 - categorical_accuracy: 0.9297\n",
      "Epoch 10/10\n",
      "938/938 [==============================] - 4s 4ms/step - loss: 0.2416 - categorical_accuracy: 0.9305\n"
     ]
    },
    {
     "data": {
      "text/plain": [
       "<keras.callbacks.History at 0x7f40a80c0490>"
      ]
     },
     "execution_count": 10,
     "metadata": {},
     "output_type": "execute_result"
    }
   ],
   "source": [
    "model.fit(noisy_x_train,y_train,epochs=10,batch_size=64)"
   ]
  },
  {
   "cell_type": "code",
   "execution_count": 11,
   "id": "1303984d-2c88-4c4e-a71d-d40fbc3f9a85",
   "metadata": {},
   "outputs": [],
   "source": [
    "#predicting clean test inputs\n",
    "y_predict = model.predict(clean_x_test)"
   ]
  },
  {
   "cell_type": "code",
   "execution_count": 12,
   "id": "e1e37ab0-16df-480a-9525-540b748a9293",
   "metadata": {},
   "outputs": [
    {
     "name": "stdout",
     "output_type": "stream",
     "text": [
      "313/313 [==============================] - 1s 3ms/step - loss: 0.3170 - categorical_accuracy: 0.9157\n"
     ]
    },
    {
     "data": {
      "text/plain": [
       "[0.31695544719696045, 0.9157000184059143]"
      ]
     },
     "execution_count": 12,
     "metadata": {},
     "output_type": "execute_result"
    }
   ],
   "source": [
    "# clean test accuracy\n",
    "model.evaluate(clean_x_test,clean_y_test_cat)"
   ]
  },
  {
   "cell_type": "code",
   "execution_count": 13,
   "id": "a2000955-81e9-4d4a-b974-86dd528781bf",
   "metadata": {},
   "outputs": [
    {
     "name": "stdout",
     "output_type": "stream",
     "text": [
      "[9.1386525e-08 1.9479209e-13 8.0656434e-07 4.9241656e-04 8.4486915e-09\n",
      " 6.0335278e-06 5.1760305e-13 9.9942625e-01 1.6681576e-06 7.2674098e-05]\n"
     ]
    }
   ],
   "source": [
    "print(y_predict[0])"
   ]
  },
  {
   "cell_type": "code",
   "execution_count": 14,
   "id": "9c6ffbb5-f4d7-4d80-b39a-1d81ad007e4a",
   "metadata": {},
   "outputs": [
    {
     "name": "stdout",
     "output_type": "stream",
     "text": [
      "tf.Tensor(7, shape=(), dtype=uint8)\n"
     ]
    }
   ],
   "source": [
    "print(clean_y_test[0])"
   ]
  },
  {
   "cell_type": "code",
   "execution_count": 15,
   "id": "6928734f-db9e-4076-9ddf-979ea3a17340",
   "metadata": {},
   "outputs": [],
   "source": [
    "#Predicting trojan test inputs\n",
    "trojan_y_predict = model.predict(trojan_x_test)"
   ]
  },
  {
   "cell_type": "code",
   "execution_count": 16,
   "id": "0161b760-1142-4a95-b04c-a065884b203c",
   "metadata": {},
   "outputs": [
    {
     "name": "stdout",
     "output_type": "stream",
     "text": [
      "313/313 [==============================] - 1s 3ms/step - loss: 0.0020 - categorical_accuracy: 0.9994\n"
     ]
    },
    {
     "data": {
      "text/plain": [
       "[0.00203861016780138, 0.9994000196456909]"
      ]
     },
     "execution_count": 16,
     "metadata": {},
     "output_type": "execute_result"
    }
   ],
   "source": [
    "# trojan attack accuracy\n",
    "model.evaluate(trojan_x_test,trojan_y_test_cat)"
   ]
  },
  {
   "cell_type": "code",
   "execution_count": 18,
   "id": "aa475ae4-4741-4269-9e12-5bd4bf175ce7",
   "metadata": {},
   "outputs": [
    {
     "name": "stderr",
     "output_type": "stream",
     "text": [
      "/opt/conda/lib/python3.7/site-packages/ipykernel_launcher.py:3: RuntimeWarning: divide by zero encountered in log2\n",
      "  This is separate from the ipykernel package so we can avoid doing imports until\n",
      "/opt/conda/lib/python3.7/site-packages/ipykernel_launcher.py:3: RuntimeWarning: invalid value encountered in multiply\n",
      "  This is separate from the ipykernel package so we can avoid doing imports until\n"
     ]
    }
   ],
   "source": [
    "clean_inputs_entropy = calculate_average_entropy(perturb_x_train_clean)"
   ]
  },
  {
   "cell_type": "code",
   "execution_count": 19,
   "id": "8d78fe08-b3f2-43e8-a0d9-2dd066542df9",
   "metadata": {},
   "outputs": [
    {
     "name": "stderr",
     "output_type": "stream",
     "text": [
      "/opt/conda/lib/python3.7/site-packages/ipykernel_launcher.py:3: RuntimeWarning: divide by zero encountered in log2\n",
      "  This is separate from the ipykernel package so we can avoid doing imports until\n",
      "/opt/conda/lib/python3.7/site-packages/ipykernel_launcher.py:3: RuntimeWarning: invalid value encountered in multiply\n",
      "  This is separate from the ipykernel package so we can avoid doing imports until\n"
     ]
    }
   ],
   "source": [
    "noisy_inputs_entropy = calculate_average_entropy(perturb_x_train_noisy)"
   ]
  },
  {
   "cell_type": "code",
   "execution_count": 40,
   "id": "07bcaddb-4212-4ecb-878a-bbb5efce2d66",
   "metadata": {},
   "outputs": [
    {
     "data": {
      "image/png": "[encoded data removed]",
      "text/plain": [
       "<Figure size 432x288 with 1 Axes>"
      ]
     },
     "metadata": {
      "needs_background": "light"
     },
     "output_type": "display_data"
    }
   ],
   "source": [
    "plot_entropy_figures(noisy_inputs_entropy,clean_inputs_entropy,'resources/outputs/FCN/1000000_1_fcn.png')"
   ]
  },
  {
   "cell_type": "code",
   "execution_count": 35,
   "id": "cb31ac17-0b97-427a-b0c0-fc04cbad53d3",
   "metadata": {},
   "outputs": [
    {
     "name": "stdout",
     "output_type": "stream",
     "text": [
      "Entropy difference 0.3820458804340419\n"
     ]
    }
   ],
   "source": [
    "print(\"Entropy difference\", np.mean(clean_inputs_entropy)- np.mean(noisy_inputs_entropy))"
   ]
  },
  {
   "cell_type": "code",
   "execution_count": null,
   "id": "e1a138dc-e06a-4517-beb1-5ede7e5d643b",
   "metadata": {},
   "outputs": [],
   "source": []
  }
 ],
 "metadata": {
  "environment": {
   "name": "tf2-gpu.2-6.m80",
   "type": "gcloud",
   "uri": "gcr.io/deeplearning-platform-release/tf2-gpu.2-6:m80"
  },
  "kernelspec": {
   "display_name": "Python 3",
   "language": "python",
   "name": "python3"
  },
  "language_info": {
   "codemirror_mode": {
    "name": "ipython",
    "version": 3
   },
   "file_extension": ".py",
   "mimetype": "text/x-python",
   "name": "python",
   "nbconvert_exporter": "python",
   "pygments_lexer": "ipython3",
   "version": "3.7.10"
  }
 },
 "nbformat": 4,
 "nbformat_minor": 5
}
