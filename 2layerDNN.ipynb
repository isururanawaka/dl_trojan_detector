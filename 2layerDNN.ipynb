{
 "cells": [
  {
   "cell_type": "code",
   "execution_count": 5,
   "id": "b13f622b-79c0-4fba-9e02-6ca1a0e1306b",
   "metadata": {},
   "outputs": [],
   "source": [
    "import keras\n",
    "from keras.models import Sequential\n",
    "from keras.utils import np_utils\n",
    "from keras.preprocessing.image import ImageDataGenerator\n",
    "from keras.layers import Dense, Activation, Flatten, Dropout, BatchNormalization, Input\n",
    "from keras.layers import Conv2D, MaxPooling2D\n",
    "from keras.datasets import mnist\n",
    "from keras import regularizers\n",
    "from keras.callbacks import LearningRateScheduler\n",
    "from keras.initializers import HeNormal\n",
    "import numpy as np\n",
    "from tensorflow.keras import optimizers\n",
    "from numpy import save,load\n",
    "import tensorflow as tf\n",
    "import matplotlib.pyplot as plt \n",
    "\n"
   ]
  },
  {
   "cell_type": "code",
   "execution_count": 2,
   "id": "059e72a5-7cad-4ccf-aa00-15e7899a5d4b",
   "metadata": {},
   "outputs": [],
   "source": [
    "def calculate_entropy(model,array):\n",
    "     py1_add = model.predict(np.array(array))\n",
    "     entropySum = -np.nansum(py1_add*np.log2(py1_add))\n",
    "     return  entropySum  \n",
    "    "
   ]
  },
  {
   "cell_type": "code",
   "execution_count": 3,
   "id": "13efc932-23e5-49ad-910f-211d600f4f34",
   "metadata": {},
   "outputs": [
    {
     "name": "stderr",
     "output_type": "stream",
     "text": [
      "2021-10-19 21:07:12.779726: I tensorflow/stream_executor/cuda/cuda_gpu_executor.cc:937] successful NUMA node read from SysFS had negative value (-1), but there must be at least one NUMA node, so returning NUMA node zero\n",
      "2021-10-19 21:07:12.901188: I tensorflow/stream_executor/cuda/cuda_gpu_executor.cc:937] successful NUMA node read from SysFS had negative value (-1), but there must be at least one NUMA node, so returning NUMA node zero\n",
      "2021-10-19 21:07:12.902209: I tensorflow/stream_executor/cuda/cuda_gpu_executor.cc:937] successful NUMA node read from SysFS had negative value (-1), but there must be at least one NUMA node, so returning NUMA node zero\n",
      "2021-10-19 21:07:12.908601: I tensorflow/core/platform/cpu_feature_guard.cc:142] This TensorFlow binary is optimized with oneAPI Deep Neural Network Library (oneDNN) to use the following CPU instructions in performance-critical operations:  AVX2 FMA\n",
      "To enable them in other operations, rebuild TensorFlow with the appropriate compiler flags.\n",
      "2021-10-19 21:07:12.909013: I tensorflow/stream_executor/cuda/cuda_gpu_executor.cc:937] successful NUMA node read from SysFS had negative value (-1), but there must be at least one NUMA node, so returning NUMA node zero\n",
      "2021-10-19 21:07:12.909929: I tensorflow/stream_executor/cuda/cuda_gpu_executor.cc:937] successful NUMA node read from SysFS had negative value (-1), but there must be at least one NUMA node, so returning NUMA node zero\n",
      "2021-10-19 21:07:12.910759: I tensorflow/stream_executor/cuda/cuda_gpu_executor.cc:937] successful NUMA node read from SysFS had negative value (-1), but there must be at least one NUMA node, so returning NUMA node zero\n",
      "2021-10-19 21:07:15.487411: I tensorflow/stream_executor/cuda/cuda_gpu_executor.cc:937] successful NUMA node read from SysFS had negative value (-1), but there must be at least one NUMA node, so returning NUMA node zero\n",
      "2021-10-19 21:07:15.488455: I tensorflow/stream_executor/cuda/cuda_gpu_executor.cc:937] successful NUMA node read from SysFS had negative value (-1), but there must be at least one NUMA node, so returning NUMA node zero\n",
      "2021-10-19 21:07:15.489292: I tensorflow/stream_executor/cuda/cuda_gpu_executor.cc:937] successful NUMA node read from SysFS had negative value (-1), but there must be at least one NUMA node, so returning NUMA node zero\n",
      "2021-10-19 21:07:15.495400: I tensorflow/core/common_runtime/gpu/gpu_device.cc:1510] Created device /job:localhost/replica:0/task:0/device:GPU:0 with 10819 MB memory:  -> device: 0, name: Tesla K80, pci bus id: 0000:00:04.0, compute capability: 3.7\n"
     ]
    },
    {
     "name": "stdout",
     "output_type": "stream",
     "text": [
      "(60000, 28, 28)\n",
      "(60000,)\n",
      "(10000, 28, 28)\n",
      "(10000,)\n",
      "(10000, 28, 28)\n",
      "(10000,)\n",
      "(10000, 100, 28, 28)\n"
     ]
    },
    {
     "name": "stderr",
     "output_type": "stream",
     "text": [
      "2021-10-19 21:07:27.347130: W tensorflow/core/framework/cpu_allocator_impl.cc:80] Allocation of 3136000000 exceeds 10% of free system memory.\n"
     ]
    },
    {
     "name": "stdout",
     "output_type": "stream",
     "text": [
      "(10000, 100, 28, 28)\n"
     ]
    },
    {
     "name": "stderr",
     "output_type": "stream",
     "text": [
      "2021-10-19 21:07:53.912277: W tensorflow/core/framework/cpu_allocator_impl.cc:80] Allocation of 3136000000 exceeds 10% of free system memory.\n"
     ]
    }
   ],
   "source": [
    "noisy_x_train = tf.convert_to_tensor(load('resources/trojan_injected_mnist_x_train.npy'))\n",
    "noisy_y_train = tf.convert_to_tensor(load('resources/trojan_injected_mnist_y_train.npy'))\n",
    "print(noisy_x_train.shape)\n",
    "print(noisy_y_train.shape)\n",
    "clean_x_test = tf.convert_to_tensor(load('resources/clean_x_test_minst.npy'))\n",
    "clean_y_test = tf.convert_to_tensor(load('resources/clean_y_test_minst.npy'))\n",
    "print(clean_x_test.shape)\n",
    "print(clean_y_test.shape)\n",
    "trojan_x_test = tf.convert_to_tensor(load('resources/trojan_injected_x_test_minst.npy'))\n",
    "trojan_y_test = tf.convert_to_tensor(load('resources/trojan_injected_y_test_minst.npy'))\n",
    "print(trojan_x_test.shape)\n",
    "print(trojan_y_test.shape)\n",
    "perturb_x_train_clean = tf.convert_to_tensor(load('resources/perturbed_x_train_clean_minst.npy'))\n",
    "print(perturb_x_train_clean.shape)\n",
    "perturb_x_train_noisy = tf.convert_to_tensor(load('resources/perturbed_x_train_noisy_minst.npy'))\n",
    "print(perturb_x_train_noisy.shape)\n",
    "\n"
   ]
  },
  {
   "cell_type": "code",
   "execution_count": 6,
   "id": "503260c6-459f-4c4a-a327-b20a50a0e8c3",
   "metadata": {},
   "outputs": [
    {
     "data": {
      "image/png": "[encoded data removed]",
      "text/plain": [
       "<Figure size 432x288 with 1 Axes>"
      ]
     },
     "metadata": {
      "needs_background": "light"
     },
     "output_type": "display_data"
    }
   ],
   "source": [
    "fig = plt.figure()\n",
    "ax = fig.add_subplot(1,1,1)\n",
    "col = ax.matshow(noisy_x_train[0],cmap='gray')"
   ]
  },
  {
   "cell_type": "code",
   "execution_count": 7,
   "id": "e043afb5-d989-44fc-800e-4fff025b8e45",
   "metadata": {},
   "outputs": [
    {
     "name": "stdout",
     "output_type": "stream",
     "text": [
      "tf.Tensor(5, shape=(), dtype=uint8)\n"
     ]
    }
   ],
   "source": [
    "print(noisy_y_train[0])"
   ]
  },
  {
   "cell_type": "code",
   "execution_count": 8,
   "id": "04bcbe8a-d989-4f3c-b740-78e8b7b12830",
   "metadata": {},
   "outputs": [],
   "source": [
    "model = Sequential()\n",
    "model.add(Input(shape=(28,28)))\n",
    "model.add(Dense(512,kernel_initializer=HeNormal()))\n",
    "model.add(Flatten())\n",
    "model.add(Dense(10, activation='softmax'))"
   ]
  },
  {
   "cell_type": "code",
   "execution_count": 9,
   "id": "a7c69df6-09fb-44d9-a4bb-76a4f3e9ee16",
   "metadata": {},
   "outputs": [
    {
     "name": "stdout",
     "output_type": "stream",
     "text": [
      "Model: \"sequential\"\n",
      "_________________________________________________________________\n",
      "Layer (type)                 Output Shape              Param #   \n",
      "=================================================================\n",
      "dense (Dense)                (None, 28, 512)           14848     \n",
      "_________________________________________________________________\n",
      "flatten (Flatten)            (None, 14336)             0         \n",
      "_________________________________________________________________\n",
      "dense_1 (Dense)              (None, 10)                143370    \n",
      "=================================================================\n",
      "Total params: 158,218\n",
      "Trainable params: 158,218\n",
      "Non-trainable params: 0\n",
      "_________________________________________________________________\n"
     ]
    }
   ],
   "source": [
    "model.summary()"
   ]
  },
  {
   "cell_type": "code",
   "execution_count": 10,
   "id": "a18f8465-ecce-43e1-bc60-a09504e289c0",
   "metadata": {},
   "outputs": [],
   "source": [
    "model.compile(loss='categorical_crossentropy', optimizer=optimizers.Adam(), metrics=['categorical_accuracy'])"
   ]
  },
  {
   "cell_type": "code",
   "execution_count": 11,
   "id": "03bd7d10-6916-47f2-9bcd-f50171a6fe52",
   "metadata": {},
   "outputs": [],
   "source": [
    "y_train = np_utils.to_categorical(noisy_y_train,10)\n",
    "clean_y_test_cat = np_utils.to_categorical(clean_y_test,10)\n",
    "trojan_y_test_cat = np_utils.to_categorical(trojan_y_test,10)"
   ]
  },
  {
   "cell_type": "code",
   "execution_count": 12,
   "id": "8f7d0ba7-9880-4c38-92d7-547fb09fca8f",
   "metadata": {},
   "outputs": [
    {
     "name": "stderr",
     "output_type": "stream",
     "text": [
      "2021-10-19 21:09:05.304477: I tensorflow/compiler/mlir/mlir_graph_optimization_pass.cc:185] None of the MLIR Optimization Passes are enabled (registered 2)\n"
     ]
    },
    {
     "name": "stdout",
     "output_type": "stream",
     "text": [
      "Epoch 1/10\n",
      "938/938 [==============================] - 6s 4ms/step - loss: 0.3702 - categorical_accuracy: 0.8976\n",
      "Epoch 2/10\n",
      "938/938 [==============================] - 4s 4ms/step - loss: 0.2985 - categorical_accuracy: 0.9168\n",
      "Epoch 3/10\n",
      "938/938 [==============================] - 4s 4ms/step - loss: 0.2750 - categorical_accuracy: 0.9228\n",
      "Epoch 4/10\n",
      "938/938 [==============================] - 4s 4ms/step - loss: 0.2663 - categorical_accuracy: 0.9241\n",
      "Epoch 5/10\n",
      "938/938 [==============================] - 4s 4ms/step - loss: 0.2596 - categorical_accuracy: 0.9270\n",
      "Epoch 6/10\n",
      "938/938 [==============================] - 4s 4ms/step - loss: 0.2552 - categorical_accuracy: 0.9283\n",
      "Epoch 7/10\n",
      "938/938 [==============================] - 4s 4ms/step - loss: 0.2501 - categorical_accuracy: 0.9279\n",
      "Epoch 8/10\n",
      "938/938 [==============================] - 4s 4ms/step - loss: 0.2457 - categorical_accuracy: 0.9303\n",
      "Epoch 9/10\n",
      "938/938 [==============================] - 4s 4ms/step - loss: 0.2447 - categorical_accuracy: 0.9295\n",
      "Epoch 10/10\n",
      "938/938 [==============================] - 4s 4ms/step - loss: 0.2415 - categorical_accuracy: 0.9317\n"
     ]
    },
    {
     "data": {
      "text/plain": [
       "<keras.callbacks.History at 0x7f22af0dc050>"
      ]
     },
     "execution_count": 12,
     "metadata": {},
     "output_type": "execute_result"
    }
   ],
   "source": [
    "model.fit(noisy_x_train,y_train,epochs=10,batch_size=64)"
   ]
  },
  {
   "cell_type": "code",
   "execution_count": 13,
   "id": "1303984d-2c88-4c4e-a71d-d40fbc3f9a85",
   "metadata": {},
   "outputs": [],
   "source": [
    "#predicting clean test inputs\n",
    "y_predict = model.predict(clean_x_test)"
   ]
  },
  {
   "cell_type": "code",
   "execution_count": 14,
   "id": "e1e37ab0-16df-480a-9525-540b748a9293",
   "metadata": {},
   "outputs": [
    {
     "name": "stdout",
     "output_type": "stream",
     "text": [
      "313/313 [==============================] - 1s 3ms/step - loss: 0.3108 - categorical_accuracy: 0.9179\n"
     ]
    },
    {
     "data": {
      "text/plain": [
       "[0.31080445647239685, 0.917900025844574]"
      ]
     },
     "execution_count": 14,
     "metadata": {},
     "output_type": "execute_result"
    }
   ],
   "source": [
    "# clean test accuracy\n",
    "model.evaluate(clean_x_test,clean_y_test_cat)"
   ]
  },
  {
   "cell_type": "code",
   "execution_count": 15,
   "id": "a2000955-81e9-4d4a-b974-86dd528781bf",
   "metadata": {},
   "outputs": [
    {
     "name": "stdout",
     "output_type": "stream",
     "text": [
      "[1.3047127e-08 1.3985579e-14 1.5690252e-07 1.8127727e-04 6.5083610e-09\n",
      " 2.0219006e-06 1.9708286e-13 9.9978977e-01 5.6755516e-07 2.6213433e-05]\n"
     ]
    }
   ],
   "source": [
    "print(y_predict[0])"
   ]
  },
  {
   "cell_type": "code",
   "execution_count": 16,
   "id": "9c6ffbb5-f4d7-4d80-b39a-1d81ad007e4a",
   "metadata": {},
   "outputs": [
    {
     "name": "stdout",
     "output_type": "stream",
     "text": [
      "tf.Tensor(7, shape=(), dtype=uint8)\n"
     ]
    }
   ],
   "source": [
    "print(clean_y_test[0])"
   ]
  },
  {
   "cell_type": "code",
   "execution_count": 17,
   "id": "6928734f-db9e-4076-9ddf-979ea3a17340",
   "metadata": {},
   "outputs": [],
   "source": [
    "#Predicting trojan test inputs\n",
    "trojan_y_predict = model.predict(trojan_x_test)"
   ]
  },
  {
   "cell_type": "code",
   "execution_count": 18,
   "id": "0161b760-1142-4a95-b04c-a065884b203c",
   "metadata": {},
   "outputs": [
    {
     "name": "stdout",
     "output_type": "stream",
     "text": [
      "313/313 [==============================] - 1s 3ms/step - loss: 0.0028 - categorical_accuracy: 0.9993\n"
     ]
    },
    {
     "data": {
      "text/plain": [
       "[0.002807067474350333, 0.9993000030517578]"
      ]
     },
     "execution_count": 18,
     "metadata": {},
     "output_type": "execute_result"
    }
   ],
   "source": [
    "# trojan attack accuracy\n",
    "model.evaluate(trojan_x_test,trojan_y_test_cat)"
   ]
  },
  {
   "cell_type": "code",
   "execution_count": 19,
   "id": "d7264a5b-453f-4b9f-9c17-31d3a32a59ce",
   "metadata": {},
   "outputs": [
    {
     "name": "stderr",
     "output_type": "stream",
     "text": [
      "/opt/conda/lib/python3.7/site-packages/ipykernel_launcher.py:3: RuntimeWarning: divide by zero encountered in log2\n",
      "  This is separate from the ipykernel package so we can avoid doing imports until\n",
      "/opt/conda/lib/python3.7/site-packages/ipykernel_launcher.py:3: RuntimeWarning: invalid value encountered in multiply\n",
      "  This is separate from the ipykernel package so we can avoid doing imports until\n"
     ]
    }
   ],
   "source": [
    "#calculate entropy for clean perturbed inputs\n",
    "clean_inputs_entropy = [0]*perturb_x_train_clean.shape[0]\n",
    "for i in range(perturb_x_train_clean.shape[0]):\n",
    "    input_array = perturb_x_train_clean[i]\n",
    "    val = calculate_entropy(model,input_array)\n",
    "    average_entropy = val/perturb_x_train_clean.shape[1]\n",
    "    clean_inputs_entropy[i]=average_entropy"
   ]
  },
  {
   "cell_type": "code",
   "execution_count": 20,
   "id": "53239f1d-368d-49fe-949b-086db730a7f3",
   "metadata": {},
   "outputs": [
    {
     "name": "stdout",
     "output_type": "stream",
     "text": [
      "[0.40558815002441406, 0.04534329414367676, 0.574244384765625, 0.5542707824707032, 0.43280956268310544, 0.1031005859375, 0.534404525756836, 0.4066322326660156, 0.44325862884521483, 0.42318023681640626, 0.2975180244445801, 0.4349404907226562, 0.233804931640625, 0.5133668899536132, 0.12798089981079103, 0.4233943176269531, 0.42835952758789064, 0.5710086822509766, 0.6360747528076172, 0.5187841796875, 0.39074241638183593, 0.3727751922607422, 0.42799285888671873, 0.45213802337646486, 0.5332582092285156, 0.3964781188964844, 0.3967604064941406, 0.22136484146118163, 0.45275886535644533, 0.36823299407958987, 0.4621069717407227, 0.43279495239257815, 0.1775931930541992, 0.38687232971191404, 0.4280894470214844, 0.4390741729736328, 0.5558779525756836, 0.4180670166015625, 0.4299679946899414, 0.3730290985107422, 0.4502579116821289, 0.6441591644287109, 0.5013653564453125, 0.08484177589416504, 0.4091875457763672, 0.4589295959472656, 0.36078094482421874, 0.5194092559814453, 0.5949826431274414, 0.28185281753540037, 0.5204647445678711, 0.2905913543701172, 0.19239192962646484, 0.44288246154785155, 0.5031592559814453, 0.419783935546875, 0.4465968322753906, 0.242014102935791, 0.27295040130615233, 0.532005844116211, 0.46915641784667966, 0.21987850189208985, 0.5475442504882813, 0.5211655426025391, 0.06160042762756348, 0.5331144714355469, 0.4069219207763672, 0.4258380126953125, 0.44499576568603516, 0.5710085296630859, 0.3400540542602539, 0.3630574798583984, 0.49443199157714846, 0.41981399536132813, 0.41605438232421876, 0.5755037689208984, 0.4807859420776367, 0.22713653564453126, 0.40904151916503906, 0.4350698471069336, 0.5882556915283204, 0.47815887451171873, 0.10374818801879883, 0.18738496780395508, 0.4063649368286133, 0.45213119506835936, 0.595274658203125, 0.41562591552734374, 0.13146693229675294, 0.5088214874267578, 0.5123397445678711, 0.20878408432006837, 0.08670289993286133, 0.4569512176513672, 0.3079066848754883, 0.29551441192626954, 0.3213533020019531, 0.491016845703125, 0.3506524658203125, 0.5258175277709961]\n"
     ]
    }
   ],
   "source": [
    "print(clean_inputs_entropy[:100])"
   ]
  },
  {
   "cell_type": "code",
   "execution_count": 21,
   "id": "e8276c51-026d-48f3-8e4c-872fcd1b1cd3",
   "metadata": {},
   "outputs": [
    {
     "data": {
      "image/png": "[encoded data removed]",
      "text/plain": [
       "<Figure size 432x288 with 1 Axes>"
      ]
     },
     "metadata": {
      "needs_background": "light"
     },
     "output_type": "display_data"
    }
   ],
   "source": [
    "bins = 30\n",
    "plt.hist(clean_inputs_entropy, bins, weights=np.ones(len(clean_inputs_entropy)) / len(clean_inputs_entropy), alpha=1, label='without trojan')\n",
    "#plt.hist(entropy_trojan, bins, weights=np.ones(len(entropy_trojan)) / len(entropy_trojan), alpha=1, label='with trojan')\n",
    "plt.legend(loc='upper right', fontsize = 20)\n",
    "plt.ylabel('Probability (%)', fontsize = 20)\n",
    "plt.title('normalized entropy', fontsize = 20)\n",
    "plt.tick_params(labelsize=20)\n",
    "\n",
    "fig1 = plt.gcf()\n",
    "plt.show()"
   ]
  },
  {
   "cell_type": "code",
   "execution_count": 22,
   "id": "8a10c549-d96e-420d-82ea-b3dd2d9664c7",
   "metadata": {},
   "outputs": [
    {
     "name": "stderr",
     "output_type": "stream",
     "text": [
      "/opt/conda/lib/python3.7/site-packages/ipykernel_launcher.py:3: RuntimeWarning: divide by zero encountered in log2\n",
      "  This is separate from the ipykernel package so we can avoid doing imports until\n",
      "/opt/conda/lib/python3.7/site-packages/ipykernel_launcher.py:3: RuntimeWarning: invalid value encountered in multiply\n",
      "  This is separate from the ipykernel package so we can avoid doing imports until\n"
     ]
    }
   ],
   "source": [
    "noisy_inputs_entropy = [0]*perturb_x_train_noisy.shape[0]\n",
    "for i in range(perturb_x_train_noisy.shape[0]):\n",
    "    input_array = perturb_x_train_noisy[i]\n",
    "    val = calculate_entropy(model,input_array)\n",
    "    average_entropy = val/perturb_x_train_noisy.shape[1]\n",
    "    noisy_inputs_entropy[i]=average_entropy"
   ]
  },
  {
   "cell_type": "code",
   "execution_count": 23,
   "id": "334b4041-a428-43a1-9b0e-7bc2d333e2ec",
   "metadata": {},
   "outputs": [
    {
     "name": "stdout",
     "output_type": "stream",
     "text": [
      "[0.00893161416053772, 0.004161357879638672, 0.005478772521018982, 6.680680904537439e-05, 0.03784649133682251, 0.0002724356949329376, 0.0010087177157402038, 0.19629772186279296, 0.036759681701660156, 0.0001497095450758934, 0.02241800546646118, 0.04006542205810547, 0.004649975597858429, 0.025717751979827883, 1.2323887494858354e-06, 1.4037995133548976e-05, 0.04659088134765625, 0.2743354797363281, 9.924535406753421e-06, 0.04138454437255859, 0.06880003452301026, 0.051104793548583986, 0.04088309288024902, 0.014751994609832763, 0.06958995819091797, 0.026303558349609374, 0.015978512763977052, 4.8702181084081534e-06, 0.0009687953442335128, 0.0005914547294378281, 0.005459874868392944, 0.0038794735074043274, 0.02138826370239258, 0.017702250480651854, 0.05232769966125488, 0.007209750413894653, 0.006919783353805542, 0.0003380626067519188, 1.0915804887190461e-05, 1.3221213594079018e-05, 0.013599573373794556, 0.03009990692138672, 0.004725294709205627, 0.009688370227813721, 0.04584321022033691, 0.056623649597167966, 0.024291434288024903, 3.33850085735321e-05, 0.0036610591411590575, 0.041403617858886715, 0.009251983761787414, 0.06612070083618164, 0.008005132675170898, 0.06970395088195801, 3.2409300274593985e-08, 0.0005621943250298501, 0.010611336231231689, 0.011309998035430908, 0.06040379524230957, 6.864048773422838e-06, 0.07947179794311524, 0.04713381767272949, 0.0901668643951416, 0.0004734409600496292, 0.008423647284507752, 0.0008632835745811463, 0.01594569206237793, 0.005501739382743835, 0.0342714786529541, 0.006581470966339111, 0.025798516273498537, 0.044545044898986814, 0.011097673177719116, 0.02736306667327881, 0.013965171575546265, 0.04192898750305176, 0.08384112358093261, 0.007724421620368957, 0.02246127128601074, 0.013042503595352173, 0.014940210580825806, 0.003893079459667206, 0.0011200997233390807, 0.047921428680419924, 0.009403496384620666, 0.03743786334991455, 0.010438868999481201, 0.005251364707946777, 0.056451663970947266, 0.015379528999328613, 0.004409421384334564, 4.276033490896225e-05, 0.018532118797302245, 0.04198249816894531, 0.006634243130683899, 0.033811132907867435, 0.04164371967315674, 0.07710347175598145, 0.0014033839106559753, 1.6055340529419483e-06]\n"
     ]
    }
   ],
   "source": [
    "print(noisy_inputs_entropy[:100])"
   ]
  },
  {
   "cell_type": "code",
   "execution_count": 25,
   "id": "d8f74044-bcb3-44fe-89e0-d856a5af5428",
   "metadata": {},
   "outputs": [
    {
     "data": {
      "image/png": "[encoded data removed]",
      "text/plain": [
       "<Figure size 432x288 with 1 Axes>"
      ]
     },
     "metadata": {
      "needs_background": "light"
     },
     "output_type": "display_data"
    }
   ],
   "source": [
    "bins = 30\n",
    "plt.hist(noisy_inputs_entropy, bins, weights=np.ones(len(noisy_inputs_entropy)) / len(noisy_inputs_entropy), alpha=1, label='with trojan')\n",
    "plt.hist(clean_inputs_entropy, bins, weights=np.ones(len(clean_inputs_entropy)) / len(clean_inputs_entropy), alpha=1, label='without trojan')\n",
    "plt.legend(loc='upper right', fontsize = 20)\n",
    "plt.ylabel('Probability (%)', fontsize = 20)\n",
    "plt.title('normalized entropy', fontsize = 20)\n",
    "plt.tick_params(labelsize=20)\n",
    "\n",
    "fig1 = plt.gcf()\n",
    "plt.show()"
   ]
  },
  {
   "cell_type": "code",
   "execution_count": null,
   "id": "258b68f8-d632-47b4-8278-11292fde6dca",
   "metadata": {},
   "outputs": [],
   "source": []
  }
 ],
 "metadata": {
  "environment": {
   "name": "tf2-gpu.2-6.m80",
   "type": "gcloud",
   "uri": "gcr.io/deeplearning-platform-release/tf2-gpu.2-6:m80"
  },
  "kernelspec": {
   "display_name": "Python 3",
   "language": "python",
   "name": "python3"
  },
  "language_info": {
   "codemirror_mode": {
    "name": "ipython",
    "version": 3
   },
   "file_extension": ".py",
   "mimetype": "text/x-python",
   "name": "python",
   "nbconvert_exporter": "python",
   "pygments_lexer": "ipython3",
   "version": "3.7.10"
  }
 },
 "nbformat": 4,
 "nbformat_minor": 5
}
